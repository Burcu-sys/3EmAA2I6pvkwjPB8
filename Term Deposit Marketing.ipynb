{
 "cells": [
  {
   "cell_type": "code",
   "execution_count": 1,
   "metadata": {},
   "outputs": [],
   "source": [
    "import pandas as pd\n",
    "import numpy as np\n",
    "import seaborn as sns\n",
    "import matplotlib.pyplot as plt\n",
    "import statsmodels.api as sm\n",
    "from sklearn.preprocessing import scale \n",
    "from sklearn.model_selection import train_test_split, GridSearchCV, cross_val_score\n",
    "from sklearn.metrics import confusion_matrix, accuracy_score, classification_report\n",
    "from sklearn.metrics import roc_auc_score,roc_curve\n",
    "import statsmodels.formula.api as smf\n",
    "from sklearn.metrics import confusion_matrix as cm\n",
    "from sklearn.utils import resample\n",
    "from sklearn.metrics import mean_squared_error\n",
    "from sklearn.metrics import mean_absolute_error\n",
    "from sklearn.neighbors import KNeighborsClassifier\n",
    "from sklearn.discriminant_analysis import LinearDiscriminantAnalysis\n",
    "from sklearn.linear_model import LogisticRegression\n",
    "from sklearn.svm import SVC\n",
    "from sklearn.naive_bayes import GaussianNB\n",
    "from sklearn import tree\n",
    "from sklearn.metrics import cohen_kappa_score\n",
    "from sklearn.metrics import matthews_corrcoef\n",
    "from sklearn.ensemble import RandomForestClassifier\n",
    "from sklearn.ensemble import GradientBoostingClassifier\n",
    "from xgboost import XGBClassifier\n",
    "from lightgbm import LGBMClassifier\n",
    "from catboost import CatBoostClassifier\n",
    "\n",
    "from warnings import filterwarnings\n",
    "filterwarnings('ignore')"
   ]
  },
  {
   "cell_type": "code",
   "execution_count": 2,
   "metadata": {},
   "outputs": [],
   "source": [
    "data=pd.read_csv(\"term-deposit-marketing-2020.csv\")"
   ]
  },
  {
   "cell_type": "code",
   "execution_count": 3,
   "metadata": {},
   "outputs": [
    {
     "data": {
      "text/html": [
       "<div>\n",
       "<style scoped>\n",
       "    .dataframe tbody tr th:only-of-type {\n",
       "        vertical-align: middle;\n",
       "    }\n",
       "\n",
       "    .dataframe tbody tr th {\n",
       "        vertical-align: top;\n",
       "    }\n",
       "\n",
       "    .dataframe thead th {\n",
       "        text-align: right;\n",
       "    }\n",
       "</style>\n",
       "<table border=\"1\" class=\"dataframe\">\n",
       "  <thead>\n",
       "    <tr style=\"text-align: right;\">\n",
       "      <th></th>\n",
       "      <th>age</th>\n",
       "      <th>job</th>\n",
       "      <th>marital</th>\n",
       "      <th>education</th>\n",
       "      <th>default</th>\n",
       "      <th>balance</th>\n",
       "      <th>housing</th>\n",
       "      <th>loan</th>\n",
       "      <th>contact</th>\n",
       "      <th>day</th>\n",
       "      <th>month</th>\n",
       "      <th>duration</th>\n",
       "      <th>campaign</th>\n",
       "      <th>y</th>\n",
       "    </tr>\n",
       "  </thead>\n",
       "  <tbody>\n",
       "    <tr>\n",
       "      <th>0</th>\n",
       "      <td>58</td>\n",
       "      <td>management</td>\n",
       "      <td>married</td>\n",
       "      <td>tertiary</td>\n",
       "      <td>no</td>\n",
       "      <td>2143</td>\n",
       "      <td>yes</td>\n",
       "      <td>no</td>\n",
       "      <td>unknown</td>\n",
       "      <td>5</td>\n",
       "      <td>may</td>\n",
       "      <td>261</td>\n",
       "      <td>1</td>\n",
       "      <td>no</td>\n",
       "    </tr>\n",
       "    <tr>\n",
       "      <th>1</th>\n",
       "      <td>44</td>\n",
       "      <td>technician</td>\n",
       "      <td>single</td>\n",
       "      <td>secondary</td>\n",
       "      <td>no</td>\n",
       "      <td>29</td>\n",
       "      <td>yes</td>\n",
       "      <td>no</td>\n",
       "      <td>unknown</td>\n",
       "      <td>5</td>\n",
       "      <td>may</td>\n",
       "      <td>151</td>\n",
       "      <td>1</td>\n",
       "      <td>no</td>\n",
       "    </tr>\n",
       "    <tr>\n",
       "      <th>2</th>\n",
       "      <td>33</td>\n",
       "      <td>entrepreneur</td>\n",
       "      <td>married</td>\n",
       "      <td>secondary</td>\n",
       "      <td>no</td>\n",
       "      <td>2</td>\n",
       "      <td>yes</td>\n",
       "      <td>yes</td>\n",
       "      <td>unknown</td>\n",
       "      <td>5</td>\n",
       "      <td>may</td>\n",
       "      <td>76</td>\n",
       "      <td>1</td>\n",
       "      <td>no</td>\n",
       "    </tr>\n",
       "    <tr>\n",
       "      <th>3</th>\n",
       "      <td>47</td>\n",
       "      <td>blue-collar</td>\n",
       "      <td>married</td>\n",
       "      <td>unknown</td>\n",
       "      <td>no</td>\n",
       "      <td>1506</td>\n",
       "      <td>yes</td>\n",
       "      <td>no</td>\n",
       "      <td>unknown</td>\n",
       "      <td>5</td>\n",
       "      <td>may</td>\n",
       "      <td>92</td>\n",
       "      <td>1</td>\n",
       "      <td>no</td>\n",
       "    </tr>\n",
       "    <tr>\n",
       "      <th>4</th>\n",
       "      <td>33</td>\n",
       "      <td>unknown</td>\n",
       "      <td>single</td>\n",
       "      <td>unknown</td>\n",
       "      <td>no</td>\n",
       "      <td>1</td>\n",
       "      <td>no</td>\n",
       "      <td>no</td>\n",
       "      <td>unknown</td>\n",
       "      <td>5</td>\n",
       "      <td>may</td>\n",
       "      <td>198</td>\n",
       "      <td>1</td>\n",
       "      <td>no</td>\n",
       "    </tr>\n",
       "    <tr>\n",
       "      <th>...</th>\n",
       "      <td>...</td>\n",
       "      <td>...</td>\n",
       "      <td>...</td>\n",
       "      <td>...</td>\n",
       "      <td>...</td>\n",
       "      <td>...</td>\n",
       "      <td>...</td>\n",
       "      <td>...</td>\n",
       "      <td>...</td>\n",
       "      <td>...</td>\n",
       "      <td>...</td>\n",
       "      <td>...</td>\n",
       "      <td>...</td>\n",
       "      <td>...</td>\n",
       "    </tr>\n",
       "    <tr>\n",
       "      <th>39995</th>\n",
       "      <td>53</td>\n",
       "      <td>technician</td>\n",
       "      <td>married</td>\n",
       "      <td>tertiary</td>\n",
       "      <td>no</td>\n",
       "      <td>395</td>\n",
       "      <td>no</td>\n",
       "      <td>no</td>\n",
       "      <td>cellular</td>\n",
       "      <td>3</td>\n",
       "      <td>jun</td>\n",
       "      <td>107</td>\n",
       "      <td>1</td>\n",
       "      <td>no</td>\n",
       "    </tr>\n",
       "    <tr>\n",
       "      <th>39996</th>\n",
       "      <td>30</td>\n",
       "      <td>management</td>\n",
       "      <td>single</td>\n",
       "      <td>tertiary</td>\n",
       "      <td>no</td>\n",
       "      <td>3340</td>\n",
       "      <td>no</td>\n",
       "      <td>no</td>\n",
       "      <td>cellular</td>\n",
       "      <td>3</td>\n",
       "      <td>jun</td>\n",
       "      <td>238</td>\n",
       "      <td>3</td>\n",
       "      <td>yes</td>\n",
       "    </tr>\n",
       "    <tr>\n",
       "      <th>39997</th>\n",
       "      <td>54</td>\n",
       "      <td>admin</td>\n",
       "      <td>divorced</td>\n",
       "      <td>secondary</td>\n",
       "      <td>no</td>\n",
       "      <td>200</td>\n",
       "      <td>no</td>\n",
       "      <td>no</td>\n",
       "      <td>cellular</td>\n",
       "      <td>3</td>\n",
       "      <td>jun</td>\n",
       "      <td>170</td>\n",
       "      <td>1</td>\n",
       "      <td>yes</td>\n",
       "    </tr>\n",
       "    <tr>\n",
       "      <th>39998</th>\n",
       "      <td>34</td>\n",
       "      <td>management</td>\n",
       "      <td>married</td>\n",
       "      <td>tertiary</td>\n",
       "      <td>no</td>\n",
       "      <td>1047</td>\n",
       "      <td>no</td>\n",
       "      <td>no</td>\n",
       "      <td>cellular</td>\n",
       "      <td>3</td>\n",
       "      <td>jun</td>\n",
       "      <td>342</td>\n",
       "      <td>1</td>\n",
       "      <td>no</td>\n",
       "    </tr>\n",
       "    <tr>\n",
       "      <th>39999</th>\n",
       "      <td>38</td>\n",
       "      <td>technician</td>\n",
       "      <td>married</td>\n",
       "      <td>secondary</td>\n",
       "      <td>no</td>\n",
       "      <td>1442</td>\n",
       "      <td>yes</td>\n",
       "      <td>no</td>\n",
       "      <td>cellular</td>\n",
       "      <td>3</td>\n",
       "      <td>jun</td>\n",
       "      <td>113</td>\n",
       "      <td>1</td>\n",
       "      <td>no</td>\n",
       "    </tr>\n",
       "  </tbody>\n",
       "</table>\n",
       "<p>40000 rows × 14 columns</p>\n",
       "</div>"
      ],
      "text/plain": [
       "       age           job   marital  education default  balance housing loan  \\\n",
       "0       58    management   married   tertiary      no     2143     yes   no   \n",
       "1       44    technician    single  secondary      no       29     yes   no   \n",
       "2       33  entrepreneur   married  secondary      no        2     yes  yes   \n",
       "3       47   blue-collar   married    unknown      no     1506     yes   no   \n",
       "4       33       unknown    single    unknown      no        1      no   no   \n",
       "...    ...           ...       ...        ...     ...      ...     ...  ...   \n",
       "39995   53    technician   married   tertiary      no      395      no   no   \n",
       "39996   30    management    single   tertiary      no     3340      no   no   \n",
       "39997   54         admin  divorced  secondary      no      200      no   no   \n",
       "39998   34    management   married   tertiary      no     1047      no   no   \n",
       "39999   38    technician   married  secondary      no     1442     yes   no   \n",
       "\n",
       "        contact  day month  duration  campaign    y  \n",
       "0       unknown    5   may       261         1   no  \n",
       "1       unknown    5   may       151         1   no  \n",
       "2       unknown    5   may        76         1   no  \n",
       "3       unknown    5   may        92         1   no  \n",
       "4       unknown    5   may       198         1   no  \n",
       "...         ...  ...   ...       ...       ...  ...  \n",
       "39995  cellular    3   jun       107         1   no  \n",
       "39996  cellular    3   jun       238         3  yes  \n",
       "39997  cellular    3   jun       170         1  yes  \n",
       "39998  cellular    3   jun       342         1   no  \n",
       "39999  cellular    3   jun       113         1   no  \n",
       "\n",
       "[40000 rows x 14 columns]"
      ]
     },
     "execution_count": 3,
     "metadata": {},
     "output_type": "execute_result"
    }
   ],
   "source": [
    "data"
   ]
  },
  {
   "cell_type": "code",
   "execution_count": 4,
   "metadata": {},
   "outputs": [],
   "source": [
    "df=data.copy()"
   ]
  },
  {
   "cell_type": "code",
   "execution_count": 5,
   "metadata": {},
   "outputs": [
    {
     "data": {
      "text/html": [
       "<div>\n",
       "<style scoped>\n",
       "    .dataframe tbody tr th:only-of-type {\n",
       "        vertical-align: middle;\n",
       "    }\n",
       "\n",
       "    .dataframe tbody tr th {\n",
       "        vertical-align: top;\n",
       "    }\n",
       "\n",
       "    .dataframe thead th {\n",
       "        text-align: right;\n",
       "    }\n",
       "</style>\n",
       "<table border=\"1\" class=\"dataframe\">\n",
       "  <thead>\n",
       "    <tr style=\"text-align: right;\">\n",
       "      <th></th>\n",
       "      <th>age</th>\n",
       "      <th>job</th>\n",
       "      <th>marital</th>\n",
       "      <th>education</th>\n",
       "      <th>default</th>\n",
       "      <th>balance</th>\n",
       "      <th>housing</th>\n",
       "      <th>loan</th>\n",
       "      <th>contact</th>\n",
       "      <th>day</th>\n",
       "      <th>month</th>\n",
       "      <th>duration</th>\n",
       "      <th>campaign</th>\n",
       "      <th>y</th>\n",
       "    </tr>\n",
       "  </thead>\n",
       "  <tbody>\n",
       "    <tr>\n",
       "      <th>0</th>\n",
       "      <td>58</td>\n",
       "      <td>management</td>\n",
       "      <td>married</td>\n",
       "      <td>tertiary</td>\n",
       "      <td>no</td>\n",
       "      <td>2143</td>\n",
       "      <td>yes</td>\n",
       "      <td>no</td>\n",
       "      <td>unknown</td>\n",
       "      <td>5</td>\n",
       "      <td>may</td>\n",
       "      <td>261</td>\n",
       "      <td>1</td>\n",
       "      <td>no</td>\n",
       "    </tr>\n",
       "    <tr>\n",
       "      <th>1</th>\n",
       "      <td>44</td>\n",
       "      <td>technician</td>\n",
       "      <td>single</td>\n",
       "      <td>secondary</td>\n",
       "      <td>no</td>\n",
       "      <td>29</td>\n",
       "      <td>yes</td>\n",
       "      <td>no</td>\n",
       "      <td>unknown</td>\n",
       "      <td>5</td>\n",
       "      <td>may</td>\n",
       "      <td>151</td>\n",
       "      <td>1</td>\n",
       "      <td>no</td>\n",
       "    </tr>\n",
       "    <tr>\n",
       "      <th>2</th>\n",
       "      <td>33</td>\n",
       "      <td>entrepreneur</td>\n",
       "      <td>married</td>\n",
       "      <td>secondary</td>\n",
       "      <td>no</td>\n",
       "      <td>2</td>\n",
       "      <td>yes</td>\n",
       "      <td>yes</td>\n",
       "      <td>unknown</td>\n",
       "      <td>5</td>\n",
       "      <td>may</td>\n",
       "      <td>76</td>\n",
       "      <td>1</td>\n",
       "      <td>no</td>\n",
       "    </tr>\n",
       "    <tr>\n",
       "      <th>3</th>\n",
       "      <td>47</td>\n",
       "      <td>blue-collar</td>\n",
       "      <td>married</td>\n",
       "      <td>unknown</td>\n",
       "      <td>no</td>\n",
       "      <td>1506</td>\n",
       "      <td>yes</td>\n",
       "      <td>no</td>\n",
       "      <td>unknown</td>\n",
       "      <td>5</td>\n",
       "      <td>may</td>\n",
       "      <td>92</td>\n",
       "      <td>1</td>\n",
       "      <td>no</td>\n",
       "    </tr>\n",
       "    <tr>\n",
       "      <th>4</th>\n",
       "      <td>33</td>\n",
       "      <td>unknown</td>\n",
       "      <td>single</td>\n",
       "      <td>unknown</td>\n",
       "      <td>no</td>\n",
       "      <td>1</td>\n",
       "      <td>no</td>\n",
       "      <td>no</td>\n",
       "      <td>unknown</td>\n",
       "      <td>5</td>\n",
       "      <td>may</td>\n",
       "      <td>198</td>\n",
       "      <td>1</td>\n",
       "      <td>no</td>\n",
       "    </tr>\n",
       "  </tbody>\n",
       "</table>\n",
       "</div>"
      ],
      "text/plain": [
       "   age           job  marital  education default  balance housing loan  \\\n",
       "0   58    management  married   tertiary      no     2143     yes   no   \n",
       "1   44    technician   single  secondary      no       29     yes   no   \n",
       "2   33  entrepreneur  married  secondary      no        2     yes  yes   \n",
       "3   47   blue-collar  married    unknown      no     1506     yes   no   \n",
       "4   33       unknown   single    unknown      no        1      no   no   \n",
       "\n",
       "   contact  day month  duration  campaign   y  \n",
       "0  unknown    5   may       261         1  no  \n",
       "1  unknown    5   may       151         1  no  \n",
       "2  unknown    5   may        76         1  no  \n",
       "3  unknown    5   may        92         1  no  \n",
       "4  unknown    5   may       198         1  no  "
      ]
     },
     "execution_count": 5,
     "metadata": {},
     "output_type": "execute_result"
    }
   ],
   "source": [
    "df.head()"
   ]
  },
  {
   "cell_type": "code",
   "execution_count": 6,
   "metadata": {},
   "outputs": [
    {
     "name": "stdout",
     "output_type": "stream",
     "text": [
      "<class 'pandas.core.frame.DataFrame'>\n",
      "RangeIndex: 40000 entries, 0 to 39999\n",
      "Data columns (total 14 columns):\n",
      " #   Column     Non-Null Count  Dtype \n",
      "---  ------     --------------  ----- \n",
      " 0   age        40000 non-null  int64 \n",
      " 1   job        40000 non-null  object\n",
      " 2   marital    40000 non-null  object\n",
      " 3   education  40000 non-null  object\n",
      " 4   default    40000 non-null  object\n",
      " 5   balance    40000 non-null  int64 \n",
      " 6   housing    40000 non-null  object\n",
      " 7   loan       40000 non-null  object\n",
      " 8   contact    40000 non-null  object\n",
      " 9   day        40000 non-null  int64 \n",
      " 10  month      40000 non-null  object\n",
      " 11  duration   40000 non-null  int64 \n",
      " 12  campaign   40000 non-null  int64 \n",
      " 13  y          40000 non-null  object\n",
      "dtypes: int64(5), object(9)\n",
      "memory usage: 4.3+ MB\n"
     ]
    }
   ],
   "source": [
    "df.info()"
   ]
  },
  {
   "cell_type": "code",
   "execution_count": 7,
   "metadata": {},
   "outputs": [
    {
     "data": {
      "text/plain": [
       "no     37104\n",
       "yes     2896\n",
       "Name: y, dtype: int64"
      ]
     },
     "execution_count": 7,
     "metadata": {},
     "output_type": "execute_result"
    }
   ],
   "source": [
    "df[\"y\"].value_counts()"
   ]
  },
  {
   "cell_type": "code",
   "execution_count": 8,
   "metadata": {},
   "outputs": [
    {
     "data": {
      "image/png": "[encoded data removed]",
      "text/plain": [
       "<Figure size 432x288 with 1 Axes>"
      ]
     },
     "metadata": {
      "needs_background": "light"
     },
     "output_type": "display_data"
    }
   ],
   "source": [
    "df[\"y\"].value_counts().plot.barh();"
   ]
  },
  {
   "cell_type": "code",
   "execution_count": 9,
   "metadata": {},
   "outputs": [
    {
     "data": {
      "text/html": [
       "<div>\n",
       "<style scoped>\n",
       "    .dataframe tbody tr th:only-of-type {\n",
       "        vertical-align: middle;\n",
       "    }\n",
       "\n",
       "    .dataframe tbody tr th {\n",
       "        vertical-align: top;\n",
       "    }\n",
       "\n",
       "    .dataframe thead th {\n",
       "        text-align: right;\n",
       "    }\n",
       "</style>\n",
       "<table border=\"1\" class=\"dataframe\">\n",
       "  <thead>\n",
       "    <tr style=\"text-align: right;\">\n",
       "      <th></th>\n",
       "      <th>count</th>\n",
       "      <th>mean</th>\n",
       "      <th>std</th>\n",
       "      <th>min</th>\n",
       "      <th>25%</th>\n",
       "      <th>50%</th>\n",
       "      <th>75%</th>\n",
       "      <th>max</th>\n",
       "    </tr>\n",
       "  </thead>\n",
       "  <tbody>\n",
       "    <tr>\n",
       "      <th>age</th>\n",
       "      <td>40000.0</td>\n",
       "      <td>40.544600</td>\n",
       "      <td>9.641776</td>\n",
       "      <td>19.0</td>\n",
       "      <td>33.0</td>\n",
       "      <td>39.0</td>\n",
       "      <td>48.0</td>\n",
       "      <td>95.0</td>\n",
       "    </tr>\n",
       "    <tr>\n",
       "      <th>balance</th>\n",
       "      <td>40000.0</td>\n",
       "      <td>1274.277550</td>\n",
       "      <td>2903.769716</td>\n",
       "      <td>-8019.0</td>\n",
       "      <td>54.0</td>\n",
       "      <td>407.0</td>\n",
       "      <td>1319.0</td>\n",
       "      <td>102127.0</td>\n",
       "    </tr>\n",
       "    <tr>\n",
       "      <th>day</th>\n",
       "      <td>40000.0</td>\n",
       "      <td>16.017225</td>\n",
       "      <td>8.278127</td>\n",
       "      <td>1.0</td>\n",
       "      <td>8.0</td>\n",
       "      <td>17.0</td>\n",
       "      <td>21.0</td>\n",
       "      <td>31.0</td>\n",
       "    </tr>\n",
       "    <tr>\n",
       "      <th>duration</th>\n",
       "      <td>40000.0</td>\n",
       "      <td>254.824300</td>\n",
       "      <td>259.366498</td>\n",
       "      <td>0.0</td>\n",
       "      <td>100.0</td>\n",
       "      <td>175.0</td>\n",
       "      <td>313.0</td>\n",
       "      <td>4918.0</td>\n",
       "    </tr>\n",
       "    <tr>\n",
       "      <th>campaign</th>\n",
       "      <td>40000.0</td>\n",
       "      <td>2.882175</td>\n",
       "      <td>3.239051</td>\n",
       "      <td>1.0</td>\n",
       "      <td>1.0</td>\n",
       "      <td>2.0</td>\n",
       "      <td>3.0</td>\n",
       "      <td>63.0</td>\n",
       "    </tr>\n",
       "  </tbody>\n",
       "</table>\n",
       "</div>"
      ],
      "text/plain": [
       "            count         mean          std     min    25%    50%     75%  \\\n",
       "age       40000.0    40.544600     9.641776    19.0   33.0   39.0    48.0   \n",
       "balance   40000.0  1274.277550  2903.769716 -8019.0   54.0  407.0  1319.0   \n",
       "day       40000.0    16.017225     8.278127     1.0    8.0   17.0    21.0   \n",
       "duration  40000.0   254.824300   259.366498     0.0  100.0  175.0   313.0   \n",
       "campaign  40000.0     2.882175     3.239051     1.0    1.0    2.0     3.0   \n",
       "\n",
       "               max  \n",
       "age           95.0  \n",
       "balance   102127.0  \n",
       "day           31.0  \n",
       "duration    4918.0  \n",
       "campaign      63.0  "
      ]
     },
     "execution_count": 9,
     "metadata": {},
     "output_type": "execute_result"
    }
   ],
   "source": [
    "df.describe().T"
   ]
  },
  {
   "cell_type": "markdown",
   "metadata": {},
   "source": [
    "# Veri Ön İşleme"
   ]
  },
  {
   "cell_type": "code",
   "execution_count": 10,
   "metadata": {},
   "outputs": [
    {
     "data": {
      "text/plain": [
       "False"
      ]
     },
     "execution_count": 10,
     "metadata": {},
     "output_type": "execute_result"
    }
   ],
   "source": [
    "#Eksik veri kontrolü\n",
    "df.isnull().values.any()"
   ]
  },
  {
   "cell_type": "code",
   "execution_count": 11,
   "metadata": {},
   "outputs": [
    {
     "data": {
      "text/plain": [
       "age          0\n",
       "job          0\n",
       "marital      0\n",
       "education    0\n",
       "default      0\n",
       "balance      0\n",
       "housing      0\n",
       "loan         0\n",
       "contact      0\n",
       "day          0\n",
       "month        0\n",
       "duration     0\n",
       "campaign     0\n",
       "y            0\n",
       "dtype: int64"
      ]
     },
     "execution_count": 11,
     "metadata": {},
     "output_type": "execute_result"
    }
   ],
   "source": [
    "df.isnull().sum()"
   ]
  },
  {
   "cell_type": "markdown",
   "metadata": {},
   "source": [
    "### Kategorik Değikenler"
   ]
  },
  {
   "cell_type": "code",
   "execution_count": 12,
   "metadata": {},
   "outputs": [
    {
     "name": "stdout",
     "output_type": "stream",
     "text": [
      "Index(['job', 'marital', 'education', 'default', 'housing', 'loan', 'contact',\n",
      "       'month', 'y'],\n",
      "      dtype='object')\n"
     ]
    }
   ],
   "source": [
    "kat=df.select_dtypes(include=[\"object\"])\n",
    "kat_df=df.select_dtypes(include=[\"object\"]).columns\n",
    "print(kat_df)"
   ]
  },
  {
   "cell_type": "markdown",
   "metadata": {},
   "source": [
    "### Sürekli Değişkenler"
   ]
  },
  {
   "cell_type": "code",
   "execution_count": 13,
   "metadata": {},
   "outputs": [
    {
     "name": "stdout",
     "output_type": "stream",
     "text": [
      "Index(['age', 'balance', 'day', 'duration', 'campaign'], dtype='object')\n"
     ]
    }
   ],
   "source": [
    "num=df.select_dtypes(include=[\"float64\",\"int64\"])\n",
    "df_num=df.select_dtypes(include=[\"float64\",\"int64\"]).columns\n",
    "print(df_num)"
   ]
  },
  {
   "cell_type": "code",
   "execution_count": 14,
   "metadata": {},
   "outputs": [
    {
     "data": {
      "text/html": [
       "<div>\n",
       "<style scoped>\n",
       "    .dataframe tbody tr th:only-of-type {\n",
       "        vertical-align: middle;\n",
       "    }\n",
       "\n",
       "    .dataframe tbody tr th {\n",
       "        vertical-align: top;\n",
       "    }\n",
       "\n",
       "    .dataframe thead th {\n",
       "        text-align: right;\n",
       "    }\n",
       "</style>\n",
       "<table border=\"1\" class=\"dataframe\">\n",
       "  <thead>\n",
       "    <tr style=\"text-align: right;\">\n",
       "      <th></th>\n",
       "      <th>count</th>\n",
       "      <th>mean</th>\n",
       "      <th>std</th>\n",
       "      <th>min</th>\n",
       "      <th>25%</th>\n",
       "      <th>50%</th>\n",
       "      <th>75%</th>\n",
       "      <th>max</th>\n",
       "    </tr>\n",
       "  </thead>\n",
       "  <tbody>\n",
       "    <tr>\n",
       "      <th>age</th>\n",
       "      <td>40000.0</td>\n",
       "      <td>40.544600</td>\n",
       "      <td>9.641776</td>\n",
       "      <td>19.0</td>\n",
       "      <td>33.0</td>\n",
       "      <td>39.0</td>\n",
       "      <td>48.0</td>\n",
       "      <td>95.0</td>\n",
       "    </tr>\n",
       "    <tr>\n",
       "      <th>balance</th>\n",
       "      <td>40000.0</td>\n",
       "      <td>1274.277550</td>\n",
       "      <td>2903.769716</td>\n",
       "      <td>-8019.0</td>\n",
       "      <td>54.0</td>\n",
       "      <td>407.0</td>\n",
       "      <td>1319.0</td>\n",
       "      <td>102127.0</td>\n",
       "    </tr>\n",
       "    <tr>\n",
       "      <th>day</th>\n",
       "      <td>40000.0</td>\n",
       "      <td>16.017225</td>\n",
       "      <td>8.278127</td>\n",
       "      <td>1.0</td>\n",
       "      <td>8.0</td>\n",
       "      <td>17.0</td>\n",
       "      <td>21.0</td>\n",
       "      <td>31.0</td>\n",
       "    </tr>\n",
       "    <tr>\n",
       "      <th>duration</th>\n",
       "      <td>40000.0</td>\n",
       "      <td>254.824300</td>\n",
       "      <td>259.366498</td>\n",
       "      <td>0.0</td>\n",
       "      <td>100.0</td>\n",
       "      <td>175.0</td>\n",
       "      <td>313.0</td>\n",
       "      <td>4918.0</td>\n",
       "    </tr>\n",
       "    <tr>\n",
       "      <th>campaign</th>\n",
       "      <td>40000.0</td>\n",
       "      <td>2.882175</td>\n",
       "      <td>3.239051</td>\n",
       "      <td>1.0</td>\n",
       "      <td>1.0</td>\n",
       "      <td>2.0</td>\n",
       "      <td>3.0</td>\n",
       "      <td>63.0</td>\n",
       "    </tr>\n",
       "  </tbody>\n",
       "</table>\n",
       "</div>"
      ],
      "text/plain": [
       "            count         mean          std     min    25%    50%     75%  \\\n",
       "age       40000.0    40.544600     9.641776    19.0   33.0   39.0    48.0   \n",
       "balance   40000.0  1274.277550  2903.769716 -8019.0   54.0  407.0  1319.0   \n",
       "day       40000.0    16.017225     8.278127     1.0    8.0   17.0    21.0   \n",
       "duration  40000.0   254.824300   259.366498     0.0  100.0  175.0   313.0   \n",
       "campaign  40000.0     2.882175     3.239051     1.0    1.0    2.0     3.0   \n",
       "\n",
       "               max  \n",
       "age           95.0  \n",
       "balance   102127.0  \n",
       "day           31.0  \n",
       "duration    4918.0  \n",
       "campaign      63.0  "
      ]
     },
     "execution_count": 14,
     "metadata": {},
     "output_type": "execute_result"
    }
   ],
   "source": [
    "df.describe().T"
   ]
  },
  {
   "cell_type": "markdown",
   "metadata": {},
   "source": [
    "## Veri Görselleştirme"
   ]
  },
  {
   "cell_type": "code",
   "execution_count": 15,
   "metadata": {},
   "outputs": [
    {
     "name": "stdout",
     "output_type": "stream",
     "text": [
      "Sayısal Değişkenlerin Görselleştirilmesi\n"
     ]
    },
    {
     "data": {
      "image/png": "[encoded data removed]",
      "text/plain": [
       "<Figure size 1152x1152 with 6 Axes>"
      ]
     },
     "metadata": {
      "needs_background": "light"
     },
     "output_type": "display_data"
    }
   ],
   "source": [
    "print(\"Sayısal Değişkenlerin Görselleştirilmesi\")\n",
    "df.hist(column=df_num,figsize=(16,16))\n",
    "plt.show()"
   ]
  },
  {
   "cell_type": "code",
   "execution_count": 16,
   "metadata": {},
   "outputs": [
    {
     "name": "stdout",
     "output_type": "stream",
     "text": [
      "Kategorik Değişkenlerin Görselleştirilmesi\n"
     ]
    },
    {
     "data": {
      "image/png": "[encoded data removed]",
      "text/plain": [
       "<Figure size 1152x1152 with 12 Axes>"
      ]
     },
     "metadata": {
      "needs_background": "light"
     },
     "output_type": "display_data"
    }
   ],
   "source": [
    "print(\"Kategorik Değişkenlerin Görselleştirilmesi\")\n",
    "fig, axes = plt.subplots(4,3,figsize=(16, 16))\n",
    "for i, ax in enumerate(axes.ravel()):\n",
    "    if i > 8:\n",
    "        ax.set_visible(False)\n",
    "        continue\n",
    "    sns.countplot(y = kat_df[i], data=df, ax=ax)\n",
    "plt.show()"
   ]
  },
  {
   "cell_type": "code",
   "execution_count": 17,
   "metadata": {},
   "outputs": [
    {
     "data": {
      "text/html": [
       "<div>\n",
       "<style scoped>\n",
       "    .dataframe tbody tr th:only-of-type {\n",
       "        vertical-align: middle;\n",
       "    }\n",
       "\n",
       "    .dataframe tbody tr th {\n",
       "        vertical-align: top;\n",
       "    }\n",
       "\n",
       "    .dataframe thead th {\n",
       "        text-align: right;\n",
       "    }\n",
       "</style>\n",
       "<table border=\"1\" class=\"dataframe\">\n",
       "  <thead>\n",
       "    <tr style=\"text-align: right;\">\n",
       "      <th></th>\n",
       "      <th>age</th>\n",
       "      <th>balance</th>\n",
       "      <th>day</th>\n",
       "      <th>duration</th>\n",
       "      <th>campaign</th>\n",
       "    </tr>\n",
       "  </thead>\n",
       "  <tbody>\n",
       "    <tr>\n",
       "      <th>age</th>\n",
       "      <td>1.000000</td>\n",
       "      <td>0.081517</td>\n",
       "      <td>-0.011689</td>\n",
       "      <td>-0.036270</td>\n",
       "      <td>0.016204</td>\n",
       "    </tr>\n",
       "    <tr>\n",
       "      <th>balance</th>\n",
       "      <td>0.081517</td>\n",
       "      <td>1.000000</td>\n",
       "      <td>0.011662</td>\n",
       "      <td>0.014072</td>\n",
       "      <td>-0.008137</td>\n",
       "    </tr>\n",
       "    <tr>\n",
       "      <th>day</th>\n",
       "      <td>-0.011689</td>\n",
       "      <td>0.011662</td>\n",
       "      <td>1.000000</td>\n",
       "      <td>-0.032983</td>\n",
       "      <td>0.165429</td>\n",
       "    </tr>\n",
       "    <tr>\n",
       "      <th>duration</th>\n",
       "      <td>-0.036270</td>\n",
       "      <td>0.014072</td>\n",
       "      <td>-0.032983</td>\n",
       "      <td>1.000000</td>\n",
       "      <td>-0.088387</td>\n",
       "    </tr>\n",
       "    <tr>\n",
       "      <th>campaign</th>\n",
       "      <td>0.016204</td>\n",
       "      <td>-0.008137</td>\n",
       "      <td>0.165429</td>\n",
       "      <td>-0.088387</td>\n",
       "      <td>1.000000</td>\n",
       "    </tr>\n",
       "  </tbody>\n",
       "</table>\n",
       "</div>"
      ],
      "text/plain": [
       "               age   balance       day  duration  campaign\n",
       "age       1.000000  0.081517 -0.011689 -0.036270  0.016204\n",
       "balance   0.081517  1.000000  0.011662  0.014072 -0.008137\n",
       "day      -0.011689  0.011662  1.000000 -0.032983  0.165429\n",
       "duration -0.036270  0.014072 -0.032983  1.000000 -0.088387\n",
       "campaign  0.016204 -0.008137  0.165429 -0.088387  1.000000"
      ]
     },
     "execution_count": 17,
     "metadata": {},
     "output_type": "execute_result"
    }
   ],
   "source": [
    "df.corr()"
   ]
  },
  {
   "cell_type": "code",
   "execution_count": 18,
   "metadata": {},
   "outputs": [
    {
     "data": {
      "image/png": "[encoded data removed]",
      "text/plain": [
       "<Figure size 1152x1152 with 2 Axes>"
      ]
     },
     "metadata": {
      "needs_background": "light"
     },
     "output_type": "display_data"
    }
   ],
   "source": [
    "correlation=df.corr()\n",
    "plt.figure(figsize=(16,16))\n",
    "sns.heatmap(correlation,square=True,annot=True);\n",
    "plt.show()"
   ]
  },
  {
   "cell_type": "markdown",
   "metadata": {},
   "source": [
    "## One-Hot Encoding Dönüşümü"
   ]
  },
  {
   "cell_type": "code",
   "execution_count": 19,
   "metadata": {},
   "outputs": [],
   "source": [
    "columns = df.select_dtypes(include=[object]).columns\n",
    "df = pd.concat([df, pd.get_dummies(df[columns])], axis=1)\n",
    "df = df.drop(['job', 'marital', 'education', 'default', 'housing', 'loan',\n",
    "       'contact', 'month', 'y','duration'], axis =1)"
   ]
  },
  {
   "cell_type": "code",
   "execution_count": 20,
   "metadata": {},
   "outputs": [
    {
     "data": {
      "text/html": [
       "<div>\n",
       "<style scoped>\n",
       "    .dataframe tbody tr th:only-of-type {\n",
       "        vertical-align: middle;\n",
       "    }\n",
       "\n",
       "    .dataframe tbody tr th {\n",
       "        vertical-align: top;\n",
       "    }\n",
       "\n",
       "    .dataframe thead th {\n",
       "        text-align: right;\n",
       "    }\n",
       "</style>\n",
       "<table border=\"1\" class=\"dataframe\">\n",
       "  <thead>\n",
       "    <tr style=\"text-align: right;\">\n",
       "      <th></th>\n",
       "      <th>age</th>\n",
       "      <th>balance</th>\n",
       "      <th>day</th>\n",
       "      <th>campaign</th>\n",
       "      <th>job_admin</th>\n",
       "      <th>job_blue-collar</th>\n",
       "      <th>job_entrepreneur</th>\n",
       "      <th>job_housemaid</th>\n",
       "      <th>job_management</th>\n",
       "      <th>job_retired</th>\n",
       "      <th>...</th>\n",
       "      <th>month_feb</th>\n",
       "      <th>month_jan</th>\n",
       "      <th>month_jul</th>\n",
       "      <th>month_jun</th>\n",
       "      <th>month_mar</th>\n",
       "      <th>month_may</th>\n",
       "      <th>month_nov</th>\n",
       "      <th>month_oct</th>\n",
       "      <th>y_no</th>\n",
       "      <th>y_yes</th>\n",
       "    </tr>\n",
       "  </thead>\n",
       "  <tbody>\n",
       "    <tr>\n",
       "      <th>0</th>\n",
       "      <td>58</td>\n",
       "      <td>2143</td>\n",
       "      <td>5</td>\n",
       "      <td>1</td>\n",
       "      <td>0</td>\n",
       "      <td>0</td>\n",
       "      <td>0</td>\n",
       "      <td>0</td>\n",
       "      <td>1</td>\n",
       "      <td>0</td>\n",
       "      <td>...</td>\n",
       "      <td>0</td>\n",
       "      <td>0</td>\n",
       "      <td>0</td>\n",
       "      <td>0</td>\n",
       "      <td>0</td>\n",
       "      <td>1</td>\n",
       "      <td>0</td>\n",
       "      <td>0</td>\n",
       "      <td>1</td>\n",
       "      <td>0</td>\n",
       "    </tr>\n",
       "    <tr>\n",
       "      <th>1</th>\n",
       "      <td>44</td>\n",
       "      <td>29</td>\n",
       "      <td>5</td>\n",
       "      <td>1</td>\n",
       "      <td>0</td>\n",
       "      <td>0</td>\n",
       "      <td>0</td>\n",
       "      <td>0</td>\n",
       "      <td>0</td>\n",
       "      <td>0</td>\n",
       "      <td>...</td>\n",
       "      <td>0</td>\n",
       "      <td>0</td>\n",
       "      <td>0</td>\n",
       "      <td>0</td>\n",
       "      <td>0</td>\n",
       "      <td>1</td>\n",
       "      <td>0</td>\n",
       "      <td>0</td>\n",
       "      <td>1</td>\n",
       "      <td>0</td>\n",
       "    </tr>\n",
       "    <tr>\n",
       "      <th>2</th>\n",
       "      <td>33</td>\n",
       "      <td>2</td>\n",
       "      <td>5</td>\n",
       "      <td>1</td>\n",
       "      <td>0</td>\n",
       "      <td>0</td>\n",
       "      <td>1</td>\n",
       "      <td>0</td>\n",
       "      <td>0</td>\n",
       "      <td>0</td>\n",
       "      <td>...</td>\n",
       "      <td>0</td>\n",
       "      <td>0</td>\n",
       "      <td>0</td>\n",
       "      <td>0</td>\n",
       "      <td>0</td>\n",
       "      <td>1</td>\n",
       "      <td>0</td>\n",
       "      <td>0</td>\n",
       "      <td>1</td>\n",
       "      <td>0</td>\n",
       "    </tr>\n",
       "    <tr>\n",
       "      <th>3</th>\n",
       "      <td>47</td>\n",
       "      <td>1506</td>\n",
       "      <td>5</td>\n",
       "      <td>1</td>\n",
       "      <td>0</td>\n",
       "      <td>1</td>\n",
       "      <td>0</td>\n",
       "      <td>0</td>\n",
       "      <td>0</td>\n",
       "      <td>0</td>\n",
       "      <td>...</td>\n",
       "      <td>0</td>\n",
       "      <td>0</td>\n",
       "      <td>0</td>\n",
       "      <td>0</td>\n",
       "      <td>0</td>\n",
       "      <td>1</td>\n",
       "      <td>0</td>\n",
       "      <td>0</td>\n",
       "      <td>1</td>\n",
       "      <td>0</td>\n",
       "    </tr>\n",
       "    <tr>\n",
       "      <th>4</th>\n",
       "      <td>33</td>\n",
       "      <td>1</td>\n",
       "      <td>5</td>\n",
       "      <td>1</td>\n",
       "      <td>0</td>\n",
       "      <td>0</td>\n",
       "      <td>0</td>\n",
       "      <td>0</td>\n",
       "      <td>0</td>\n",
       "      <td>0</td>\n",
       "      <td>...</td>\n",
       "      <td>0</td>\n",
       "      <td>0</td>\n",
       "      <td>0</td>\n",
       "      <td>0</td>\n",
       "      <td>0</td>\n",
       "      <td>1</td>\n",
       "      <td>0</td>\n",
       "      <td>0</td>\n",
       "      <td>1</td>\n",
       "      <td>0</td>\n",
       "    </tr>\n",
       "    <tr>\n",
       "      <th>...</th>\n",
       "      <td>...</td>\n",
       "      <td>...</td>\n",
       "      <td>...</td>\n",
       "      <td>...</td>\n",
       "      <td>...</td>\n",
       "      <td>...</td>\n",
       "      <td>...</td>\n",
       "      <td>...</td>\n",
       "      <td>...</td>\n",
       "      <td>...</td>\n",
       "      <td>...</td>\n",
       "      <td>...</td>\n",
       "      <td>...</td>\n",
       "      <td>...</td>\n",
       "      <td>...</td>\n",
       "      <td>...</td>\n",
       "      <td>...</td>\n",
       "      <td>...</td>\n",
       "      <td>...</td>\n",
       "      <td>...</td>\n",
       "      <td>...</td>\n",
       "    </tr>\n",
       "    <tr>\n",
       "      <th>39995</th>\n",
       "      <td>53</td>\n",
       "      <td>395</td>\n",
       "      <td>3</td>\n",
       "      <td>1</td>\n",
       "      <td>0</td>\n",
       "      <td>0</td>\n",
       "      <td>0</td>\n",
       "      <td>0</td>\n",
       "      <td>0</td>\n",
       "      <td>0</td>\n",
       "      <td>...</td>\n",
       "      <td>0</td>\n",
       "      <td>0</td>\n",
       "      <td>0</td>\n",
       "      <td>1</td>\n",
       "      <td>0</td>\n",
       "      <td>0</td>\n",
       "      <td>0</td>\n",
       "      <td>0</td>\n",
       "      <td>1</td>\n",
       "      <td>0</td>\n",
       "    </tr>\n",
       "    <tr>\n",
       "      <th>39996</th>\n",
       "      <td>30</td>\n",
       "      <td>3340</td>\n",
       "      <td>3</td>\n",
       "      <td>3</td>\n",
       "      <td>0</td>\n",
       "      <td>0</td>\n",
       "      <td>0</td>\n",
       "      <td>0</td>\n",
       "      <td>1</td>\n",
       "      <td>0</td>\n",
       "      <td>...</td>\n",
       "      <td>0</td>\n",
       "      <td>0</td>\n",
       "      <td>0</td>\n",
       "      <td>1</td>\n",
       "      <td>0</td>\n",
       "      <td>0</td>\n",
       "      <td>0</td>\n",
       "      <td>0</td>\n",
       "      <td>0</td>\n",
       "      <td>1</td>\n",
       "    </tr>\n",
       "    <tr>\n",
       "      <th>39997</th>\n",
       "      <td>54</td>\n",
       "      <td>200</td>\n",
       "      <td>3</td>\n",
       "      <td>1</td>\n",
       "      <td>1</td>\n",
       "      <td>0</td>\n",
       "      <td>0</td>\n",
       "      <td>0</td>\n",
       "      <td>0</td>\n",
       "      <td>0</td>\n",
       "      <td>...</td>\n",
       "      <td>0</td>\n",
       "      <td>0</td>\n",
       "      <td>0</td>\n",
       "      <td>1</td>\n",
       "      <td>0</td>\n",
       "      <td>0</td>\n",
       "      <td>0</td>\n",
       "      <td>0</td>\n",
       "      <td>0</td>\n",
       "      <td>1</td>\n",
       "    </tr>\n",
       "    <tr>\n",
       "      <th>39998</th>\n",
       "      <td>34</td>\n",
       "      <td>1047</td>\n",
       "      <td>3</td>\n",
       "      <td>1</td>\n",
       "      <td>0</td>\n",
       "      <td>0</td>\n",
       "      <td>0</td>\n",
       "      <td>0</td>\n",
       "      <td>1</td>\n",
       "      <td>0</td>\n",
       "      <td>...</td>\n",
       "      <td>0</td>\n",
       "      <td>0</td>\n",
       "      <td>0</td>\n",
       "      <td>1</td>\n",
       "      <td>0</td>\n",
       "      <td>0</td>\n",
       "      <td>0</td>\n",
       "      <td>0</td>\n",
       "      <td>1</td>\n",
       "      <td>0</td>\n",
       "    </tr>\n",
       "    <tr>\n",
       "      <th>39999</th>\n",
       "      <td>38</td>\n",
       "      <td>1442</td>\n",
       "      <td>3</td>\n",
       "      <td>1</td>\n",
       "      <td>0</td>\n",
       "      <td>0</td>\n",
       "      <td>0</td>\n",
       "      <td>0</td>\n",
       "      <td>0</td>\n",
       "      <td>0</td>\n",
       "      <td>...</td>\n",
       "      <td>0</td>\n",
       "      <td>0</td>\n",
       "      <td>0</td>\n",
       "      <td>1</td>\n",
       "      <td>0</td>\n",
       "      <td>0</td>\n",
       "      <td>0</td>\n",
       "      <td>0</td>\n",
       "      <td>1</td>\n",
       "      <td>0</td>\n",
       "    </tr>\n",
       "  </tbody>\n",
       "</table>\n",
       "<p>40000 rows × 45 columns</p>\n",
       "</div>"
      ],
      "text/plain": [
       "       age  balance  day  campaign  job_admin  job_blue-collar  \\\n",
       "0       58     2143    5         1          0                0   \n",
       "1       44       29    5         1          0                0   \n",
       "2       33        2    5         1          0                0   \n",
       "3       47     1506    5         1          0                1   \n",
       "4       33        1    5         1          0                0   \n",
       "...    ...      ...  ...       ...        ...              ...   \n",
       "39995   53      395    3         1          0                0   \n",
       "39996   30     3340    3         3          0                0   \n",
       "39997   54      200    3         1          1                0   \n",
       "39998   34     1047    3         1          0                0   \n",
       "39999   38     1442    3         1          0                0   \n",
       "\n",
       "       job_entrepreneur  job_housemaid  job_management  job_retired  ...  \\\n",
       "0                     0              0               1            0  ...   \n",
       "1                     0              0               0            0  ...   \n",
       "2                     1              0               0            0  ...   \n",
       "3                     0              0               0            0  ...   \n",
       "4                     0              0               0            0  ...   \n",
       "...                 ...            ...             ...          ...  ...   \n",
       "39995                 0              0               0            0  ...   \n",
       "39996                 0              0               1            0  ...   \n",
       "39997                 0              0               0            0  ...   \n",
       "39998                 0              0               1            0  ...   \n",
       "39999                 0              0               0            0  ...   \n",
       "\n",
       "       month_feb  month_jan  month_jul  month_jun  month_mar  month_may  \\\n",
       "0              0          0          0          0          0          1   \n",
       "1              0          0          0          0          0          1   \n",
       "2              0          0          0          0          0          1   \n",
       "3              0          0          0          0          0          1   \n",
       "4              0          0          0          0          0          1   \n",
       "...          ...        ...        ...        ...        ...        ...   \n",
       "39995          0          0          0          1          0          0   \n",
       "39996          0          0          0          1          0          0   \n",
       "39997          0          0          0          1          0          0   \n",
       "39998          0          0          0          1          0          0   \n",
       "39999          0          0          0          1          0          0   \n",
       "\n",
       "       month_nov  month_oct  y_no  y_yes  \n",
       "0              0          0     1      0  \n",
       "1              0          0     1      0  \n",
       "2              0          0     1      0  \n",
       "3              0          0     1      0  \n",
       "4              0          0     1      0  \n",
       "...          ...        ...   ...    ...  \n",
       "39995          0          0     1      0  \n",
       "39996          0          0     0      1  \n",
       "39997          0          0     0      1  \n",
       "39998          0          0     1      0  \n",
       "39999          0          0     1      0  \n",
       "\n",
       "[40000 rows x 45 columns]"
      ]
     },
     "execution_count": 20,
     "metadata": {},
     "output_type": "execute_result"
    }
   ],
   "source": [
    "df"
   ]
  },
  {
   "cell_type": "markdown",
   "metadata": {},
   "source": [
    "## Veri Standardizasyonu"
   ]
  },
  {
   "cell_type": "code",
   "execution_count": 21,
   "metadata": {},
   "outputs": [],
   "source": [
    "from sklearn import preprocessing \n",
    "scaler=preprocessing.MinMaxScaler()\n",
    "data_scaled=pd.DataFrame(scaler.fit_transform(df),columns=df.columns)"
   ]
  },
  {
   "cell_type": "code",
   "execution_count": 22,
   "metadata": {},
   "outputs": [
    {
     "data": {
      "text/html": [
       "<div>\n",
       "<style scoped>\n",
       "    .dataframe tbody tr th:only-of-type {\n",
       "        vertical-align: middle;\n",
       "    }\n",
       "\n",
       "    .dataframe tbody tr th {\n",
       "        vertical-align: top;\n",
       "    }\n",
       "\n",
       "    .dataframe thead th {\n",
       "        text-align: right;\n",
       "    }\n",
       "</style>\n",
       "<table border=\"1\" class=\"dataframe\">\n",
       "  <thead>\n",
       "    <tr style=\"text-align: right;\">\n",
       "      <th></th>\n",
       "      <th>age</th>\n",
       "      <th>balance</th>\n",
       "      <th>day</th>\n",
       "      <th>campaign</th>\n",
       "      <th>job_admin</th>\n",
       "      <th>job_blue-collar</th>\n",
       "      <th>job_entrepreneur</th>\n",
       "      <th>job_housemaid</th>\n",
       "      <th>job_management</th>\n",
       "      <th>job_retired</th>\n",
       "      <th>...</th>\n",
       "      <th>month_feb</th>\n",
       "      <th>month_jan</th>\n",
       "      <th>month_jul</th>\n",
       "      <th>month_jun</th>\n",
       "      <th>month_mar</th>\n",
       "      <th>month_may</th>\n",
       "      <th>month_nov</th>\n",
       "      <th>month_oct</th>\n",
       "      <th>y_no</th>\n",
       "      <th>y_yes</th>\n",
       "    </tr>\n",
       "  </thead>\n",
       "  <tbody>\n",
       "    <tr>\n",
       "      <th>0</th>\n",
       "      <td>0.513158</td>\n",
       "      <td>0.092259</td>\n",
       "      <td>0.133333</td>\n",
       "      <td>0.000000</td>\n",
       "      <td>0.0</td>\n",
       "      <td>0.0</td>\n",
       "      <td>0.0</td>\n",
       "      <td>0.0</td>\n",
       "      <td>1.0</td>\n",
       "      <td>0.0</td>\n",
       "      <td>...</td>\n",
       "      <td>0.0</td>\n",
       "      <td>0.0</td>\n",
       "      <td>0.0</td>\n",
       "      <td>0.0</td>\n",
       "      <td>0.0</td>\n",
       "      <td>1.0</td>\n",
       "      <td>0.0</td>\n",
       "      <td>0.0</td>\n",
       "      <td>1.0</td>\n",
       "      <td>0.0</td>\n",
       "    </tr>\n",
       "    <tr>\n",
       "      <th>1</th>\n",
       "      <td>0.328947</td>\n",
       "      <td>0.073067</td>\n",
       "      <td>0.133333</td>\n",
       "      <td>0.000000</td>\n",
       "      <td>0.0</td>\n",
       "      <td>0.0</td>\n",
       "      <td>0.0</td>\n",
       "      <td>0.0</td>\n",
       "      <td>0.0</td>\n",
       "      <td>0.0</td>\n",
       "      <td>...</td>\n",
       "      <td>0.0</td>\n",
       "      <td>0.0</td>\n",
       "      <td>0.0</td>\n",
       "      <td>0.0</td>\n",
       "      <td>0.0</td>\n",
       "      <td>1.0</td>\n",
       "      <td>0.0</td>\n",
       "      <td>0.0</td>\n",
       "      <td>1.0</td>\n",
       "      <td>0.0</td>\n",
       "    </tr>\n",
       "    <tr>\n",
       "      <th>2</th>\n",
       "      <td>0.184211</td>\n",
       "      <td>0.072822</td>\n",
       "      <td>0.133333</td>\n",
       "      <td>0.000000</td>\n",
       "      <td>0.0</td>\n",
       "      <td>0.0</td>\n",
       "      <td>1.0</td>\n",
       "      <td>0.0</td>\n",
       "      <td>0.0</td>\n",
       "      <td>0.0</td>\n",
       "      <td>...</td>\n",
       "      <td>0.0</td>\n",
       "      <td>0.0</td>\n",
       "      <td>0.0</td>\n",
       "      <td>0.0</td>\n",
       "      <td>0.0</td>\n",
       "      <td>1.0</td>\n",
       "      <td>0.0</td>\n",
       "      <td>0.0</td>\n",
       "      <td>1.0</td>\n",
       "      <td>0.0</td>\n",
       "    </tr>\n",
       "    <tr>\n",
       "      <th>3</th>\n",
       "      <td>0.368421</td>\n",
       "      <td>0.086476</td>\n",
       "      <td>0.133333</td>\n",
       "      <td>0.000000</td>\n",
       "      <td>0.0</td>\n",
       "      <td>1.0</td>\n",
       "      <td>0.0</td>\n",
       "      <td>0.0</td>\n",
       "      <td>0.0</td>\n",
       "      <td>0.0</td>\n",
       "      <td>...</td>\n",
       "      <td>0.0</td>\n",
       "      <td>0.0</td>\n",
       "      <td>0.0</td>\n",
       "      <td>0.0</td>\n",
       "      <td>0.0</td>\n",
       "      <td>1.0</td>\n",
       "      <td>0.0</td>\n",
       "      <td>0.0</td>\n",
       "      <td>1.0</td>\n",
       "      <td>0.0</td>\n",
       "    </tr>\n",
       "    <tr>\n",
       "      <th>4</th>\n",
       "      <td>0.184211</td>\n",
       "      <td>0.072812</td>\n",
       "      <td>0.133333</td>\n",
       "      <td>0.000000</td>\n",
       "      <td>0.0</td>\n",
       "      <td>0.0</td>\n",
       "      <td>0.0</td>\n",
       "      <td>0.0</td>\n",
       "      <td>0.0</td>\n",
       "      <td>0.0</td>\n",
       "      <td>...</td>\n",
       "      <td>0.0</td>\n",
       "      <td>0.0</td>\n",
       "      <td>0.0</td>\n",
       "      <td>0.0</td>\n",
       "      <td>0.0</td>\n",
       "      <td>1.0</td>\n",
       "      <td>0.0</td>\n",
       "      <td>0.0</td>\n",
       "      <td>1.0</td>\n",
       "      <td>0.0</td>\n",
       "    </tr>\n",
       "    <tr>\n",
       "      <th>...</th>\n",
       "      <td>...</td>\n",
       "      <td>...</td>\n",
       "      <td>...</td>\n",
       "      <td>...</td>\n",
       "      <td>...</td>\n",
       "      <td>...</td>\n",
       "      <td>...</td>\n",
       "      <td>...</td>\n",
       "      <td>...</td>\n",
       "      <td>...</td>\n",
       "      <td>...</td>\n",
       "      <td>...</td>\n",
       "      <td>...</td>\n",
       "      <td>...</td>\n",
       "      <td>...</td>\n",
       "      <td>...</td>\n",
       "      <td>...</td>\n",
       "      <td>...</td>\n",
       "      <td>...</td>\n",
       "      <td>...</td>\n",
       "      <td>...</td>\n",
       "    </tr>\n",
       "    <tr>\n",
       "      <th>39995</th>\n",
       "      <td>0.447368</td>\n",
       "      <td>0.076390</td>\n",
       "      <td>0.066667</td>\n",
       "      <td>0.000000</td>\n",
       "      <td>0.0</td>\n",
       "      <td>0.0</td>\n",
       "      <td>0.0</td>\n",
       "      <td>0.0</td>\n",
       "      <td>0.0</td>\n",
       "      <td>0.0</td>\n",
       "      <td>...</td>\n",
       "      <td>0.0</td>\n",
       "      <td>0.0</td>\n",
       "      <td>0.0</td>\n",
       "      <td>1.0</td>\n",
       "      <td>0.0</td>\n",
       "      <td>0.0</td>\n",
       "      <td>0.0</td>\n",
       "      <td>0.0</td>\n",
       "      <td>1.0</td>\n",
       "      <td>0.0</td>\n",
       "    </tr>\n",
       "    <tr>\n",
       "      <th>39996</th>\n",
       "      <td>0.144737</td>\n",
       "      <td>0.103127</td>\n",
       "      <td>0.066667</td>\n",
       "      <td>0.032258</td>\n",
       "      <td>0.0</td>\n",
       "      <td>0.0</td>\n",
       "      <td>0.0</td>\n",
       "      <td>0.0</td>\n",
       "      <td>1.0</td>\n",
       "      <td>0.0</td>\n",
       "      <td>...</td>\n",
       "      <td>0.0</td>\n",
       "      <td>0.0</td>\n",
       "      <td>0.0</td>\n",
       "      <td>1.0</td>\n",
       "      <td>0.0</td>\n",
       "      <td>0.0</td>\n",
       "      <td>0.0</td>\n",
       "      <td>0.0</td>\n",
       "      <td>0.0</td>\n",
       "      <td>1.0</td>\n",
       "    </tr>\n",
       "    <tr>\n",
       "      <th>39997</th>\n",
       "      <td>0.460526</td>\n",
       "      <td>0.074619</td>\n",
       "      <td>0.066667</td>\n",
       "      <td>0.000000</td>\n",
       "      <td>1.0</td>\n",
       "      <td>0.0</td>\n",
       "      <td>0.0</td>\n",
       "      <td>0.0</td>\n",
       "      <td>0.0</td>\n",
       "      <td>0.0</td>\n",
       "      <td>...</td>\n",
       "      <td>0.0</td>\n",
       "      <td>0.0</td>\n",
       "      <td>0.0</td>\n",
       "      <td>1.0</td>\n",
       "      <td>0.0</td>\n",
       "      <td>0.0</td>\n",
       "      <td>0.0</td>\n",
       "      <td>0.0</td>\n",
       "      <td>0.0</td>\n",
       "      <td>1.0</td>\n",
       "    </tr>\n",
       "    <tr>\n",
       "      <th>39998</th>\n",
       "      <td>0.197368</td>\n",
       "      <td>0.082309</td>\n",
       "      <td>0.066667</td>\n",
       "      <td>0.000000</td>\n",
       "      <td>0.0</td>\n",
       "      <td>0.0</td>\n",
       "      <td>0.0</td>\n",
       "      <td>0.0</td>\n",
       "      <td>1.0</td>\n",
       "      <td>0.0</td>\n",
       "      <td>...</td>\n",
       "      <td>0.0</td>\n",
       "      <td>0.0</td>\n",
       "      <td>0.0</td>\n",
       "      <td>1.0</td>\n",
       "      <td>0.0</td>\n",
       "      <td>0.0</td>\n",
       "      <td>0.0</td>\n",
       "      <td>0.0</td>\n",
       "      <td>1.0</td>\n",
       "      <td>0.0</td>\n",
       "    </tr>\n",
       "    <tr>\n",
       "      <th>39999</th>\n",
       "      <td>0.250000</td>\n",
       "      <td>0.085895</td>\n",
       "      <td>0.066667</td>\n",
       "      <td>0.000000</td>\n",
       "      <td>0.0</td>\n",
       "      <td>0.0</td>\n",
       "      <td>0.0</td>\n",
       "      <td>0.0</td>\n",
       "      <td>0.0</td>\n",
       "      <td>0.0</td>\n",
       "      <td>...</td>\n",
       "      <td>0.0</td>\n",
       "      <td>0.0</td>\n",
       "      <td>0.0</td>\n",
       "      <td>1.0</td>\n",
       "      <td>0.0</td>\n",
       "      <td>0.0</td>\n",
       "      <td>0.0</td>\n",
       "      <td>0.0</td>\n",
       "      <td>1.0</td>\n",
       "      <td>0.0</td>\n",
       "    </tr>\n",
       "  </tbody>\n",
       "</table>\n",
       "<p>40000 rows × 45 columns</p>\n",
       "</div>"
      ],
      "text/plain": [
       "            age   balance       day  campaign  job_admin  job_blue-collar  \\\n",
       "0      0.513158  0.092259  0.133333  0.000000        0.0              0.0   \n",
       "1      0.328947  0.073067  0.133333  0.000000        0.0              0.0   \n",
       "2      0.184211  0.072822  0.133333  0.000000        0.0              0.0   \n",
       "3      0.368421  0.086476  0.133333  0.000000        0.0              1.0   \n",
       "4      0.184211  0.072812  0.133333  0.000000        0.0              0.0   \n",
       "...         ...       ...       ...       ...        ...              ...   \n",
       "39995  0.447368  0.076390  0.066667  0.000000        0.0              0.0   \n",
       "39996  0.144737  0.103127  0.066667  0.032258        0.0              0.0   \n",
       "39997  0.460526  0.074619  0.066667  0.000000        1.0              0.0   \n",
       "39998  0.197368  0.082309  0.066667  0.000000        0.0              0.0   \n",
       "39999  0.250000  0.085895  0.066667  0.000000        0.0              0.0   \n",
       "\n",
       "       job_entrepreneur  job_housemaid  job_management  job_retired  ...  \\\n",
       "0                   0.0            0.0             1.0          0.0  ...   \n",
       "1                   0.0            0.0             0.0          0.0  ...   \n",
       "2                   1.0            0.0             0.0          0.0  ...   \n",
       "3                   0.0            0.0             0.0          0.0  ...   \n",
       "4                   0.0            0.0             0.0          0.0  ...   \n",
       "...                 ...            ...             ...          ...  ...   \n",
       "39995               0.0            0.0             0.0          0.0  ...   \n",
       "39996               0.0            0.0             1.0          0.0  ...   \n",
       "39997               0.0            0.0             0.0          0.0  ...   \n",
       "39998               0.0            0.0             1.0          0.0  ...   \n",
       "39999               0.0            0.0             0.0          0.0  ...   \n",
       "\n",
       "       month_feb  month_jan  month_jul  month_jun  month_mar  month_may  \\\n",
       "0            0.0        0.0        0.0        0.0        0.0        1.0   \n",
       "1            0.0        0.0        0.0        0.0        0.0        1.0   \n",
       "2            0.0        0.0        0.0        0.0        0.0        1.0   \n",
       "3            0.0        0.0        0.0        0.0        0.0        1.0   \n",
       "4            0.0        0.0        0.0        0.0        0.0        1.0   \n",
       "...          ...        ...        ...        ...        ...        ...   \n",
       "39995        0.0        0.0        0.0        1.0        0.0        0.0   \n",
       "39996        0.0        0.0        0.0        1.0        0.0        0.0   \n",
       "39997        0.0        0.0        0.0        1.0        0.0        0.0   \n",
       "39998        0.0        0.0        0.0        1.0        0.0        0.0   \n",
       "39999        0.0        0.0        0.0        1.0        0.0        0.0   \n",
       "\n",
       "       month_nov  month_oct  y_no  y_yes  \n",
       "0            0.0        0.0   1.0    0.0  \n",
       "1            0.0        0.0   1.0    0.0  \n",
       "2            0.0        0.0   1.0    0.0  \n",
       "3            0.0        0.0   1.0    0.0  \n",
       "4            0.0        0.0   1.0    0.0  \n",
       "...          ...        ...   ...    ...  \n",
       "39995        0.0        0.0   1.0    0.0  \n",
       "39996        0.0        0.0   0.0    1.0  \n",
       "39997        0.0        0.0   0.0    1.0  \n",
       "39998        0.0        0.0   1.0    0.0  \n",
       "39999        0.0        0.0   1.0    0.0  \n",
       "\n",
       "[40000 rows x 45 columns]"
      ]
     },
     "execution_count": 22,
     "metadata": {},
     "output_type": "execute_result"
    }
   ],
   "source": [
    "data_scaled"
   ]
  },
  {
   "cell_type": "code",
   "execution_count": 23,
   "metadata": {},
   "outputs": [],
   "source": [
    "y=data_scaled.y_yes\n",
    "X=data_scaled.drop(['y_yes','y_no'], axis = 1)"
   ]
  },
  {
   "cell_type": "code",
   "execution_count": 24,
   "metadata": {},
   "outputs": [
    {
     "name": "stdout",
     "output_type": "stream",
     "text": [
      "Optimization terminated successfully.\n",
      "         Current function value: 0.238612\n",
      "         Iterations 7\n"
     ]
    },
    {
     "data": {
      "text/html": [
       "<table class=\"simpletable\">\n",
       "<caption>Logit Regression Results</caption>\n",
       "<tr>\n",
       "  <th>Dep. Variable:</th>         <td>y_yes</td>      <th>  No. Observations:  </th>  <td> 40000</td> \n",
       "</tr>\n",
       "<tr>\n",
       "  <th>Model:</th>                 <td>Logit</td>      <th>  Df Residuals:      </th>  <td> 39964</td> \n",
       "</tr>\n",
       "<tr>\n",
       "  <th>Method:</th>                 <td>MLE</td>       <th>  Df Model:          </th>  <td>    35</td> \n",
       "</tr>\n",
       "<tr>\n",
       "  <th>Date:</th>            <td>Mon, 16 Nov 2020</td> <th>  Pseudo R-squ.:     </th>  <td>0.08157</td>\n",
       "</tr>\n",
       "<tr>\n",
       "  <th>Time:</th>                <td>12:15:03</td>     <th>  Log-Likelihood:    </th> <td> -9544.5</td>\n",
       "</tr>\n",
       "<tr>\n",
       "  <th>converged:</th>             <td>True</td>       <th>  LL-Null:           </th> <td> -10392.</td>\n",
       "</tr>\n",
       "<tr>\n",
       "  <th>Covariance Type:</th>     <td>nonrobust</td>    <th>  LLR p-value:       </th>  <td> 0.000</td> \n",
       "</tr>\n",
       "</table>\n",
       "<table class=\"simpletable\">\n",
       "<tr>\n",
       "           <td></td>              <th>coef</th>     <th>std err</th>      <th>z</th>      <th>P>|z|</th>  <th>[0.025</th>    <th>0.975]</th>  \n",
       "</tr>\n",
       "<tr>\n",
       "  <th>age</th>                 <td>   -0.3058</td> <td>    0.194</td> <td>   -1.576</td> <td> 0.115</td> <td>   -0.686</td> <td>    0.074</td>\n",
       "</tr>\n",
       "<tr>\n",
       "  <th>balance</th>             <td>    2.1564</td> <td>    0.633</td> <td>    3.408</td> <td> 0.001</td> <td>    0.916</td> <td>    3.396</td>\n",
       "</tr>\n",
       "<tr>\n",
       "  <th>day</th>                 <td>    0.4585</td> <td>    0.089</td> <td>    5.155</td> <td> 0.000</td> <td>    0.284</td> <td>    0.633</td>\n",
       "</tr>\n",
       "<tr>\n",
       "  <th>campaign</th>            <td>   -3.1227</td> <td>    0.551</td> <td>   -5.667</td> <td> 0.000</td> <td>   -4.203</td> <td>   -2.043</td>\n",
       "</tr>\n",
       "<tr>\n",
       "  <th>job_admin</th>           <td>    1.9078</td> <td>      nan</td> <td>      nan</td> <td>   nan</td> <td>      nan</td> <td>      nan</td>\n",
       "</tr>\n",
       "<tr>\n",
       "  <th>job_blue-collar</th>     <td>    1.8377</td> <td>      nan</td> <td>      nan</td> <td>   nan</td> <td>      nan</td> <td>      nan</td>\n",
       "</tr>\n",
       "<tr>\n",
       "  <th>job_entrepreneur</th>    <td>    1.7683</td> <td> 8.31e+04</td> <td> 2.13e-05</td> <td> 1.000</td> <td>-1.63e+05</td> <td> 1.63e+05</td>\n",
       "</tr>\n",
       "<tr>\n",
       "  <th>job_housemaid</th>       <td>    1.5618</td> <td>      nan</td> <td>      nan</td> <td>   nan</td> <td>      nan</td> <td>      nan</td>\n",
       "</tr>\n",
       "<tr>\n",
       "  <th>job_management</th>      <td>    1.8350</td> <td>      nan</td> <td>      nan</td> <td>   nan</td> <td>      nan</td> <td>      nan</td>\n",
       "</tr>\n",
       "<tr>\n",
       "  <th>job_retired</th>         <td>    2.3130</td> <td> 6.66e+05</td> <td> 3.48e-06</td> <td> 1.000</td> <td> -1.3e+06</td> <td>  1.3e+06</td>\n",
       "</tr>\n",
       "<tr>\n",
       "  <th>job_self-employed</th>   <td>    1.8846</td> <td>      nan</td> <td>      nan</td> <td>   nan</td> <td>      nan</td> <td>      nan</td>\n",
       "</tr>\n",
       "<tr>\n",
       "  <th>job_services</th>        <td>    1.8101</td> <td>      nan</td> <td>      nan</td> <td>   nan</td> <td>      nan</td> <td>      nan</td>\n",
       "</tr>\n",
       "<tr>\n",
       "  <th>job_student</th>         <td>    2.0424</td> <td>      nan</td> <td>      nan</td> <td>   nan</td> <td>      nan</td> <td>      nan</td>\n",
       "</tr>\n",
       "<tr>\n",
       "  <th>job_technician</th>      <td>    1.9075</td> <td>      nan</td> <td>      nan</td> <td>   nan</td> <td>      nan</td> <td>      nan</td>\n",
       "</tr>\n",
       "<tr>\n",
       "  <th>job_unemployed</th>      <td>    1.9765</td> <td>      nan</td> <td>      nan</td> <td>   nan</td> <td>      nan</td> <td>      nan</td>\n",
       "</tr>\n",
       "<tr>\n",
       "  <th>job_unknown</th>         <td>    1.9922</td> <td> 5.25e+05</td> <td> 3.79e-06</td> <td> 1.000</td> <td>-1.03e+06</td> <td> 1.03e+06</td>\n",
       "</tr>\n",
       "<tr>\n",
       "  <th>marital_divorced</th>    <td>  -13.4383</td> <td>      nan</td> <td>      nan</td> <td>   nan</td> <td>      nan</td> <td>      nan</td>\n",
       "</tr>\n",
       "<tr>\n",
       "  <th>marital_married</th>     <td>  -13.7557</td> <td>      nan</td> <td>      nan</td> <td>   nan</td> <td>      nan</td> <td>      nan</td>\n",
       "</tr>\n",
       "<tr>\n",
       "  <th>marital_single</th>      <td>  -13.4522</td> <td>      nan</td> <td>      nan</td> <td>   nan</td> <td>      nan</td> <td>      nan</td>\n",
       "</tr>\n",
       "<tr>\n",
       "  <th>education_primary</th>   <td>   10.8814</td> <td>      nan</td> <td>      nan</td> <td>   nan</td> <td>      nan</td> <td>      nan</td>\n",
       "</tr>\n",
       "<tr>\n",
       "  <th>education_secondary</th> <td>   10.9354</td> <td>      nan</td> <td>      nan</td> <td>   nan</td> <td>      nan</td> <td>      nan</td>\n",
       "</tr>\n",
       "<tr>\n",
       "  <th>education_tertiary</th>  <td>   11.1691</td> <td>      nan</td> <td>      nan</td> <td>   nan</td> <td>      nan</td> <td>      nan</td>\n",
       "</tr>\n",
       "<tr>\n",
       "  <th>education_unknown</th>   <td>   10.8071</td> <td>      nan</td> <td>      nan</td> <td>   nan</td> <td>      nan</td> <td>      nan</td>\n",
       "</tr>\n",
       "<tr>\n",
       "  <th>default_no</th>          <td>   -0.5572</td> <td>      nan</td> <td>      nan</td> <td>   nan</td> <td>      nan</td> <td>      nan</td>\n",
       "</tr>\n",
       "<tr>\n",
       "  <th>default_yes</th>         <td>   -0.4889</td> <td>      nan</td> <td>      nan</td> <td>   nan</td> <td>      nan</td> <td>      nan</td>\n",
       "</tr>\n",
       "<tr>\n",
       "  <th>housing_no</th>          <td>   -0.2941</td> <td>  1.2e+06</td> <td>-2.46e-07</td> <td> 1.000</td> <td>-2.34e+06</td> <td> 2.34e+06</td>\n",
       "</tr>\n",
       "<tr>\n",
       "  <th>housing_yes</th>         <td>   -0.7520</td> <td> 1.24e+06</td> <td>-6.07e-07</td> <td> 1.000</td> <td>-2.43e+06</td> <td> 2.43e+06</td>\n",
       "</tr>\n",
       "<tr>\n",
       "  <th>loan_no</th>             <td>   -0.4042</td> <td>      nan</td> <td>      nan</td> <td>   nan</td> <td>      nan</td> <td>      nan</td>\n",
       "</tr>\n",
       "<tr>\n",
       "  <th>loan_yes</th>            <td>   -0.6418</td> <td>      nan</td> <td>      nan</td> <td>   nan</td> <td>      nan</td> <td>      nan</td>\n",
       "</tr>\n",
       "<tr>\n",
       "  <th>contact_cellular</th>    <td>    0.2499</td> <td>      nan</td> <td>      nan</td> <td>   nan</td> <td>      nan</td> <td>      nan</td>\n",
       "</tr>\n",
       "<tr>\n",
       "  <th>contact_telephone</th>   <td>   -0.2081</td> <td>      nan</td> <td>      nan</td> <td>   nan</td> <td>      nan</td> <td>      nan</td>\n",
       "</tr>\n",
       "<tr>\n",
       "  <th>contact_unknown</th>     <td>   -1.0879</td> <td>      nan</td> <td>      nan</td> <td>   nan</td> <td>      nan</td> <td>      nan</td>\n",
       "</tr>\n",
       "<tr>\n",
       "  <th>month_apr</th>           <td>    0.1946</td> <td> 1.78e+06</td> <td> 1.09e-07</td> <td> 1.000</td> <td>-3.49e+06</td> <td> 3.49e+06</td>\n",
       "</tr>\n",
       "<tr>\n",
       "  <th>month_aug</th>           <td>   -1.1910</td> <td> 1.78e+06</td> <td>-6.69e-07</td> <td> 1.000</td> <td>-3.49e+06</td> <td> 3.49e+06</td>\n",
       "</tr>\n",
       "<tr>\n",
       "  <th>month_dec</th>           <td>   -0.4315</td> <td> 1.78e+06</td> <td>-2.42e-07</td> <td> 1.000</td> <td>-3.49e+06</td> <td> 3.49e+06</td>\n",
       "</tr>\n",
       "<tr>\n",
       "  <th>month_feb</th>           <td>   -0.2157</td> <td> 1.78e+06</td> <td>-1.21e-07</td> <td> 1.000</td> <td>-3.49e+06</td> <td> 3.49e+06</td>\n",
       "</tr>\n",
       "<tr>\n",
       "  <th>month_jan</th>           <td>   -1.9610</td> <td> 1.78e+06</td> <td> -1.1e-06</td> <td> 1.000</td> <td>-3.49e+06</td> <td> 3.49e+06</td>\n",
       "</tr>\n",
       "<tr>\n",
       "  <th>month_jul</th>           <td>   -0.8657</td> <td> 1.78e+06</td> <td>-4.86e-07</td> <td> 1.000</td> <td>-3.49e+06</td> <td> 3.49e+06</td>\n",
       "</tr>\n",
       "<tr>\n",
       "  <th>month_jun</th>           <td>    0.3319</td> <td> 1.78e+06</td> <td> 1.86e-07</td> <td> 1.000</td> <td>-3.49e+06</td> <td> 3.49e+06</td>\n",
       "</tr>\n",
       "<tr>\n",
       "  <th>month_mar</th>           <td>    1.5283</td> <td> 1.78e+06</td> <td> 8.58e-07</td> <td> 1.000</td> <td>-3.49e+06</td> <td> 3.49e+06</td>\n",
       "</tr>\n",
       "<tr>\n",
       "  <th>month_may</th>           <td>   -0.2277</td> <td> 1.78e+06</td> <td>-1.28e-07</td> <td> 1.000</td> <td>-3.49e+06</td> <td> 3.49e+06</td>\n",
       "</tr>\n",
       "<tr>\n",
       "  <th>month_nov</th>           <td>   -0.9952</td> <td> 1.78e+06</td> <td>-5.59e-07</td> <td> 1.000</td> <td>-3.49e+06</td> <td> 3.49e+06</td>\n",
       "</tr>\n",
       "<tr>\n",
       "  <th>month_oct</th>           <td>    2.7869</td> <td> 1.78e+06</td> <td> 1.56e-06</td> <td> 1.000</td> <td>-3.49e+06</td> <td> 3.49e+06</td>\n",
       "</tr>\n",
       "</table>"
      ],
      "text/plain": [
       "<class 'statsmodels.iolib.summary.Summary'>\n",
       "\"\"\"\n",
       "                           Logit Regression Results                           \n",
       "==============================================================================\n",
       "Dep. Variable:                  y_yes   No. Observations:                40000\n",
       "Model:                          Logit   Df Residuals:                    39964\n",
       "Method:                           MLE   Df Model:                           35\n",
       "Date:                Mon, 16 Nov 2020   Pseudo R-squ.:                 0.08157\n",
       "Time:                        12:15:03   Log-Likelihood:                -9544.5\n",
       "converged:                       True   LL-Null:                       -10392.\n",
       "Covariance Type:            nonrobust   LLR p-value:                     0.000\n",
       "=======================================================================================\n",
       "                          coef    std err          z      P>|z|      [0.025      0.975]\n",
       "---------------------------------------------------------------------------------------\n",
       "age                    -0.3058      0.194     -1.576      0.115      -0.686       0.074\n",
       "balance                 2.1564      0.633      3.408      0.001       0.916       3.396\n",
       "day                     0.4585      0.089      5.155      0.000       0.284       0.633\n",
       "campaign               -3.1227      0.551     -5.667      0.000      -4.203      -2.043\n",
       "job_admin               1.9078        nan        nan        nan         nan         nan\n",
       "job_blue-collar         1.8377        nan        nan        nan         nan         nan\n",
       "job_entrepreneur        1.7683   8.31e+04   2.13e-05      1.000   -1.63e+05    1.63e+05\n",
       "job_housemaid           1.5618        nan        nan        nan         nan         nan\n",
       "job_management          1.8350        nan        nan        nan         nan         nan\n",
       "job_retired             2.3130   6.66e+05   3.48e-06      1.000    -1.3e+06     1.3e+06\n",
       "job_self-employed       1.8846        nan        nan        nan         nan         nan\n",
       "job_services            1.8101        nan        nan        nan         nan         nan\n",
       "job_student             2.0424        nan        nan        nan         nan         nan\n",
       "job_technician          1.9075        nan        nan        nan         nan         nan\n",
       "job_unemployed          1.9765        nan        nan        nan         nan         nan\n",
       "job_unknown             1.9922   5.25e+05   3.79e-06      1.000   -1.03e+06    1.03e+06\n",
       "marital_divorced      -13.4383        nan        nan        nan         nan         nan\n",
       "marital_married       -13.7557        nan        nan        nan         nan         nan\n",
       "marital_single        -13.4522        nan        nan        nan         nan         nan\n",
       "education_primary      10.8814        nan        nan        nan         nan         nan\n",
       "education_secondary    10.9354        nan        nan        nan         nan         nan\n",
       "education_tertiary     11.1691        nan        nan        nan         nan         nan\n",
       "education_unknown      10.8071        nan        nan        nan         nan         nan\n",
       "default_no             -0.5572        nan        nan        nan         nan         nan\n",
       "default_yes            -0.4889        nan        nan        nan         nan         nan\n",
       "housing_no             -0.2941    1.2e+06  -2.46e-07      1.000   -2.34e+06    2.34e+06\n",
       "housing_yes            -0.7520   1.24e+06  -6.07e-07      1.000   -2.43e+06    2.43e+06\n",
       "loan_no                -0.4042        nan        nan        nan         nan         nan\n",
       "loan_yes               -0.6418        nan        nan        nan         nan         nan\n",
       "contact_cellular        0.2499        nan        nan        nan         nan         nan\n",
       "contact_telephone      -0.2081        nan        nan        nan         nan         nan\n",
       "contact_unknown        -1.0879        nan        nan        nan         nan         nan\n",
       "month_apr               0.1946   1.78e+06   1.09e-07      1.000   -3.49e+06    3.49e+06\n",
       "month_aug              -1.1910   1.78e+06  -6.69e-07      1.000   -3.49e+06    3.49e+06\n",
       "month_dec              -0.4315   1.78e+06  -2.42e-07      1.000   -3.49e+06    3.49e+06\n",
       "month_feb              -0.2157   1.78e+06  -1.21e-07      1.000   -3.49e+06    3.49e+06\n",
       "month_jan              -1.9610   1.78e+06   -1.1e-06      1.000   -3.49e+06    3.49e+06\n",
       "month_jul              -0.8657   1.78e+06  -4.86e-07      1.000   -3.49e+06    3.49e+06\n",
       "month_jun               0.3319   1.78e+06   1.86e-07      1.000   -3.49e+06    3.49e+06\n",
       "month_mar               1.5283   1.78e+06   8.58e-07      1.000   -3.49e+06    3.49e+06\n",
       "month_may              -0.2277   1.78e+06  -1.28e-07      1.000   -3.49e+06    3.49e+06\n",
       "month_nov              -0.9952   1.78e+06  -5.59e-07      1.000   -3.49e+06    3.49e+06\n",
       "month_oct               2.7869   1.78e+06   1.56e-06      1.000   -3.49e+06    3.49e+06\n",
       "=======================================================================================\n",
       "\"\"\""
      ]
     },
     "execution_count": 24,
     "metadata": {},
     "output_type": "execute_result"
    }
   ],
   "source": [
    "loj = sm.Logit(y, X)\n",
    "loj_model= loj.fit()\n",
    "loj_model.summary()"
   ]
  },
  {
   "cell_type": "code",
   "execution_count": 25,
   "metadata": {},
   "outputs": [],
   "source": [
    "#scikit-learn"
   ]
  },
  {
   "cell_type": "code",
   "execution_count": 26,
   "metadata": {},
   "outputs": [
    {
     "data": {
      "text/plain": [
       "LogisticRegression(solver='liblinear')"
      ]
     },
     "execution_count": 26,
     "metadata": {},
     "output_type": "execute_result"
    }
   ],
   "source": [
    "from sklearn.linear_model import LogisticRegression\n",
    "loj = LogisticRegression(solver = \"liblinear\")\n",
    "loj_model = loj.fit(X,y)\n",
    "loj_model"
   ]
  },
  {
   "cell_type": "code",
   "execution_count": 27,
   "metadata": {},
   "outputs": [
    {
     "data": {
      "text/plain": [
       "array([-0.73712503])"
      ]
     },
     "execution_count": 27,
     "metadata": {},
     "output_type": "execute_result"
    }
   ],
   "source": [
    "loj_model.intercept_"
   ]
  },
  {
   "cell_type": "code",
   "execution_count": 28,
   "metadata": {},
   "outputs": [
    {
     "data": {
      "text/plain": [
       "array([-0.73712503])"
      ]
     },
     "execution_count": 28,
     "metadata": {},
     "output_type": "execute_result"
    }
   ],
   "source": [
    "loj_model.intercept_"
   ]
  },
  {
   "cell_type": "markdown",
   "metadata": {},
   "source": [
    "### Train-Test Ayrımı"
   ]
  },
  {
   "cell_type": "code",
   "execution_count": 29,
   "metadata": {},
   "outputs": [],
   "source": [
    "X_train, X_test, y_train, y_test = train_test_split(X, y, test_size=0.2, random_state=42)"
   ]
  },
  {
   "cell_type": "code",
   "execution_count": 30,
   "metadata": {},
   "outputs": [],
   "source": [
    "def upSample(X_train, y_train):\n",
    "    df_all = pd.concat((X_train, pd.DataFrame({'value': y_train}, index=y_train.index)), axis=1)\n",
    "    \n",
    "    df_majority = df_all [df_all.value==0]\n",
    "    df_minority = df_all[df_all.value==1]\n",
    "     \n",
    "    # Upsample minority class\n",
    "    df_minority_upsampled = resample(df_minority, \n",
    "                                     replace=True,     # sample with replacement\n",
    "                                     n_samples=df_majority.shape[0],    # to match majority class\n",
    "                                     random_state=123) # reproducible results\n",
    "    # Combine majority class with upsampled minority class\n",
    "    df_upsampled = pd.concat([df_majority, df_minority_upsampled], axis=0)\n",
    "    y_upsampled = df_upsampled.value\n",
    "    X_upsampled = df_upsampled.drop('value', axis=1)\n",
    "\n",
    "    return X_upsampled, y_upsampled"
   ]
  },
  {
   "cell_type": "code",
   "execution_count": 31,
   "metadata": {},
   "outputs": [],
   "source": [
    "X_train,y_train=upSample(X_train, y_train)"
   ]
  },
  {
   "cell_type": "markdown",
   "metadata": {},
   "source": [
    "## Lojistik Regresyon"
   ]
  },
  {
   "cell_type": "code",
   "execution_count": 41,
   "metadata": {},
   "outputs": [
    {
     "data": {
      "text/plain": [
       "LogisticRegression(random_state=42, solver='liblinear')"
      ]
     },
     "execution_count": 41,
     "metadata": {},
     "output_type": "execute_result"
    }
   ],
   "source": [
    "loj = LogisticRegression(solver = \"liblinear\",random_state=42)\n",
    "loj_model = loj.fit(X_train,y_train)\n",
    "loj_model"
   ]
  },
  {
   "cell_type": "code",
   "execution_count": 42,
   "metadata": {},
   "outputs": [],
   "source": [
    "y_pred=loj_model.predict(X_test)"
   ]
  },
  {
   "cell_type": "code",
   "execution_count": 43,
   "metadata": {},
   "outputs": [
    {
     "name": "stdout",
     "output_type": "stream",
     "text": [
      "              precision    recall  f1-score   support\n",
      "\n",
      "         0.0       0.96      0.67      0.79      7424\n",
      "         1.0       0.13      0.60      0.21       576\n",
      "\n",
      "    accuracy                           0.67      8000\n",
      "   macro avg       0.54      0.64      0.50      8000\n",
      "weighted avg       0.90      0.67      0.75      8000\n",
      "\n"
     ]
    }
   ],
   "source": [
    "print(classification_report(y_test,y_pred))"
   ]
  },
  {
   "cell_type": "code",
   "execution_count": 44,
   "metadata": {},
   "outputs": [
    {
     "data": {
      "text/plain": [
       "0.6685"
      ]
     },
     "execution_count": 44,
     "metadata": {},
     "output_type": "execute_result"
    }
   ],
   "source": [
    "accuracy_score(y_test, loj_model.predict(X_test))"
   ]
  },
  {
   "cell_type": "code",
   "execution_count": 45,
   "metadata": {},
   "outputs": [
    {
     "name": "stdout",
     "output_type": "stream",
     "text": [
      "Confusion Matrix \n",
      "\n"
     ]
    },
    {
     "data": {
      "image/png": "[encoded data removed]",
      "text/plain": [
       "<Figure size 432x288 with 2 Axes>"
      ]
     },
     "metadata": {
      "needs_background": "light"
     },
     "output_type": "display_data"
    },
    {
     "name": "stdout",
     "output_type": "stream",
     "text": [
      "\n",
      "\n"
     ]
    }
   ],
   "source": [
    "print(\"Confusion Matrix\",\"\\n\")\n",
    "score = round(accuracy_score(y_test, y_pred),3) \n",
    "cm1 = cm(y_test,y_pred)\n",
    "sns.heatmap(cm1, annot=True, fmt=\".1f\", linewidths=.3, \n",
    "        square = True, cmap = 'PuBu')\n",
    "plt.ylabel('Actual label')\n",
    "plt.xlabel('Predicted label')\n",
    "plt.title('Accuracy Score: {0}'.format(score), size = 12)\n",
    "plt.show()\n",
    "print(\"\\n\")"
   ]
  },
  {
   "cell_type": "markdown",
   "metadata": {},
   "source": [
    "## Hata"
   ]
  },
  {
   "cell_type": "code",
   "execution_count": 50,
   "metadata": {},
   "outputs": [
    {
     "name": "stdout",
     "output_type": "stream",
     "text": [
      "Mean Absolute Error (MAE): 0.33\n",
      "Mean Squared Error (MSE): 0.33\n",
      "Root Mean Squared Error (RMSE): 0.58\n"
     ]
    }
   ],
   "source": [
    "mae = mean_absolute_error(y_pred, y_test)\n",
    "mse = mean_squared_error(y_pred, y_test)\n",
    "rmse = np.sqrt(mse)\n",
    "print('Mean Absolute Error (MAE): %.2f' % mae)\n",
    "print('Mean Squared Error (MSE): %.2f' % mse)\n",
    "print('Root Mean Squared Error (RMSE): %.2f' % rmse)"
   ]
  },
  {
   "cell_type": "markdown",
   "metadata": {},
   "source": [
    "## Cohen-Matthew Score"
   ]
  },
  {
   "cell_type": "code",
   "execution_count": 51,
   "metadata": {},
   "outputs": [
    {
     "name": "stdout",
     "output_type": "stream",
     "text": [
      "Cohen Score 0.1001384402399631\n",
      "Matthew Score 0.1499814960276955\n"
     ]
    }
   ],
   "source": [
    "print(\"Cohen Score\",cohen_kappa_score(y_test, y_pred))\n",
    "print(\"Matthew Score\",matthews_corrcoef(y_test, y_pred))"
   ]
  },
  {
   "cell_type": "markdown",
   "metadata": {},
   "source": [
    "# Gaussian Naive Bayes"
   ]
  },
  {
   "cell_type": "code",
   "execution_count": 52,
   "metadata": {},
   "outputs": [],
   "source": [
    "X_train, X_test, y_train, y_test = train_test_split(X, y, test_size=0.2, random_state=42)"
   ]
  },
  {
   "cell_type": "code",
   "execution_count": 53,
   "metadata": {},
   "outputs": [],
   "source": [
    "def upSample(X_train, y_train):\n",
    "    df_all = pd.concat((X_train, pd.DataFrame({'value': y_train}, index=y_train.index)), axis=1)\n",
    "    \n",
    "    df_majority = df_all [df_all.value==0]\n",
    "    df_minority = df_all[df_all.value==1]\n",
    "     \n",
    "    # Upsample minority class\n",
    "    df_minority_upsampled = resample(df_minority, \n",
    "                                     replace=True,     # sample with replacement\n",
    "                                     n_samples=df_majority.shape[0],    # to match majority class\n",
    "                                     random_state=123) # reproducible results\n",
    "    # Combine majority class with upsampled minority class\n",
    "    df_upsampled = pd.concat([df_majority, df_minority_upsampled], axis=0)\n",
    "    y_upsampled = df_upsampled.value\n",
    "    X_upsampled = df_upsampled.drop('value', axis=1)\n",
    "\n",
    "    return X_upsampled, y_upsampled"
   ]
  },
  {
   "cell_type": "code",
   "execution_count": 54,
   "metadata": {},
   "outputs": [],
   "source": [
    "X_train,y_train=upSample(X_train, y_train)"
   ]
  },
  {
   "cell_type": "code",
   "execution_count": 55,
   "metadata": {},
   "outputs": [],
   "source": [
    "from sklearn.naive_bayes import GaussianNB"
   ]
  },
  {
   "cell_type": "code",
   "execution_count": 56,
   "metadata": {},
   "outputs": [
    {
     "data": {
      "text/plain": [
       "GaussianNB()"
      ]
     },
     "execution_count": 56,
     "metadata": {},
     "output_type": "execute_result"
    }
   ],
   "source": [
    "nb = GaussianNB()\n",
    "nb_model = nb.fit(X_train, y_train)\n",
    "nb_model"
   ]
  },
  {
   "cell_type": "code",
   "execution_count": 57,
   "metadata": {},
   "outputs": [
    {
     "data": {
      "text/plain": [
       "array([1., 1., 0., 1., 1., 1., 0., 1., 1., 1.])"
      ]
     },
     "execution_count": 57,
     "metadata": {},
     "output_type": "execute_result"
    }
   ],
   "source": [
    "nb_model.predict(X_test)[0:10]"
   ]
  },
  {
   "cell_type": "code",
   "execution_count": 58,
   "metadata": {},
   "outputs": [
    {
     "data": {
      "text/plain": [
       "array([[8.95908983e-06, 9.99991041e-01],\n",
       "       [2.89820433e-05, 9.99971018e-01],\n",
       "       [9.99980407e-01, 1.95930103e-05],\n",
       "       [1.93895275e-01, 8.06104725e-01],\n",
       "       [9.49367301e-03, 9.90506327e-01],\n",
       "       [4.62874705e-03, 9.95371253e-01],\n",
       "       [5.32377097e-01, 4.67622903e-01],\n",
       "       [3.44111028e-05, 9.99965589e-01],\n",
       "       [9.26287971e-03, 9.90737120e-01],\n",
       "       [2.25343997e-05, 9.99977466e-01]])"
      ]
     },
     "execution_count": 58,
     "metadata": {},
     "output_type": "execute_result"
    }
   ],
   "source": [
    "nb_model.predict_proba(X_test)[0:10]"
   ]
  },
  {
   "cell_type": "code",
   "execution_count": 59,
   "metadata": {},
   "outputs": [],
   "source": [
    "y_pred = nb_model.predict(X_test)"
   ]
  },
  {
   "cell_type": "code",
   "execution_count": 60,
   "metadata": {},
   "outputs": [
    {
     "data": {
      "text/plain": [
       "0.221875"
      ]
     },
     "execution_count": 60,
     "metadata": {},
     "output_type": "execute_result"
    }
   ],
   "source": [
    "accuracy_score(y_test, y_pred)"
   ]
  },
  {
   "cell_type": "code",
   "execution_count": 61,
   "metadata": {},
   "outputs": [
    {
     "name": "stdout",
     "output_type": "stream",
     "text": [
      "Confusion Matrix \n",
      "\n"
     ]
    },
    {
     "data": {
      "image/png": "[encoded data removed]",
      "text/plain": [
       "<Figure size 432x288 with 2 Axes>"
      ]
     },
     "metadata": {
      "needs_background": "light"
     },
     "output_type": "display_data"
    },
    {
     "name": "stdout",
     "output_type": "stream",
     "text": [
      "\n",
      "\n"
     ]
    }
   ],
   "source": [
    "print(\"Confusion Matrix\",\"\\n\")\n",
    "score = round(accuracy_score(y_test, y_pred),3) \n",
    "cm1 = cm(y_test, nb_model.predict(X_test))\n",
    "sns.heatmap(cm1, annot=True, fmt=\".1f\", linewidths=.3, \n",
    "        square = True, cmap = 'PuBu')\n",
    "plt.ylabel('Actual label')\n",
    "plt.xlabel('Predicted label')\n",
    "plt.title('Accuracy Score: {0}'.format(score), size = 12)\n",
    "plt.show()\n",
    "print(\"\\n\")"
   ]
  },
  {
   "cell_type": "markdown",
   "metadata": {},
   "source": [
    "### Hata"
   ]
  },
  {
   "cell_type": "code",
   "execution_count": 66,
   "metadata": {},
   "outputs": [
    {
     "name": "stdout",
     "output_type": "stream",
     "text": [
      "Mean Absolute Error (MAE): 0.78\n",
      "Mean Squared Error (MSE): 0.78\n",
      "Root Mean Squared Error (RMSE): 0.88\n"
     ]
    }
   ],
   "source": [
    "mae = mean_absolute_error(y_pred, y_test)\n",
    "mse = mean_squared_error(y_pred, y_test)\n",
    "rmse = np.sqrt(mse)\n",
    "print('Mean Absolute Error (MAE): %.2f' % mae)\n",
    "print('Mean Squared Error (MSE): %.2f' % mse)\n",
    "print('Root Mean Squared Error (RMSE): %.2f' % rmse)"
   ]
  },
  {
   "cell_type": "markdown",
   "metadata": {},
   "source": [
    "### Cohen-Matthew Score"
   ]
  },
  {
   "cell_type": "code",
   "execution_count": 67,
   "metadata": {},
   "outputs": [
    {
     "name": "stdout",
     "output_type": "stream",
     "text": [
      "Cohen Score 0.015927276314341876\n",
      "Matthew Score 0.06638690799607962\n"
     ]
    }
   ],
   "source": [
    "print(\"Cohen Score\",cohen_kappa_score(y_test, y_pred))\n",
    "print(\"Matthew Score\",matthews_corrcoef(y_test, y_pred))"
   ]
  },
  {
   "cell_type": "markdown",
   "metadata": {},
   "source": [
    "# KNN"
   ]
  },
  {
   "cell_type": "markdown",
   "metadata": {},
   "source": [
    "## Model & Tahmin"
   ]
  },
  {
   "cell_type": "code",
   "execution_count": 68,
   "metadata": {},
   "outputs": [],
   "source": [
    "df = data.copy()"
   ]
  },
  {
   "cell_type": "code",
   "execution_count": 69,
   "metadata": {},
   "outputs": [],
   "source": [
    "X_train, X_test, y_train, y_test = train_test_split(X, y, test_size=0.2, random_state=42)"
   ]
  },
  {
   "cell_type": "code",
   "execution_count": 70,
   "metadata": {},
   "outputs": [],
   "source": [
    "def upSample(X_train, y_train):\n",
    "    df_all = pd.concat((X_train, pd.DataFrame({'value': y_train}, index=y_train.index)), axis=1)\n",
    "    \n",
    "    df_majority = df_all [df_all.value==0]\n",
    "    df_minority = df_all[df_all.value==1]\n",
    "     \n",
    "    # Upsample minority class\n",
    "    df_minority_upsampled = resample(df_minority, \n",
    "                                     replace=True,     # sample with replacement\n",
    "                                     n_samples=df_majority.shape[0],    # to match majority class\n",
    "                                     random_state=123) # reproducible results\n",
    "    # Combine majority class with upsampled minority class\n",
    "    df_upsampled = pd.concat([df_majority, df_minority_upsampled], axis=0)\n",
    "    y_upsampled = df_upsampled.value\n",
    "    X_upsampled = df_upsampled.drop('value', axis=1)\n",
    "\n",
    "    return X_upsampled, y_upsampled\n"
   ]
  },
  {
   "cell_type": "code",
   "execution_count": 71,
   "metadata": {},
   "outputs": [],
   "source": [
    "X_train,y_train=upSample(X_train, y_train)"
   ]
  },
  {
   "cell_type": "markdown",
   "metadata": {},
   "source": [
    "## Model Tuning"
   ]
  },
  {
   "cell_type": "code",
   "execution_count": 72,
   "metadata": {},
   "outputs": [],
   "source": [
    "knn = KNeighborsClassifier(n_neighbors=100,weights=\"distance\")\n",
    "knn_tuned=knn.fit(X_train, y_train)"
   ]
  },
  {
   "cell_type": "code",
   "execution_count": 73,
   "metadata": {},
   "outputs": [
    {
     "data": {
      "text/plain": [
       "0.70725"
      ]
     },
     "execution_count": 73,
     "metadata": {},
     "output_type": "execute_result"
    }
   ],
   "source": [
    "knn_tuned.score(X_test, y_test)"
   ]
  },
  {
   "cell_type": "code",
   "execution_count": 74,
   "metadata": {},
   "outputs": [],
   "source": [
    "y_pred = knn_tuned.predict(X_test)"
   ]
  },
  {
   "cell_type": "code",
   "execution_count": 75,
   "metadata": {},
   "outputs": [
    {
     "data": {
      "text/plain": [
       "0.70725"
      ]
     },
     "execution_count": 75,
     "metadata": {},
     "output_type": "execute_result"
    }
   ],
   "source": [
    "accuracy_score(y_test, y_pred)"
   ]
  },
  {
   "cell_type": "code",
   "execution_count": 76,
   "metadata": {},
   "outputs": [
    {
     "name": "stdout",
     "output_type": "stream",
     "text": [
      "              precision    recall  f1-score   support\n",
      "\n",
      "         0.0       0.95      0.72      0.82      7424\n",
      "         1.0       0.13      0.51      0.20       576\n",
      "\n",
      "    accuracy                           0.71      8000\n",
      "   macro avg       0.54      0.62      0.51      8000\n",
      "weighted avg       0.89      0.71      0.78      8000\n",
      "\n"
     ]
    }
   ],
   "source": [
    "print(classification_report(y_test, y_pred))"
   ]
  },
  {
   "cell_type": "code",
   "execution_count": 77,
   "metadata": {},
   "outputs": [
    {
     "name": "stdout",
     "output_type": "stream",
     "text": [
      "Confusion Matrix \n",
      "\n"
     ]
    },
    {
     "data": {
      "image/png": "[encoded data removed]",
      "text/plain": [
       "<Figure size 432x288 with 2 Axes>"
      ]
     },
     "metadata": {
      "needs_background": "light"
     },
     "output_type": "display_data"
    },
    {
     "name": "stdout",
     "output_type": "stream",
     "text": [
      "\n",
      "\n"
     ]
    }
   ],
   "source": [
    "print(\"Confusion Matrix\",\"\\n\")\n",
    "score = round(accuracy_score(y_test, y_pred),3) \n",
    "cm1 = cm(y_test, knn_tuned.predict(X_test))\n",
    "sns.heatmap(cm1, annot=True, fmt=\".1f\", linewidths=.3, \n",
    "        square = True, cmap = 'PuBu')\n",
    "plt.ylabel('Actual label')\n",
    "plt.xlabel('Predicted label')\n",
    "plt.title('Accuracy Score: {0}'.format(score), size = 12)\n",
    "plt.show()\n",
    "print(\"\\n\")"
   ]
  },
  {
   "cell_type": "markdown",
   "metadata": {},
   "source": [
    "### Hata"
   ]
  },
  {
   "cell_type": "code",
   "execution_count": 82,
   "metadata": {},
   "outputs": [
    {
     "name": "stdout",
     "output_type": "stream",
     "text": [
      "Mean Absolute Error (MAE): 0.29\n",
      "Mean Squared Error (MSE): 0.29\n",
      "Root Mean Squared Error (RMSE): 0.54\n"
     ]
    }
   ],
   "source": [
    "mae = mean_absolute_error(y_pred, y_test)\n",
    "mse = mean_squared_error(y_pred, y_test)\n",
    "rmse = np.sqrt(mse)\n",
    "print('Mean Absolute Error (MAE): %.2f' % mae)\n",
    "print('Mean Squared Error (MSE): %.2f' % mse)\n",
    "print('Root Mean Squared Error (RMSE): %.2f' % rmse)"
   ]
  },
  {
   "cell_type": "markdown",
   "metadata": {},
   "source": [
    "### Cohen-Matthew Score"
   ]
  },
  {
   "cell_type": "code",
   "execution_count": 83,
   "metadata": {},
   "outputs": [
    {
     "name": "stdout",
     "output_type": "stream",
     "text": [
      "Cohen Score 0.09670710785826242\n",
      "Matthew Score 0.13300418786223042\n"
     ]
    }
   ],
   "source": [
    "print(\"Cohen Score\",cohen_kappa_score(y_test, y_pred))\n",
    "print(\"Matthew Score\",matthews_corrcoef(y_test, y_pred))"
   ]
  },
  {
   "cell_type": "markdown",
   "metadata": {},
   "source": [
    "# SVC"
   ]
  },
  {
   "cell_type": "markdown",
   "metadata": {},
   "source": [
    "## Model & Tahmin"
   ]
  },
  {
   "cell_type": "code",
   "execution_count": 84,
   "metadata": {},
   "outputs": [],
   "source": [
    "df = data.copy()\n",
    "X_train,X_test, y_train, y_test = train_test_split(X, y, test_size=0.2, random_state=42)"
   ]
  },
  {
   "cell_type": "code",
   "execution_count": 85,
   "metadata": {},
   "outputs": [],
   "source": [
    "def upSample(X_train, y_train):\n",
    "    df_all = pd.concat((X_train, pd.DataFrame({'value': y_train}, index=y_train.index)), axis=1)\n",
    "    \n",
    "    df_majority = df_all [df_all.value==0]\n",
    "    df_minority = df_all[df_all.value==1]\n",
    "     \n",
    "    # Upsample minority class\n",
    "    df_minority_upsampled = resample(df_minority, \n",
    "                                     replace=True,     # sample with replacement\n",
    "                                     n_samples=df_majority.shape[0],    # to match majority class\n",
    "                                     random_state=123) # reproducible results\n",
    "    # Combine majority class with upsampled minority class\n",
    "    df_upsampled = pd.concat([df_majority, df_minority_upsampled], axis=0)\n",
    "    y_upsampled = df_upsampled.value\n",
    "    X_upsampled = df_upsampled.drop('value', axis=1)\n",
    "\n",
    "    return X_upsampled, y_upsampled\n"
   ]
  },
  {
   "cell_type": "code",
   "execution_count": 86,
   "metadata": {},
   "outputs": [],
   "source": [
    "X_train,y_train=upSample(X_train, y_train)"
   ]
  },
  {
   "cell_type": "code",
   "execution_count": 87,
   "metadata": {},
   "outputs": [],
   "source": [
    "svm_model = SVC(kernel = \"linear\").fit(X_train, y_train)"
   ]
  },
  {
   "cell_type": "code",
   "execution_count": 88,
   "metadata": {},
   "outputs": [
    {
     "data": {
      "text/plain": [
       "SVC(kernel='linear')"
      ]
     },
     "execution_count": 88,
     "metadata": {},
     "output_type": "execute_result"
    }
   ],
   "source": [
    "svm_model"
   ]
  },
  {
   "cell_type": "code",
   "execution_count": 89,
   "metadata": {},
   "outputs": [],
   "source": [
    "y_pred = svm_model.predict(X_test)"
   ]
  },
  {
   "cell_type": "code",
   "execution_count": 90,
   "metadata": {
    "scrolled": true
   },
   "outputs": [
    {
     "data": {
      "text/plain": [
       "0.72275"
      ]
     },
     "execution_count": 90,
     "metadata": {},
     "output_type": "execute_result"
    }
   ],
   "source": [
    "accuracy_score(y_test, y_pred)"
   ]
  },
  {
   "cell_type": "code",
   "execution_count": 91,
   "metadata": {},
   "outputs": [
    {
     "name": "stdout",
     "output_type": "stream",
     "text": [
      "              precision    recall  f1-score   support\n",
      "\n",
      "         0.0       0.95      0.74      0.83      7424\n",
      "         1.0       0.13      0.51      0.21       576\n",
      "\n",
      "    accuracy                           0.72      8000\n",
      "   macro avg       0.54      0.63      0.52      8000\n",
      "weighted avg       0.89      0.72      0.79      8000\n",
      "\n"
     ]
    }
   ],
   "source": [
    "print(classification_report(y_test, y_pred))"
   ]
  },
  {
   "cell_type": "markdown",
   "metadata": {},
   "source": [
    "## Model Tuning"
   ]
  },
  {
   "cell_type": "code",
   "execution_count": 92,
   "metadata": {},
   "outputs": [
    {
     "name": "stdout",
     "output_type": "stream",
     "text": [
      "Confusion Matrix \n",
      "\n"
     ]
    },
    {
     "data": {
      "image/png": "[encoded data removed]",
      "text/plain": [
       "<Figure size 432x288 with 2 Axes>"
      ]
     },
     "metadata": {
      "needs_background": "light"
     },
     "output_type": "display_data"
    },
    {
     "name": "stdout",
     "output_type": "stream",
     "text": [
      "\n",
      "\n"
     ]
    }
   ],
   "source": [
    "print(\"Confusion Matrix\",\"\\n\")\n",
    "score = round(accuracy_score(y_test, y_pred),3) \n",
    "cm1 = cm(y_test, svm_model.predict(X_test))\n",
    "sns.heatmap(cm1, annot=True, fmt=\".1f\", linewidths=.3, \n",
    "        square = True, cmap = 'PuBu')\n",
    "plt.ylabel('Actual label')\n",
    "plt.xlabel('Predicted label')\n",
    "plt.title('Accuracy Score: {0}'.format(score), size = 12)\n",
    "plt.show()\n",
    "print(\"\\n\")"
   ]
  },
  {
   "cell_type": "markdown",
   "metadata": {},
   "source": [
    "### Hata"
   ]
  },
  {
   "cell_type": "code",
   "execution_count": 97,
   "metadata": {},
   "outputs": [
    {
     "name": "stdout",
     "output_type": "stream",
     "text": [
      "Mean Absolute Error (MAE): 0.28\n",
      "Mean Squared Error (MSE): 0.28\n",
      "Root Mean Squared Error (RMSE): 0.53\n"
     ]
    }
   ],
   "source": [
    "mae = mean_absolute_error(y_pred, y_test)\n",
    "mse = mean_squared_error(y_pred, y_test)\n",
    "rmse = np.sqrt(mse)\n",
    "print('Mean Absolute Error (MAE): %.2f' % mae)\n",
    "print('Mean Squared Error (MSE): %.2f' % mse)\n",
    "print('Root Mean Squared Error (RMSE): %.2f' % rmse)"
   ]
  },
  {
   "cell_type": "markdown",
   "metadata": {},
   "source": [
    "## Cohen-Matthew Score"
   ]
  },
  {
   "cell_type": "code",
   "execution_count": 98,
   "metadata": {},
   "outputs": [
    {
     "name": "stdout",
     "output_type": "stream",
     "text": [
      "Cohen Score 0.10862981372051006\n",
      "Matthew Score 0.14568114194850426\n"
     ]
    }
   ],
   "source": [
    "print(\"Cohen Score\",cohen_kappa_score(y_test, y_pred))\n",
    "print(\"Matthew Score\",matthews_corrcoef(y_test, y_pred))"
   ]
  },
  {
   "cell_type": "markdown",
   "metadata": {},
   "source": [
    "# RBF SVC"
   ]
  },
  {
   "cell_type": "markdown",
   "metadata": {},
   "source": [
    "## Model & Tahmin"
   ]
  },
  {
   "cell_type": "code",
   "execution_count": 133,
   "metadata": {},
   "outputs": [],
   "source": [
    "df = data.copy()\n",
    "X_train, X_test, y_train, y_test = train_test_split(X, y, \n",
    "                                                    test_size=0.20, \n",
    "                                                    random_state=42)"
   ]
  },
  {
   "cell_type": "code",
   "execution_count": 134,
   "metadata": {},
   "outputs": [],
   "source": [
    "def upSample(X_train, y_train):\n",
    "    df_all = pd.concat((X_train, pd.DataFrame({'value': y_train}, index=y_train.index)), axis=1)\n",
    "    \n",
    "    df_majority = df_all [df_all.value==0]\n",
    "    df_minority = df_all[df_all.value==1]\n",
    "     \n",
    "    # Upsample minority class\n",
    "    df_minority_upsampled = resample(df_minority, \n",
    "                                     replace=True,     # sample with replacement\n",
    "                                     n_samples=df_majority.shape[0],    # to match majority class\n",
    "                                     random_state=123) # reproducible results\n",
    "    # Combine majority class with upsampled minority class\n",
    "    df_upsampled = pd.concat([df_majority, df_minority_upsampled], axis=0)\n",
    "    y_upsampled = df_upsampled.value\n",
    "    X_upsampled = df_upsampled.drop('value', axis=1)\n",
    "\n",
    "    return X_upsampled, y_upsampled"
   ]
  },
  {
   "cell_type": "code",
   "execution_count": 135,
   "metadata": {},
   "outputs": [],
   "source": [
    "X_train,y_train=upSample(X_train, y_train)"
   ]
  },
  {
   "cell_type": "code",
   "execution_count": 136,
   "metadata": {},
   "outputs": [],
   "source": [
    "svc_tuned = SVC(C = 10, gamma = 0.0001).fit(X_train, y_train)"
   ]
  },
  {
   "cell_type": "code",
   "execution_count": 137,
   "metadata": {},
   "outputs": [
    {
     "data": {
      "text/plain": [
       "0.722875"
      ]
     },
     "execution_count": 137,
     "metadata": {},
     "output_type": "execute_result"
    }
   ],
   "source": [
    "y_pred = svc_tuned.predict(X_test)\n",
    "accuracy_score(y_test, y_pred)"
   ]
  },
  {
   "cell_type": "code",
   "execution_count": 138,
   "metadata": {},
   "outputs": [
    {
     "name": "stdout",
     "output_type": "stream",
     "text": [
      "Confusion Matrix \n",
      "\n"
     ]
    },
    {
     "data": {
      "image/png": "[encoded data removed]",
      "text/plain": [
       "<Figure size 432x288 with 2 Axes>"
      ]
     },
     "metadata": {
      "needs_background": "light"
     },
     "output_type": "display_data"
    },
    {
     "name": "stdout",
     "output_type": "stream",
     "text": [
      "\n",
      "\n"
     ]
    }
   ],
   "source": [
    "print(\"Confusion Matrix\",\"\\n\")\n",
    "score = round(accuracy_score(y_test, y_pred),3) \n",
    "cm1 = cm(y_test, svc_tuned.predict(X_test))\n",
    "sns.heatmap(cm1, annot=True, fmt=\".1f\", linewidths=.3, \n",
    "        square = True, cmap = 'PuBu')\n",
    "plt.ylabel('Actual label')\n",
    "plt.xlabel('Predicted label')\n",
    "plt.title('Accuracy Score: {0}'.format(score), size = 12)\n",
    "plt.show()\n",
    "print(\"\\n\")"
   ]
  },
  {
   "cell_type": "markdown",
   "metadata": {},
   "source": [
    "### Hata"
   ]
  },
  {
   "cell_type": "code",
   "execution_count": 143,
   "metadata": {},
   "outputs": [
    {
     "name": "stdout",
     "output_type": "stream",
     "text": [
      "Mean Absolute Error (MAE): 0.28\n",
      "Mean Squared Error (MSE): 0.28\n",
      "Root Mean Squared Error (RMSE): 0.53\n"
     ]
    }
   ],
   "source": [
    "mae = mean_absolute_error(y_pred, y_test)\n",
    "mse = mean_squared_error(y_pred, y_test)\n",
    "rmse = np.sqrt(mse)\n",
    "print('Mean Absolute Error (MAE): %.2f' % mae)\n",
    "print('Mean Squared Error (MSE): %.2f' % mse)\n",
    "print('Root Mean Squared Error (RMSE): %.2f' % rmse)"
   ]
  },
  {
   "cell_type": "markdown",
   "metadata": {},
   "source": [
    "### Cohen-Matthew Score"
   ]
  },
  {
   "cell_type": "code",
   "execution_count": 144,
   "metadata": {},
   "outputs": [
    {
     "name": "stdout",
     "output_type": "stream",
     "text": [
      "Cohen Score 0.10872508691638993\n",
      "Matthew Score 0.14577874426074097\n"
     ]
    }
   ],
   "source": [
    "print(\"Cohen Score\",cohen_kappa_score(y_test, y_pred))\n",
    "print(\"Matthew Score\",matthews_corrcoef(y_test, y_pred))"
   ]
  },
  {
   "cell_type": "markdown",
   "metadata": {},
   "source": [
    "# Yapay Sinir Ağları"
   ]
  },
  {
   "cell_type": "markdown",
   "metadata": {},
   "source": [
    "## Model & Tahmin"
   ]
  },
  {
   "cell_type": "code",
   "execution_count": 350,
   "metadata": {},
   "outputs": [],
   "source": [
    "df = data.copy()\n",
    "X_train, X_test, y_train, y_test = train_test_split(X, y, \n",
    "                                                    test_size=0.20, \n",
    "                                                    random_state=42)"
   ]
  },
  {
   "cell_type": "code",
   "execution_count": 351,
   "metadata": {},
   "outputs": [],
   "source": [
    "def upSample(X_train, y_train):\n",
    "    df_all = pd.concat((X_train, pd.DataFrame({'value': y_train}, index=y_train.index)), axis=1)\n",
    "    \n",
    "    df_majority = df_all [df_all.value==0]\n",
    "    df_minority = df_all[df_all.value==1]\n",
    "     \n",
    "    # Upsample minority class\n",
    "    df_minority_upsampled = resample(df_minority, \n",
    "                                     replace=True,     # sample with replacement\n",
    "                                     n_samples=df_majority.shape[0],    # to match majority class\n",
    "                                     random_state=123) # reproducible results\n",
    "    # Combine majority class with upsampled minority class\n",
    "    df_upsampled = pd.concat([df_majority, df_minority_upsampled], axis=0)\n",
    "    y_upsampled = df_upsampled.value\n",
    "    X_upsampled = df_upsampled.drop('value', axis=1)\n",
    "\n",
    "    return X_upsampled, y_upsampled"
   ]
  },
  {
   "cell_type": "code",
   "execution_count": 352,
   "metadata": {},
   "outputs": [],
   "source": [
    "X_train,y_train=upSample(X_train, y_train)"
   ]
  },
  {
   "cell_type": "code",
   "execution_count": 353,
   "metadata": {},
   "outputs": [],
   "source": [
    "from sklearn.preprocessing import StandardScaler  "
   ]
  },
  {
   "cell_type": "code",
   "execution_count": 354,
   "metadata": {},
   "outputs": [],
   "source": [
    "scaler = StandardScaler()"
   ]
  },
  {
   "cell_type": "code",
   "execution_count": 355,
   "metadata": {},
   "outputs": [],
   "source": [
    "scaler.fit(X_train)\n",
    "X_train_scaled = scaler.transform(X_train)\n",
    "X_test_scaled = scaler.transform(X_test)"
   ]
  },
  {
   "cell_type": "code",
   "execution_count": 356,
   "metadata": {},
   "outputs": [
    {
     "data": {
      "text/plain": [
       "array([[ 0.73976635, -0.40014654,  0.12832976, -0.2313845 , -0.36412453,\n",
       "        -0.51538109, -0.18507958, -0.15536061,  1.88517728, -0.21633957,\n",
       "        -0.19497769, -0.31698899, -0.13708918, -0.45307746, -0.17382672,\n",
       "        -0.07800412,  2.66840459, -1.15505805, -0.66288321, -0.40526678,\n",
       "        -1.00818715,  1.46853917, -0.19890068,  0.13924187, -0.13924187,\n",
       "        -0.89246928,  0.89246928,  0.42481915, -0.42481915,  0.66459499,\n",
       "        -0.24741224, -0.5753272 ,  2.86510238, -0.36088239, -0.01298045,\n",
       "        -0.27931757, -0.14998765, -0.41610782, -0.35033226, -0.1576765 ,\n",
       "        -0.66472671, -0.30559346, -0.09318391],\n",
       "       [ 1.22266124, -0.4639824 ,  0.84074837, -0.5803779 , -0.36412453,\n",
       "        -0.51538109, -0.18507958, -0.15536061, -0.53045409,  4.62236299,\n",
       "        -0.19497769, -0.31698899, -0.13708918, -0.45307746, -0.17382672,\n",
       "        -0.07800412,  2.66840459, -1.15505805, -0.66288321, -0.40526678,\n",
       "         0.99187933, -0.68094881, -0.19890068,  0.13924187, -0.13924187,\n",
       "         1.12048674, -1.12048674,  0.42481915, -0.42481915,  0.66459499,\n",
       "        -0.24741224, -0.5753272 , -0.34902767, -0.36088239, -0.01298045,\n",
       "        -0.27931757, -0.14998765,  2.4032233 , -0.35033226, -0.1576765 ,\n",
       "        -0.66472671, -0.30559346, -0.09318391],\n",
       "       [ 0.25687145,  0.76152578,  1.55316698, -0.2313845 , -0.36412453,\n",
       "        -0.51538109, -0.18507958, -0.15536061,  1.88517728, -0.21633957,\n",
       "        -0.19497769, -0.31698899, -0.13708918, -0.45307746, -0.17382672,\n",
       "        -0.07800412,  2.66840459, -1.15505805, -0.66288321, -0.40526678,\n",
       "        -1.00818715,  1.46853917, -0.19890068,  0.13924187, -0.13924187,\n",
       "         1.12048674, -1.12048674,  0.42481915, -0.42481915,  0.66459499,\n",
       "        -0.24741224, -0.5753272 , -0.34902767, -0.36088239, -0.01298045,\n",
       "        -0.27931757,  6.66721539, -0.41610782, -0.35033226, -0.1576765 ,\n",
       "        -0.66472671, -0.30559346, -0.09318391],\n",
       "       [-0.22602345, -0.44679582,  1.43443054, -0.5803779 , -0.36412453,\n",
       "        -0.51538109, -0.18507958, -0.15536061, -0.53045409, -0.21633957,\n",
       "        -0.19497769, -0.31698899, -0.13708918,  2.2071281 , -0.17382672,\n",
       "        -0.07800412, -0.37475576,  0.86575735, -0.66288321, -0.40526678,\n",
       "         0.99187933, -0.68094881, -0.19890068,  0.13924187, -0.13924187,\n",
       "        -0.89246928,  0.89246928,  0.42481915, -0.42481915, -1.5046758 ,\n",
       "        -0.24741224,  1.73814135, -0.34902767, -0.36088239, -0.01298045,\n",
       "        -0.27931757, -0.14998765, -0.41610782, -0.35033226, -0.1576765 ,\n",
       "         1.50437765, -0.30559346, -0.09318391],\n",
       "       [ 0.16029247,  0.91445124,  0.6032755 ,  0.46660229, -0.36412453,\n",
       "        -0.51538109, -0.18507958, -0.15536061,  1.88517728, -0.21633957,\n",
       "        -0.19497769, -0.31698899, -0.13708918, -0.45307746, -0.17382672,\n",
       "        -0.07800412, -0.37475576,  0.86575735, -0.66288321, -0.40526678,\n",
       "        -1.00818715,  1.46853917, -0.19890068,  0.13924187, -0.13924187,\n",
       "        -0.89246928,  0.89246928,  0.42481915, -0.42481915,  0.66459499,\n",
       "        -0.24741224, -0.5753272 , -0.34902767, -0.36088239, -0.01298045,\n",
       "        -0.27931757, -0.14998765, -0.41610782, -0.35033226, -0.1576765 ,\n",
       "        -0.66472671,  3.27232131, -0.09318391]])"
      ]
     },
     "execution_count": 356,
     "metadata": {},
     "output_type": "execute_result"
    }
   ],
   "source": [
    "X_test_scaled[0:5]"
   ]
  },
  {
   "cell_type": "code",
   "execution_count": 357,
   "metadata": {},
   "outputs": [],
   "source": [
    "from sklearn.neural_network import MLPClassifier"
   ]
  },
  {
   "cell_type": "code",
   "execution_count": 358,
   "metadata": {},
   "outputs": [],
   "source": [
    "mlpc = MLPClassifier().fit(X_train_scaled, y_train)"
   ]
  },
  {
   "cell_type": "code",
   "execution_count": 359,
   "metadata": {},
   "outputs": [
    {
     "data": {
      "text/plain": [
       "0.792625"
      ]
     },
     "execution_count": 359,
     "metadata": {},
     "output_type": "execute_result"
    }
   ],
   "source": [
    "y_pred = mlpc.predict(X_test_scaled)\n",
    "accuracy_score(y_test, y_pred)"
   ]
  },
  {
   "cell_type": "markdown",
   "metadata": {},
   "source": [
    "## Model Tuning"
   ]
  },
  {
   "cell_type": "code",
   "execution_count": 360,
   "metadata": {},
   "outputs": [
    {
     "data": {
      "text/plain": [
       "MLPClassifier()"
      ]
     },
     "execution_count": 360,
     "metadata": {},
     "output_type": "execute_result"
    }
   ],
   "source": [
    "mlpc"
   ]
  },
  {
   "cell_type": "code",
   "execution_count": 361,
   "metadata": {},
   "outputs": [],
   "source": [
    "?mlpc"
   ]
  },
  {
   "cell_type": "code",
   "execution_count": 362,
   "metadata": {},
   "outputs": [],
   "source": [
    "mlpc_tuned = MLPClassifier(activation = \"logistic\", \n",
    "                           alpha = 0.1, \n",
    "                           hidden_layer_sizes = (100, 100, 100),\n",
    "                          solver = \"adam\")"
   ]
  },
  {
   "cell_type": "code",
   "execution_count": 363,
   "metadata": {},
   "outputs": [
    {
     "data": {
      "text/plain": [
       "MLPClassifier(activation='logistic', alpha=0.1,\n",
       "              hidden_layer_sizes=(100, 100, 100))"
      ]
     },
     "execution_count": 363,
     "metadata": {},
     "output_type": "execute_result"
    }
   ],
   "source": [
    "mlpc_tuned.fit(X_train_scaled, y_train)"
   ]
  },
  {
   "cell_type": "code",
   "execution_count": 364,
   "metadata": {},
   "outputs": [
    {
     "data": {
      "text/plain": [
       "0.749875"
      ]
     },
     "execution_count": 364,
     "metadata": {},
     "output_type": "execute_result"
    }
   ],
   "source": [
    "y_pred = mlpc_tuned.predict(X_test_scaled)\n",
    "accuracy_score(y_test, y_pred)"
   ]
  },
  {
   "cell_type": "code",
   "execution_count": 365,
   "metadata": {},
   "outputs": [
    {
     "name": "stdout",
     "output_type": "stream",
     "text": [
      "Confusion Matrix \n",
      "\n"
     ]
    },
    {
     "data": {
      "image/png": "[encoded data removed]",
      "text/plain": [
       "<Figure size 432x288 with 2 Axes>"
      ]
     },
     "metadata": {
      "needs_background": "light"
     },
     "output_type": "display_data"
    },
    {
     "name": "stdout",
     "output_type": "stream",
     "text": [
      "\n",
      "\n"
     ]
    }
   ],
   "source": [
    "print(\"Confusion Matrix\",\"\\n\")\n",
    "score = round(accuracy_score(y_test, y_pred),3) \n",
    "cm1 = cm(y_test, mlpc_tuned.predict(X_test))\n",
    "sns.heatmap(cm1, annot=True, fmt=\".1f\", linewidths=.3, \n",
    "        square = True, cmap = 'PuBu')\n",
    "plt.ylabel('Actual label')\n",
    "plt.xlabel('Predicted label')\n",
    "plt.title('Accuracy Score: {0}'.format(score), size = 12)\n",
    "plt.show()\n",
    "print(\"\\n\")"
   ]
  },
  {
   "cell_type": "markdown",
   "metadata": {},
   "source": [
    "## Hata"
   ]
  },
  {
   "cell_type": "code",
   "execution_count": 190,
   "metadata": {},
   "outputs": [
    {
     "name": "stdout",
     "output_type": "stream",
     "text": [
      "Mean Absolute Error (MAE): 0.27\n",
      "Mean Squared Error (MSE): 0.27\n",
      "Root Mean Squared Error (RMSE): 0.52\n"
     ]
    }
   ],
   "source": [
    "mae = mean_absolute_error(y_pred, y_test)\n",
    "mse = mean_squared_error(y_pred, y_test)\n",
    "rmse = np.sqrt(mse)\n",
    "print('Mean Absolute Error (MAE): %.2f' % mae)\n",
    "print('Mean Squared Error (MSE): %.2f' % mse)\n",
    "print('Root Mean Squared Error (RMSE): %.2f' % rmse)"
   ]
  },
  {
   "cell_type": "markdown",
   "metadata": {},
   "source": [
    "### Cohen-Matthew Score"
   ]
  },
  {
   "cell_type": "code",
   "execution_count": 191,
   "metadata": {},
   "outputs": [
    {
     "name": "stdout",
     "output_type": "stream",
     "text": [
      "Cohen Score 0.12549960031974416\n",
      "Matthew Score 0.16886289659443265\n"
     ]
    }
   ],
   "source": [
    "print(\"Cohen Score\",cohen_kappa_score(y_test, y_pred))\n",
    "print(\"Matthew Score\",matthews_corrcoef(y_test, y_pred))"
   ]
  },
  {
   "cell_type": "markdown",
   "metadata": {},
   "source": [
    "# CART"
   ]
  },
  {
   "cell_type": "markdown",
   "metadata": {},
   "source": [
    "## Model & Tahmin"
   ]
  },
  {
   "cell_type": "code",
   "execution_count": 192,
   "metadata": {},
   "outputs": [],
   "source": [
    "df = data.copy()\n",
    "X_train, X_test, y_train, y_test = train_test_split(X, y, \n",
    "                                                    test_size=0.20, \n",
    "                                                    random_state=42)"
   ]
  },
  {
   "cell_type": "code",
   "execution_count": 193,
   "metadata": {},
   "outputs": [],
   "source": [
    "def upSample(X_train, y_train):\n",
    "    df_all = pd.concat((X_train, pd.DataFrame({'value': y_train}, index=y_train.index)), axis=1)\n",
    "    \n",
    "    df_majority = df_all [df_all.value==0]\n",
    "    df_minority = df_all[df_all.value==1]\n",
    "     \n",
    "    # Upsample minority class\n",
    "    df_minority_upsampled = resample(df_minority, \n",
    "                                     replace=True,     # sample with replacement\n",
    "                                     n_samples=df_majority.shape[0],    # to match majority class\n",
    "                                     random_state=123) # reproducible results\n",
    "    # Combine majority class with upsampled minority class\n",
    "    df_upsampled = pd.concat([df_majority, df_minority_upsampled], axis=0)\n",
    "    y_upsampled = df_upsampled.value\n",
    "    X_upsampled = df_upsampled.drop('value', axis=1)\n",
    "\n",
    "    return X_upsampled, y_upsampled"
   ]
  },
  {
   "cell_type": "code",
   "execution_count": 194,
   "metadata": {},
   "outputs": [],
   "source": [
    "X_train,y_train=upSample(X_train, y_train)"
   ]
  },
  {
   "cell_type": "code",
   "execution_count": 195,
   "metadata": {},
   "outputs": [],
   "source": [
    "from sklearn.tree import DecisionTreeClassifier"
   ]
  },
  {
   "cell_type": "code",
   "execution_count": 213,
   "metadata": {},
   "outputs": [],
   "source": [
    "cart = DecisionTreeClassifier()\n",
    "cart_model = cart.fit(X_train, y_train)"
   ]
  },
  {
   "cell_type": "code",
   "execution_count": 214,
   "metadata": {},
   "outputs": [
    {
     "data": {
      "text/plain": [
       "DecisionTreeClassifier()"
      ]
     },
     "execution_count": 214,
     "metadata": {},
     "output_type": "execute_result"
    }
   ],
   "source": [
    "cart_model"
   ]
  },
  {
   "cell_type": "code",
   "execution_count": 215,
   "metadata": {},
   "outputs": [],
   "source": [
    "x = [9]"
   ]
  },
  {
   "cell_type": "code",
   "execution_count": 216,
   "metadata": {},
   "outputs": [
    {
     "data": {
      "text/plain": [
       "1"
      ]
     },
     "execution_count": 216,
     "metadata": {},
     "output_type": "execute_result"
    }
   ],
   "source": [
    "((0 if x[0] <= 2.5 else 0) if x[0] <= 6.5 else 1 if x[0] <= 13.5 else 1)"
   ]
  },
  {
   "cell_type": "code",
   "execution_count": 217,
   "metadata": {},
   "outputs": [
    {
     "data": {
      "text/plain": [
       "0.878125"
      ]
     },
     "execution_count": 217,
     "metadata": {},
     "output_type": "execute_result"
    }
   ],
   "source": [
    "y_pred = cart_model.predict(X_test)\n",
    "accuracy_score(y_test, y_pred)"
   ]
  },
  {
   "cell_type": "markdown",
   "metadata": {},
   "source": [
    "## Model Tuning"
   ]
  },
  {
   "cell_type": "code",
   "execution_count": 202,
   "metadata": {},
   "outputs": [
    {
     "data": {
      "text/plain": [
       "DecisionTreeClassifier()"
      ]
     },
     "execution_count": 202,
     "metadata": {},
     "output_type": "execute_result"
    }
   ],
   "source": [
    "cart_model"
   ]
  },
  {
   "cell_type": "code",
   "execution_count": null,
   "metadata": {},
   "outputs": [],
   "source": [
    "?cart_model"
   ]
  },
  {
   "cell_type": "code",
   "execution_count": 203,
   "metadata": {},
   "outputs": [],
   "source": [
    "cart_grid = {\"max_depth\": range(1,10),\n",
    "            \"min_samples_split\" : list(range(2,50)) }"
   ]
  },
  {
   "cell_type": "code",
   "execution_count": 204,
   "metadata": {},
   "outputs": [
    {
     "name": "stdout",
     "output_type": "stream",
     "text": [
      "Fitting 10 folds for each of 432 candidates, totalling 4320 fits\n"
     ]
    },
    {
     "name": "stderr",
     "output_type": "stream",
     "text": [
      "[Parallel(n_jobs=-1)]: Using backend LokyBackend with 8 concurrent workers.\n",
      "[Parallel(n_jobs=-1)]: Done  25 tasks      | elapsed:   12.9s\n",
      "[Parallel(n_jobs=-1)]: Done 146 tasks      | elapsed:   15.1s\n",
      "[Parallel(n_jobs=-1)]: Done 349 tasks      | elapsed:   18.9s\n",
      "[Parallel(n_jobs=-1)]: Done 632 tasks      | elapsed:   24.9s\n",
      "[Parallel(n_jobs=-1)]: Done 997 tasks      | elapsed:   37.4s\n",
      "[Parallel(n_jobs=-1)]: Done 1442 tasks      | elapsed:   56.6s\n",
      "[Parallel(n_jobs=-1)]: Done 1969 tasks      | elapsed:  1.3min\n",
      "[Parallel(n_jobs=-1)]: Done 2576 tasks      | elapsed:  1.9min\n",
      "[Parallel(n_jobs=-1)]: Done 3265 tasks      | elapsed:  2.6min\n",
      "[Parallel(n_jobs=-1)]: Done 4034 tasks      | elapsed:  3.5min\n",
      "[Parallel(n_jobs=-1)]: Done 4320 out of 4320 | elapsed:  3.9min finished\n"
     ]
    }
   ],
   "source": [
    "cart = tree.DecisionTreeClassifier()\n",
    "cart_cv = GridSearchCV(cart, cart_grid, cv = 10, n_jobs = -1, verbose = 2)\n",
    "cart_cv_model = cart_cv.fit(X_train, y_train)"
   ]
  },
  {
   "cell_type": "code",
   "execution_count": 205,
   "metadata": {},
   "outputs": [
    {
     "name": "stdout",
     "output_type": "stream",
     "text": [
      "En iyi parametreler: {'max_depth': 9, 'min_samples_split': 10}\n"
     ]
    }
   ],
   "source": [
    "print(\"En iyi parametreler: \" + str(cart_cv_model.best_params_))"
   ]
  },
  {
   "cell_type": "code",
   "execution_count": null,
   "metadata": {},
   "outputs": [],
   "source": [
    "#final"
   ]
  },
  {
   "cell_type": "code",
   "execution_count": 206,
   "metadata": {},
   "outputs": [],
   "source": [
    "cart = tree.DecisionTreeClassifier(max_depth = 9, min_samples_split = 10)\n",
    "cart_tuned = cart.fit(X_train, y_train)"
   ]
  },
  {
   "cell_type": "code",
   "execution_count": 219,
   "metadata": {},
   "outputs": [
    {
     "data": {
      "text/plain": [
       "0.61325"
      ]
     },
     "execution_count": 219,
     "metadata": {},
     "output_type": "execute_result"
    }
   ],
   "source": [
    "y_pred = cart_tuned.predict(X_test)\n",
    "accuracy_score(y_test, y_pred)"
   ]
  },
  {
   "cell_type": "code",
   "execution_count": 220,
   "metadata": {},
   "outputs": [
    {
     "name": "stdout",
     "output_type": "stream",
     "text": [
      "Confusion Matrix \n",
      "\n"
     ]
    },
    {
     "data": {
      "image/png": "[encoded data removed]",
      "text/plain": [
       "<Figure size 432x288 with 2 Axes>"
      ]
     },
     "metadata": {
      "needs_background": "light"
     },
     "output_type": "display_data"
    },
    {
     "name": "stdout",
     "output_type": "stream",
     "text": [
      "\n",
      "\n"
     ]
    }
   ],
   "source": [
    "print(\"Confusion Matrix\",\"\\n\")\n",
    "score = round(accuracy_score(y_test, y_pred),3) \n",
    "cm1 = cm(y_test, cart_tuned.predict(X_test))\n",
    "sns.heatmap(cm1, annot=True, fmt=\".1f\", linewidths=.3, \n",
    "        square = True, cmap = 'PuBu')\n",
    "plt.ylabel('Actual label')\n",
    "plt.xlabel('Predicted label')\n",
    "plt.title('Accuracy Score: {0}'.format(score), size = 12)\n",
    "plt.show()\n",
    "print(\"\\n\")"
   ]
  },
  {
   "cell_type": "markdown",
   "metadata": {},
   "source": [
    "### Hata"
   ]
  },
  {
   "cell_type": "code",
   "execution_count": 225,
   "metadata": {},
   "outputs": [
    {
     "name": "stdout",
     "output_type": "stream",
     "text": [
      "Mean Absolute Error (MAE): 0.39\n",
      "Mean Squared Error (MSE): 0.39\n",
      "Root Mean Squared Error (RMSE): 0.62\n"
     ]
    }
   ],
   "source": [
    "mae = mean_absolute_error(y_pred, y_test)\n",
    "mse = mean_squared_error(y_pred, y_test)\n",
    "rmse = np.sqrt(mse)\n",
    "print('Mean Absolute Error (MAE): %.2f' % mae)\n",
    "print('Mean Squared Error (MSE): %.2f' % mse)\n",
    "print('Root Mean Squared Error (RMSE): %.2f' % rmse)"
   ]
  },
  {
   "cell_type": "markdown",
   "metadata": {},
   "source": [
    "### Cohen-Matthew Score"
   ]
  },
  {
   "cell_type": "code",
   "execution_count": 226,
   "metadata": {},
   "outputs": [
    {
     "name": "stdout",
     "output_type": "stream",
     "text": [
      "Cohen Score 0.08282662518141903\n",
      "Matthew Score 0.13743748925879593\n"
     ]
    }
   ],
   "source": [
    "print(\"Cohen Score\",cohen_kappa_score(y_test, y_pred))\n",
    "print(\"Matthew Score\",matthews_corrcoef(y_test, y_pred))"
   ]
  },
  {
   "cell_type": "markdown",
   "metadata": {},
   "source": [
    "# Random Forests"
   ]
  },
  {
   "cell_type": "code",
   "execution_count": 227,
   "metadata": {},
   "outputs": [],
   "source": [
    "df = data.copy()\n",
    "X_train, X_test, y_train, y_test = train_test_split(X, y, \n",
    "                                                    test_size=0.20, \n",
    "                                                    random_state=42)"
   ]
  },
  {
   "cell_type": "code",
   "execution_count": 228,
   "metadata": {},
   "outputs": [],
   "source": [
    "def upSample(X_train, y_train):\n",
    "    df_all = pd.concat((X_train, pd.DataFrame({'value': y_train}, index=y_train.index)), axis=1)\n",
    "    \n",
    "    df_majority = df_all [df_all.value==0]\n",
    "    df_minority = df_all[df_all.value==1]\n",
    "     \n",
    "    # Upsample minority class\n",
    "    df_minority_upsampled = resample(df_minority, \n",
    "                                     replace=True,     # sample with replacement\n",
    "                                     n_samples=df_majority.shape[0],    # to match majority class\n",
    "                                     random_state=123) # reproducible results\n",
    "    # Combine majority class with upsampled minority class\n",
    "    df_upsampled = pd.concat([df_majority, df_minority_upsampled], axis=0)\n",
    "    y_upsampled = df_upsampled.value\n",
    "    X_upsampled = df_upsampled.drop('value', axis=1)\n",
    "\n",
    "    return X_upsampled, y_upsampled"
   ]
  },
  {
   "cell_type": "code",
   "execution_count": 229,
   "metadata": {},
   "outputs": [],
   "source": [
    "X_train,y_train=upSample(X_train, y_train)"
   ]
  },
  {
   "cell_type": "code",
   "execution_count": 230,
   "metadata": {},
   "outputs": [],
   "source": [
    "from sklearn.ensemble import RandomForestClassifier"
   ]
  },
  {
   "cell_type": "code",
   "execution_count": 231,
   "metadata": {},
   "outputs": [],
   "source": [
    "rf_model = RandomForestClassifier().fit(X_train, y_train)"
   ]
  },
  {
   "cell_type": "code",
   "execution_count": 232,
   "metadata": {},
   "outputs": [
    {
     "data": {
      "text/plain": [
       "RandomForestClassifier()"
      ]
     },
     "execution_count": 232,
     "metadata": {},
     "output_type": "execute_result"
    }
   ],
   "source": [
    "rf_model"
   ]
  },
  {
   "cell_type": "code",
   "execution_count": 233,
   "metadata": {},
   "outputs": [
    {
     "data": {
      "text/plain": [
       "0.924"
      ]
     },
     "execution_count": 233,
     "metadata": {},
     "output_type": "execute_result"
    }
   ],
   "source": [
    "y_pred = rf_model.predict(X_test)\n",
    "accuracy_score(y_test, y_pred)"
   ]
  },
  {
   "cell_type": "markdown",
   "metadata": {},
   "source": [
    "## Model Tuning"
   ]
  },
  {
   "cell_type": "code",
   "execution_count": 234,
   "metadata": {},
   "outputs": [
    {
     "data": {
      "text/plain": [
       "RandomForestClassifier()"
      ]
     },
     "execution_count": 234,
     "metadata": {},
     "output_type": "execute_result"
    }
   ],
   "source": [
    "rf_model"
   ]
  },
  {
   "cell_type": "code",
   "execution_count": 235,
   "metadata": {},
   "outputs": [],
   "source": [
    "?rf_model"
   ]
  },
  {
   "cell_type": "code",
   "execution_count": 236,
   "metadata": {},
   "outputs": [],
   "source": [
    "rf_params = {\"max_depth\": [2,5,8,10],\n",
    "            \"max_features\": [2,5,8],\n",
    "            \"n_estimators\": [10,500,1000],\n",
    "            \"min_samples_split\": [2,5,10]}"
   ]
  },
  {
   "cell_type": "code",
   "execution_count": 237,
   "metadata": {},
   "outputs": [],
   "source": [
    "rf_model = RandomForestClassifier()\n",
    "\n",
    "rf_cv_model = GridSearchCV(rf_model, \n",
    "                           rf_params, \n",
    "                           cv = 10, \n",
    "                           n_jobs = -1, \n",
    "                           verbose = 2) "
   ]
  },
  {
   "cell_type": "code",
   "execution_count": 238,
   "metadata": {},
   "outputs": [
    {
     "name": "stdout",
     "output_type": "stream",
     "text": [
      "Fitting 10 folds for each of 108 candidates, totalling 1080 fits\n"
     ]
    },
    {
     "name": "stderr",
     "output_type": "stream",
     "text": [
      "[Parallel(n_jobs=-1)]: Using backend LokyBackend with 8 concurrent workers.\n",
      "[Parallel(n_jobs=-1)]: Done  25 tasks      | elapsed:   28.4s\n",
      "[Parallel(n_jobs=-1)]: Done 146 tasks      | elapsed:  5.0min\n",
      "[Parallel(n_jobs=-1)]: Done 349 tasks      | elapsed: 18.5min\n",
      "[Parallel(n_jobs=-1)]: Done 632 tasks      | elapsed: 41.4min\n",
      "[Parallel(n_jobs=-1)]: Done 997 tasks      | elapsed: 70.6min\n",
      "[Parallel(n_jobs=-1)]: Done 1080 out of 1080 | elapsed: 80.9min finished\n"
     ]
    },
    {
     "data": {
      "text/plain": [
       "GridSearchCV(cv=10, estimator=RandomForestClassifier(), n_jobs=-1,\n",
       "             param_grid={'max_depth': [2, 5, 8, 10], 'max_features': [2, 5, 8],\n",
       "                         'min_samples_split': [2, 5, 10],\n",
       "                         'n_estimators': [10, 500, 1000]},\n",
       "             verbose=2)"
      ]
     },
     "execution_count": 238,
     "metadata": {},
     "output_type": "execute_result"
    }
   ],
   "source": [
    "rf_cv_model.fit(X_train, y_train)"
   ]
  },
  {
   "cell_type": "code",
   "execution_count": 239,
   "metadata": {},
   "outputs": [
    {
     "name": "stdout",
     "output_type": "stream",
     "text": [
      "En iyi parametreler: {'max_depth': 10, 'max_features': 8, 'min_samples_split': 5, 'n_estimators': 500}\n"
     ]
    }
   ],
   "source": [
    "print(\"En iyi parametreler: \" + str(rf_cv_model.best_params_))"
   ]
  },
  {
   "cell_type": "code",
   "execution_count": null,
   "metadata": {},
   "outputs": [],
   "source": [
    "#final"
   ]
  },
  {
   "cell_type": "code",
   "execution_count": 241,
   "metadata": {},
   "outputs": [
    {
     "data": {
      "text/plain": [
       "RandomForestClassifier(max_depth=10, max_features=8, min_samples_split=5,\n",
       "                       n_estimators=500, n_jobs=-1)"
      ]
     },
     "execution_count": 241,
     "metadata": {},
     "output_type": "execute_result"
    }
   ],
   "source": [
    "rf_tuned = RandomForestClassifier(max_depth = 10, \n",
    "                                  max_features = 8, \n",
    "                                  n_jobs=-1,\n",
    "                                  min_samples_split = 5,\n",
    "                                  n_estimators = 500)\n",
    "\n",
    "rf_tuned.fit(X_train, y_train)"
   ]
  },
  {
   "cell_type": "code",
   "execution_count": 242,
   "metadata": {},
   "outputs": [
    {
     "data": {
      "text/plain": [
       "0.773"
      ]
     },
     "execution_count": 242,
     "metadata": {},
     "output_type": "execute_result"
    }
   ],
   "source": [
    "y_pred = rf_tuned.predict(X_test)\n",
    "accuracy_score(y_test, y_pred)"
   ]
  },
  {
   "cell_type": "code",
   "execution_count": 243,
   "metadata": {},
   "outputs": [
    {
     "name": "stdout",
     "output_type": "stream",
     "text": [
      "Confusion Matrix \n",
      "\n"
     ]
    },
    {
     "data": {
      "image/png": "[encoded data removed]",
      "text/plain": [
       "<Figure size 432x288 with 2 Axes>"
      ]
     },
     "metadata": {
      "needs_background": "light"
     },
     "output_type": "display_data"
    },
    {
     "name": "stdout",
     "output_type": "stream",
     "text": [
      "\n",
      "\n"
     ]
    }
   ],
   "source": [
    "print(\"Confusion Matrix\",\"\\n\")\n",
    "score = round(accuracy_score(y_test, y_pred),3) \n",
    "cm1 = cm(y_test, rf_tuned.predict(X_test))\n",
    "sns.heatmap(cm1, annot=True, fmt=\".1f\", linewidths=.3, \n",
    "        square = True, cmap = 'PuBu')\n",
    "plt.ylabel('Actual label')\n",
    "plt.xlabel('Predicted label')\n",
    "plt.title('Accuracy Score: {0}'.format(score), size = 12)\n",
    "plt.show()\n",
    "print(\"\\n\")"
   ]
  },
  {
   "cell_type": "code",
   "execution_count": 244,
   "metadata": {},
   "outputs": [],
   "source": [
    "Importance = pd.DataFrame({\"Importance\": rf_tuned.feature_importances_*100},\n",
    "                         index = X_train.columns)"
   ]
  },
  {
   "cell_type": "code",
   "execution_count": 245,
   "metadata": {},
   "outputs": [
    {
     "data": {
      "text/plain": [
       "Text(0.5, 0, 'Değişken Önem Düzeyleri')"
      ]
     },
     "execution_count": 245,
     "metadata": {},
     "output_type": "execute_result"
    },
    {
     "data": {
      "image/png": "[encoded data removed]",
      "text/plain": [
       "<Figure size 432x288 with 1 Axes>"
      ]
     },
     "metadata": {
      "needs_background": "light"
     },
     "output_type": "display_data"
    }
   ],
   "source": [
    "Importance.sort_values(by = \"Importance\", \n",
    "                       axis = 0, \n",
    "                       ascending = True).plot(kind =\"barh\", color = \"r\")\n",
    "\n",
    "plt.xlabel(\"Değişken Önem Düzeyleri\")"
   ]
  },
  {
   "cell_type": "markdown",
   "metadata": {},
   "source": [
    "## Hata"
   ]
  },
  {
   "cell_type": "code",
   "execution_count": 250,
   "metadata": {},
   "outputs": [
    {
     "name": "stdout",
     "output_type": "stream",
     "text": [
      "Mean Absolute Error (MAE): 0.23\n",
      "Mean Squared Error (MSE): 0.23\n",
      "Root Mean Squared Error (RMSE): 0.48\n"
     ]
    }
   ],
   "source": [
    "mae = mean_absolute_error(y_pred, y_test)\n",
    "mse = mean_squared_error(y_pred, y_test)\n",
    "rmse = np.sqrt(mse)\n",
    "print('Mean Absolute Error (MAE): %.2f' % mae)\n",
    "print('Mean Squared Error (MSE): %.2f' % mse)\n",
    "print('Root Mean Squared Error (RMSE): %.2f' % rmse)"
   ]
  },
  {
   "cell_type": "markdown",
   "metadata": {},
   "source": [
    "### Cohen-Matthew Score"
   ]
  },
  {
   "cell_type": "code",
   "execution_count": 251,
   "metadata": {},
   "outputs": [
    {
     "name": "stdout",
     "output_type": "stream",
     "text": [
      "Cohen Score 0.1577681970302981\n",
      "Matthew Score 0.1952265339314258\n"
     ]
    }
   ],
   "source": [
    "print(\"Cohen Score\",cohen_kappa_score(y_test, y_pred))\n",
    "print(\"Matthew Score\",matthews_corrcoef(y_test, y_pred))"
   ]
  },
  {
   "cell_type": "markdown",
   "metadata": {},
   "source": [
    "# Gradient Boosting Machines"
   ]
  },
  {
   "cell_type": "code",
   "execution_count": 252,
   "metadata": {},
   "outputs": [],
   "source": [
    "df = data.copy()\n",
    "X_train, X_test, y_train, y_test = train_test_split(X, y, \n",
    "                                                    test_size=0.20, \n",
    "                                                    random_state=42)"
   ]
  },
  {
   "cell_type": "code",
   "execution_count": 253,
   "metadata": {},
   "outputs": [],
   "source": [
    "def upSample(X_train, y_train):\n",
    "    df_all = pd.concat((X_train, pd.DataFrame({'value': y_train}, index=y_train.index)), axis=1)\n",
    "    \n",
    "    df_majority = df_all [df_all.value==0]\n",
    "    df_minority = df_all[df_all.value==1]\n",
    "     \n",
    "    # Upsample minority class\n",
    "    df_minority_upsampled = resample(df_minority, \n",
    "                                     replace=True,     # sample with replacement\n",
    "                                     n_samples=df_majority.shape[0],    # to match majority class\n",
    "                                     random_state=123) # reproducible results\n",
    "    # Combine majority class with upsampled minority class\n",
    "    df_upsampled = pd.concat([df_majority, df_minority_upsampled], axis=0)\n",
    "    y_upsampled = df_upsampled.value\n",
    "    X_upsampled = df_upsampled.drop('value', axis=1)\n",
    "\n",
    "    return X_upsampled, y_upsampled"
   ]
  },
  {
   "cell_type": "code",
   "execution_count": 254,
   "metadata": {},
   "outputs": [],
   "source": [
    "X_train,y_train=upSample(X_train, y_train)"
   ]
  },
  {
   "cell_type": "code",
   "execution_count": 255,
   "metadata": {},
   "outputs": [],
   "source": [
    "from sklearn.ensemble import GradientBoostingClassifier"
   ]
  },
  {
   "cell_type": "code",
   "execution_count": 256,
   "metadata": {},
   "outputs": [],
   "source": [
    "gbm_model = GradientBoostingClassifier().fit(X_train, y_train)"
   ]
  },
  {
   "cell_type": "code",
   "execution_count": 257,
   "metadata": {},
   "outputs": [
    {
     "data": {
      "text/plain": [
       "0.719125"
      ]
     },
     "execution_count": 257,
     "metadata": {},
     "output_type": "execute_result"
    }
   ],
   "source": [
    "y_pred = gbm_model.predict(X_test)\n",
    "accuracy_score(y_test, y_pred)"
   ]
  },
  {
   "cell_type": "markdown",
   "metadata": {},
   "source": [
    "## Model Tuning"
   ]
  },
  {
   "cell_type": "code",
   "execution_count": 258,
   "metadata": {},
   "outputs": [
    {
     "data": {
      "text/plain": [
       "GradientBoostingClassifier()"
      ]
     },
     "execution_count": 258,
     "metadata": {},
     "output_type": "execute_result"
    }
   ],
   "source": [
    "gbm_model"
   ]
  },
  {
   "cell_type": "code",
   "execution_count": null,
   "metadata": {},
   "outputs": [],
   "source": [
    "?gbm_model"
   ]
  },
  {
   "cell_type": "code",
   "execution_count": 259,
   "metadata": {},
   "outputs": [],
   "source": [
    "gbm_params = {\"learning_rate\" : [0.001, 0.01, 0.1, 0.05],\n",
    "             \"n_estimators\": [100,500,100],\n",
    "             \"max_depth\": [3,5,10],\n",
    "             \"min_samples_split\": [2,5,10]}"
   ]
  },
  {
   "cell_type": "code",
   "execution_count": 260,
   "metadata": {},
   "outputs": [],
   "source": [
    "gbm = GradientBoostingClassifier()\n",
    "\n",
    "gbm_cv = GridSearchCV(gbm, gbm_params, cv = 10, n_jobs = -1, verbose = 2)"
   ]
  },
  {
   "cell_type": "code",
   "execution_count": 261,
   "metadata": {},
   "outputs": [
    {
     "name": "stdout",
     "output_type": "stream",
     "text": [
      "Fitting 10 folds for each of 108 candidates, totalling 1080 fits\n"
     ]
    },
    {
     "name": "stderr",
     "output_type": "stream",
     "text": [
      "[Parallel(n_jobs=-1)]: Using backend LokyBackend with 8 concurrent workers.\n",
      "[Parallel(n_jobs=-1)]: Done  25 tasks      | elapsed:  2.3min\n",
      "[Parallel(n_jobs=-1)]: Done 146 tasks      | elapsed: 15.7min\n",
      "[Parallel(n_jobs=-1)]: Done 349 tasks      | elapsed: 55.3min\n",
      "[Parallel(n_jobs=-1)]: Done 632 tasks      | elapsed: 102.1min\n",
      "[Parallel(n_jobs=-1)]: Done 997 tasks      | elapsed: 159.6min\n",
      "[Parallel(n_jobs=-1)]: Done 1080 out of 1080 | elapsed: 184.0min finished\n"
     ]
    },
    {
     "data": {
      "text/plain": [
       "GridSearchCV(cv=10, estimator=GradientBoostingClassifier(), n_jobs=-1,\n",
       "             param_grid={'learning_rate': [0.001, 0.01, 0.1, 0.05],\n",
       "                         'max_depth': [3, 5, 10],\n",
       "                         'min_samples_split': [2, 5, 10],\n",
       "                         'n_estimators': [100, 500, 100]},\n",
       "             verbose=2)"
      ]
     },
     "execution_count": 261,
     "metadata": {},
     "output_type": "execute_result"
    }
   ],
   "source": [
    "gbm_cv.fit(X_train, y_train)"
   ]
  },
  {
   "cell_type": "code",
   "execution_count": 262,
   "metadata": {},
   "outputs": [
    {
     "name": "stdout",
     "output_type": "stream",
     "text": [
      "En iyi parametreler: {'learning_rate': 0.1, 'max_depth': 10, 'min_samples_split': 10, 'n_estimators': 500}\n"
     ]
    }
   ],
   "source": [
    "print(\"En iyi parametreler: \" + str(gbm_cv.best_params_))"
   ]
  },
  {
   "cell_type": "code",
   "execution_count": 264,
   "metadata": {},
   "outputs": [],
   "source": [
    "gbm = GradientBoostingClassifier(learning_rate = 0.1, \n",
    "                                 max_depth = 10,\n",
    "                                min_samples_split = 10,\n",
    "                                n_estimators = 500)"
   ]
  },
  {
   "cell_type": "code",
   "execution_count": 265,
   "metadata": {},
   "outputs": [],
   "source": [
    "gbm_tuned =  gbm.fit(X_train,y_train)"
   ]
  },
  {
   "cell_type": "code",
   "execution_count": 266,
   "metadata": {},
   "outputs": [
    {
     "data": {
      "text/plain": [
       "0.92225"
      ]
     },
     "execution_count": 266,
     "metadata": {},
     "output_type": "execute_result"
    }
   ],
   "source": [
    "y_pred = gbm_tuned.predict(X_test)\n",
    "accuracy_score(y_test, y_pred)"
   ]
  },
  {
   "cell_type": "code",
   "execution_count": 267,
   "metadata": {},
   "outputs": [
    {
     "name": "stdout",
     "output_type": "stream",
     "text": [
      "Confusion Matrix \n",
      "\n"
     ]
    },
    {
     "data": {
      "image/png": "[encoded data removed]",
      "text/plain": [
       "<Figure size 432x288 with 2 Axes>"
      ]
     },
     "metadata": {
      "needs_background": "light"
     },
     "output_type": "display_data"
    },
    {
     "name": "stdout",
     "output_type": "stream",
     "text": [
      "\n",
      "\n"
     ]
    }
   ],
   "source": [
    "print(\"Confusion Matrix\",\"\\n\")\n",
    "score = round(accuracy_score(y_test, y_pred),3) \n",
    "cm1 = cm(y_test, gbm_tuned.predict(X_test))\n",
    "sns.heatmap(cm1, annot=True, fmt=\".1f\", linewidths=.3, \n",
    "        square = True, cmap = 'PuBu')\n",
    "plt.ylabel('Actual label')\n",
    "plt.xlabel('Predicted label')\n",
    "plt.title('Accuracy Score: {0}'.format(score), size = 12)\n",
    "plt.show()\n",
    "print(\"\\n\")"
   ]
  },
  {
   "cell_type": "markdown",
   "metadata": {},
   "source": [
    "### Hata"
   ]
  },
  {
   "cell_type": "code",
   "execution_count": 272,
   "metadata": {},
   "outputs": [
    {
     "name": "stdout",
     "output_type": "stream",
     "text": [
      "Mean Absolute Error (MAE): 0.08\n",
      "Mean Squared Error (MSE): 0.08\n",
      "Root Mean Squared Error (RMSE): 0.28\n"
     ]
    }
   ],
   "source": [
    "mae = mean_absolute_error(y_pred, y_test)\n",
    "mse = mean_squared_error(y_pred, y_test)\n",
    "rmse = np.sqrt(mse)\n",
    "print('Mean Absolute Error (MAE): %.2f' % mae)\n",
    "print('Mean Squared Error (MSE): %.2f' % mse)\n",
    "print('Root Mean Squared Error (RMSE): %.2f' % rmse)"
   ]
  },
  {
   "cell_type": "markdown",
   "metadata": {},
   "source": [
    "### Cohen-Matthew Score"
   ]
  },
  {
   "cell_type": "code",
   "execution_count": 273,
   "metadata": {},
   "outputs": [
    {
     "name": "stdout",
     "output_type": "stream",
     "text": [
      "Cohen Score 0.1694618326318713\n",
      "Matthew Score 0.19559833610202237\n"
     ]
    }
   ],
   "source": [
    "print(\"Cohen Score\",cohen_kappa_score(y_test, y_pred))\n",
    "print(\"Matthew Score\",matthews_corrcoef(y_test, y_pred))"
   ]
  },
  {
   "cell_type": "markdown",
   "metadata": {},
   "source": [
    "# XGBoost"
   ]
  },
  {
   "cell_type": "code",
   "execution_count": 274,
   "metadata": {},
   "outputs": [],
   "source": [
    "df = data.copy()\n",
    "X_train, X_test, y_train, y_test = train_test_split(X, y, \n",
    "                                                    test_size=0.20, \n",
    "                                                    random_state=42)"
   ]
  },
  {
   "cell_type": "code",
   "execution_count": 275,
   "metadata": {},
   "outputs": [],
   "source": [
    "def upSample(X_train, y_train):\n",
    "    df_all = pd.concat((X_train, pd.DataFrame({'value': y_train}, index=y_train.index)), axis=1)\n",
    "    \n",
    "    df_majority = df_all [df_all.value==0]\n",
    "    df_minority = df_all[df_all.value==1]\n",
    "     \n",
    "    # Upsample minority class\n",
    "    df_minority_upsampled = resample(df_minority, \n",
    "                                     replace=True,     # sample with replacement\n",
    "                                     n_samples=df_majority.shape[0],    # to match majority class\n",
    "                                     random_state=123) # reproducible results\n",
    "    # Combine majority class with upsampled minority class\n",
    "    df_upsampled = pd.concat([df_majority, df_minority_upsampled], axis=0)\n",
    "    y_upsampled = df_upsampled.value\n",
    "    X_upsampled = df_upsampled.drop('value', axis=1)\n",
    "\n",
    "    return X_upsampled, y_upsampled"
   ]
  },
  {
   "cell_type": "code",
   "execution_count": 276,
   "metadata": {},
   "outputs": [],
   "source": [
    "X_train,y_train=upSample(X_train, y_train)"
   ]
  },
  {
   "cell_type": "code",
   "execution_count": 277,
   "metadata": {},
   "outputs": [],
   "source": [
    "#!pip install xgboost\n",
    "from xgboost import XGBClassifier"
   ]
  },
  {
   "cell_type": "code",
   "execution_count": 278,
   "metadata": {},
   "outputs": [],
   "source": [
    "xgb_model = XGBClassifier().fit(X_train, y_train)"
   ]
  },
  {
   "cell_type": "code",
   "execution_count": 279,
   "metadata": {},
   "outputs": [
    {
     "data": {
      "text/plain": [
       "XGBClassifier(base_score=0.5, booster='gbtree', colsample_bylevel=1,\n",
       "              colsample_bynode=1, colsample_bytree=1, gamma=0, gpu_id=-1,\n",
       "              importance_type='gain', interaction_constraints='',\n",
       "              learning_rate=0.300000012, max_delta_step=0, max_depth=6,\n",
       "              min_child_weight=1, missing=nan, monotone_constraints='()',\n",
       "              n_estimators=100, n_jobs=0, num_parallel_tree=1, random_state=0,\n",
       "              reg_alpha=0, reg_lambda=1, scale_pos_weight=1, subsample=1,\n",
       "              tree_method='exact', validate_parameters=1, verbosity=None)"
      ]
     },
     "execution_count": 279,
     "metadata": {},
     "output_type": "execute_result"
    }
   ],
   "source": [
    "xgb_model"
   ]
  },
  {
   "cell_type": "code",
   "execution_count": 280,
   "metadata": {},
   "outputs": [
    {
     "data": {
      "text/plain": [
       "0.809625"
      ]
     },
     "execution_count": 280,
     "metadata": {},
     "output_type": "execute_result"
    }
   ],
   "source": [
    "y_pred = xgb_model.predict(X_test)\n",
    "accuracy_score(y_test, y_pred)"
   ]
  },
  {
   "cell_type": "markdown",
   "metadata": {},
   "source": [
    "## Model Tuning"
   ]
  },
  {
   "cell_type": "code",
   "execution_count": 281,
   "metadata": {},
   "outputs": [
    {
     "data": {
      "text/plain": [
       "XGBClassifier(base_score=0.5, booster='gbtree', colsample_bylevel=1,\n",
       "              colsample_bynode=1, colsample_bytree=1, gamma=0, gpu_id=-1,\n",
       "              importance_type='gain', interaction_constraints='',\n",
       "              learning_rate=0.300000012, max_delta_step=0, max_depth=6,\n",
       "              min_child_weight=1, missing=nan, monotone_constraints='()',\n",
       "              n_estimators=100, n_jobs=0, num_parallel_tree=1, random_state=0,\n",
       "              reg_alpha=0, reg_lambda=1, scale_pos_weight=1, subsample=1,\n",
       "              tree_method='exact', validate_parameters=1, verbosity=None)"
      ]
     },
     "execution_count": 281,
     "metadata": {},
     "output_type": "execute_result"
    }
   ],
   "source": [
    "xgb_model"
   ]
  },
  {
   "cell_type": "code",
   "execution_count": null,
   "metadata": {},
   "outputs": [],
   "source": [
    "?xgb_model"
   ]
  },
  {
   "cell_type": "code",
   "execution_count": 285,
   "metadata": {},
   "outputs": [],
   "source": [
    "xgb_params = {\n",
    "        'n_estimators': [100, 500, 1000, 2000],\n",
    "        'subsample': [0.6, 0.8, 1.0],\n",
    "        'max_depth': [3, 4, 5,6],\n",
    "        'learning_rate': [0.1,0.01,0.02,0.05]}"
   ]
  },
  {
   "cell_type": "code",
   "execution_count": 286,
   "metadata": {},
   "outputs": [],
   "source": [
    "xgb = XGBClassifier()\n",
    "\n",
    "xgb_cv_model = GridSearchCV(xgb, xgb_params, cv = 10, n_jobs = -1, verbose = 2)"
   ]
  },
  {
   "cell_type": "code",
   "execution_count": 287,
   "metadata": {},
   "outputs": [
    {
     "name": "stdout",
     "output_type": "stream",
     "text": [
      "Fitting 10 folds for each of 192 candidates, totalling 1920 fits\n"
     ]
    },
    {
     "name": "stderr",
     "output_type": "stream",
     "text": [
      "[Parallel(n_jobs=-1)]: Using backend LokyBackend with 8 concurrent workers.\n",
      "[Parallel(n_jobs=-1)]: Done  25 tasks      | elapsed:   54.2s\n",
      "[Parallel(n_jobs=-1)]: Done 146 tasks      | elapsed: 22.9min\n",
      "[Parallel(n_jobs=-1)]: Done 349 tasks      | elapsed: 125.7min\n",
      "[Parallel(n_jobs=-1)]: Done 632 tasks      | elapsed: 209.3min\n",
      "[Parallel(n_jobs=-1)]: Done 997 tasks      | elapsed: 330.4min\n",
      "[Parallel(n_jobs=-1)]: Done 1442 tasks      | elapsed: 446.7min\n",
      "[Parallel(n_jobs=-1)]: Done 1920 out of 1920 | elapsed: 570.5min finished\n"
     ]
    },
    {
     "data": {
      "text/plain": [
       "GridSearchCV(cv=10,\n",
       "             estimator=XGBClassifier(base_score=None, booster=None,\n",
       "                                     colsample_bylevel=None,\n",
       "                                     colsample_bynode=None,\n",
       "                                     colsample_bytree=None, gamma=None,\n",
       "                                     gpu_id=None, importance_type='gain',\n",
       "                                     interaction_constraints=None,\n",
       "                                     learning_rate=None, max_delta_step=None,\n",
       "                                     max_depth=None, min_child_weight=None,\n",
       "                                     missing=nan, monotone_constraints=None,\n",
       "                                     n_estimators=100, n_jobs=None,\n",
       "                                     num_parallel_tree=None, random_state=None,\n",
       "                                     reg_alpha=None, reg_lambda=None,\n",
       "                                     scale_pos_weight=None, subsample=None,\n",
       "                                     tree_method=None, validate_parameters=None,\n",
       "                                     verbosity=None),\n",
       "             n_jobs=-1,\n",
       "             param_grid={'learning_rate': [0.1, 0.01, 0.02, 0.05],\n",
       "                         'max_depth': [3, 4, 5, 6],\n",
       "                         'n_estimators': [100, 500, 1000, 2000],\n",
       "                         'subsample': [0.6, 0.8, 1.0]},\n",
       "             verbose=2)"
      ]
     },
     "execution_count": 287,
     "metadata": {},
     "output_type": "execute_result"
    }
   ],
   "source": [
    "xgb_cv_model.fit(X_train, y_train)"
   ]
  },
  {
   "cell_type": "code",
   "execution_count": 288,
   "metadata": {},
   "outputs": [
    {
     "data": {
      "text/plain": [
       "{'learning_rate': 0.1, 'max_depth': 6, 'n_estimators': 2000, 'subsample': 0.8}"
      ]
     },
     "execution_count": 288,
     "metadata": {},
     "output_type": "execute_result"
    }
   ],
   "source": [
    "xgb_cv_model.best_params_"
   ]
  },
  {
   "cell_type": "code",
   "execution_count": 297,
   "metadata": {},
   "outputs": [],
   "source": [
    "xgb = XGBClassifier(learning_rate = 0.1, \n",
    "                    max_depth = 6,\n",
    "                    n_estimators = 2000,\n",
    "                    subsample = 0.8)"
   ]
  },
  {
   "cell_type": "code",
   "execution_count": 298,
   "metadata": {},
   "outputs": [],
   "source": [
    "xgb_tuned =  xgb.fit(X_train,y_train)"
   ]
  },
  {
   "cell_type": "code",
   "execution_count": 299,
   "metadata": {},
   "outputs": [
    {
     "data": {
      "text/plain": [
       "0.908"
      ]
     },
     "execution_count": 299,
     "metadata": {},
     "output_type": "execute_result"
    }
   ],
   "source": [
    "y_pred = xgb_tuned.predict(X_test)\n",
    "accuracy_score(y_test, y_pred)"
   ]
  },
  {
   "cell_type": "code",
   "execution_count": 300,
   "metadata": {},
   "outputs": [
    {
     "name": "stdout",
     "output_type": "stream",
     "text": [
      "Confusion Matrix \n",
      "\n"
     ]
    },
    {
     "data": {
      "image/png": "[encoded data removed]",
      "text/plain": [
       "<Figure size 432x288 with 2 Axes>"
      ]
     },
     "metadata": {
      "needs_background": "light"
     },
     "output_type": "display_data"
    },
    {
     "name": "stdout",
     "output_type": "stream",
     "text": [
      "\n",
      "\n"
     ]
    }
   ],
   "source": [
    "print(\"Confusion Matrix\",\"\\n\")\n",
    "score = round(accuracy_score(y_test, y_pred),3) \n",
    "cm1 = cm(y_test, xgb_tuned.predict(X_test))\n",
    "sns.heatmap(cm1, annot=True, fmt=\".1f\", linewidths=.3, \n",
    "        square = True, cmap = 'PuBu')\n",
    "plt.ylabel('Actual label')\n",
    "plt.xlabel('Predicted label')\n",
    "plt.title('Accuracy Score: {0}'.format(score), size = 12)\n",
    "plt.show()\n",
    "print(\"\\n\")"
   ]
  },
  {
   "cell_type": "markdown",
   "metadata": {},
   "source": [
    "## Hata"
   ]
  },
  {
   "cell_type": "code",
   "execution_count": 305,
   "metadata": {},
   "outputs": [
    {
     "name": "stdout",
     "output_type": "stream",
     "text": [
      "Mean Absolute Error (MAE): 0.09\n",
      "Mean Squared Error (MSE): 0.09\n",
      "Root Mean Squared Error (RMSE): 0.30\n"
     ]
    }
   ],
   "source": [
    "mae = mean_absolute_error(y_pred, y_test)\n",
    "mse = mean_squared_error(y_pred, y_test)\n",
    "rmse = np.sqrt(mse)\n",
    "print('Mean Absolute Error (MAE): %.2f' % mae)\n",
    "print('Mean Squared Error (MSE): %.2f' % mse)\n",
    "print('Root Mean Squared Error (RMSE): %.2f' % rmse)"
   ]
  },
  {
   "cell_type": "markdown",
   "metadata": {},
   "source": [
    "### Cohen-Matthew Score"
   ]
  },
  {
   "cell_type": "code",
   "execution_count": 306,
   "metadata": {},
   "outputs": [
    {
     "name": "stdout",
     "output_type": "stream",
     "text": [
      "Cohen Score 0.19710959454034538\n",
      "Matthew Score 0.200934083415545\n"
     ]
    }
   ],
   "source": [
    "print(\"Cohen Score\",cohen_kappa_score(y_test, y_pred))\n",
    "print(\"Matthew Score\",matthews_corrcoef(y_test, y_pred))"
   ]
  },
  {
   "cell_type": "markdown",
   "metadata": {},
   "source": [
    "# LightGBM"
   ]
  },
  {
   "cell_type": "code",
   "execution_count": 307,
   "metadata": {},
   "outputs": [],
   "source": [
    "df = data.copy()\n",
    "X_train, X_test, y_train, y_test = train_test_split(X, y, \n",
    "                                                    test_size=0.20, \n",
    "                                                    random_state=42)"
   ]
  },
  {
   "cell_type": "code",
   "execution_count": 308,
   "metadata": {},
   "outputs": [],
   "source": [
    "from lightgbm import LGBMClassifier"
   ]
  },
  {
   "cell_type": "code",
   "execution_count": 309,
   "metadata": {},
   "outputs": [],
   "source": [
    "lgbm_model = LGBMClassifier().fit(X_train, y_train)"
   ]
  },
  {
   "cell_type": "code",
   "execution_count": 310,
   "metadata": {},
   "outputs": [
    {
     "data": {
      "text/plain": [
       "0.929"
      ]
     },
     "execution_count": 310,
     "metadata": {},
     "output_type": "execute_result"
    }
   ],
   "source": [
    "y_pred = lgbm_model.predict(X_test)\n",
    "accuracy_score(y_test, y_pred)"
   ]
  },
  {
   "cell_type": "code",
   "execution_count": 311,
   "metadata": {},
   "outputs": [],
   "source": [
    "## Model Tuning"
   ]
  },
  {
   "cell_type": "code",
   "execution_count": 312,
   "metadata": {},
   "outputs": [
    {
     "data": {
      "text/plain": [
       "LGBMClassifier()"
      ]
     },
     "execution_count": 312,
     "metadata": {},
     "output_type": "execute_result"
    }
   ],
   "source": [
    "lgbm_model"
   ]
  },
  {
   "cell_type": "code",
   "execution_count": null,
   "metadata": {},
   "outputs": [],
   "source": [
    "?lgbm_model"
   ]
  },
  {
   "cell_type": "code",
   "execution_count": 313,
   "metadata": {},
   "outputs": [],
   "source": [
    "lgbm_params = {\n",
    "        'n_estimators': [100, 500, 1000, 2000],\n",
    "        'subsample': [0.6, 0.8, 1.0],\n",
    "        'max_depth': [3, 4, 5,6],\n",
    "        'learning_rate': [0.1,0.01,0.05],\n",
    "        \"min_child_samples\": [5,10,20]}"
   ]
  },
  {
   "cell_type": "code",
   "execution_count": 314,
   "metadata": {},
   "outputs": [],
   "source": [
    "lgbm = LGBMClassifier()\n",
    "\n",
    "lgbm_cv_model = GridSearchCV(lgbm, lgbm_params, \n",
    "                             cv = 10, \n",
    "                             n_jobs = -1, \n",
    "                             verbose = 2)\n",
    "\n"
   ]
  },
  {
   "cell_type": "code",
   "execution_count": 315,
   "metadata": {},
   "outputs": [
    {
     "name": "stdout",
     "output_type": "stream",
     "text": [
      "Fitting 10 folds for each of 432 candidates, totalling 4320 fits\n"
     ]
    },
    {
     "name": "stderr",
     "output_type": "stream",
     "text": [
      "[Parallel(n_jobs=-1)]: Using backend LokyBackend with 8 concurrent workers.\n",
      "[Parallel(n_jobs=-1)]: Done  25 tasks      | elapsed:   23.6s\n",
      "[Parallel(n_jobs=-1)]: Done 146 tasks      | elapsed:  1.2min\n",
      "[Parallel(n_jobs=-1)]: Done 349 tasks      | elapsed:  2.7min\n",
      "[Parallel(n_jobs=-1)]: Done 632 tasks      | elapsed:  4.6min\n",
      "[Parallel(n_jobs=-1)]: Done 997 tasks      | elapsed:  7.7min\n",
      "[Parallel(n_jobs=-1)]: Done 1442 tasks      | elapsed: 11.9min\n",
      "[Parallel(n_jobs=-1)]: Done 1969 tasks      | elapsed: 15.3min\n",
      "[Parallel(n_jobs=-1)]: Done 2576 tasks      | elapsed: 20.4min\n",
      "[Parallel(n_jobs=-1)]: Done 3265 tasks      | elapsed: 26.0min\n",
      "[Parallel(n_jobs=-1)]: Done 4034 tasks      | elapsed: 67.1min\n",
      "[Parallel(n_jobs=-1)]: Done 4320 out of 4320 | elapsed: 70.1min finished\n"
     ]
    },
    {
     "name": "stdout",
     "output_type": "stream",
     "text": [
      "[LightGBM] [Warning] Accuracy may be bad since you didn't set num_leaves and 2^max_depth > num_leaves\n"
     ]
    },
    {
     "data": {
      "text/plain": [
       "GridSearchCV(cv=10, estimator=LGBMClassifier(), n_jobs=-1,\n",
       "             param_grid={'learning_rate': [0.1, 0.01, 0.05],\n",
       "                         'max_depth': [3, 4, 5, 6],\n",
       "                         'min_child_samples': [5, 10, 20],\n",
       "                         'n_estimators': [100, 500, 1000, 2000],\n",
       "                         'subsample': [0.6, 0.8, 1.0]},\n",
       "             verbose=2)"
      ]
     },
     "execution_count": 315,
     "metadata": {},
     "output_type": "execute_result"
    }
   ],
   "source": [
    "lgbm_cv_model.fit(X_train, y_train)"
   ]
  },
  {
   "cell_type": "code",
   "execution_count": 316,
   "metadata": {},
   "outputs": [
    {
     "data": {
      "text/plain": [
       "{'learning_rate': 0.01,\n",
       " 'max_depth': 6,\n",
       " 'min_child_samples': 10,\n",
       " 'n_estimators': 1000,\n",
       " 'subsample': 0.6}"
      ]
     },
     "execution_count": 316,
     "metadata": {},
     "output_type": "execute_result"
    }
   ],
   "source": [
    "lgbm_cv_model.best_params_"
   ]
  },
  {
   "cell_type": "code",
   "execution_count": 317,
   "metadata": {},
   "outputs": [],
   "source": [
    "lgbm = LGBMClassifier(learning_rate = 0.01, \n",
    "                       max_depth = 6,\n",
    "                       subsample = 0.6,\n",
    "                       n_estimators = 1000,\n",
    "                       min_child_samples = 10)"
   ]
  },
  {
   "cell_type": "code",
   "execution_count": 318,
   "metadata": {},
   "outputs": [],
   "source": [
    "lgbm_tuned = lgbm.fit(X_train,y_train)"
   ]
  },
  {
   "cell_type": "code",
   "execution_count": 319,
   "metadata": {},
   "outputs": [
    {
     "data": {
      "text/plain": [
       "0.93025"
      ]
     },
     "execution_count": 319,
     "metadata": {},
     "output_type": "execute_result"
    }
   ],
   "source": [
    "y_pred = lgbm_tuned.predict(X_test)\n",
    "accuracy_score(y_test, y_pred)"
   ]
  },
  {
   "cell_type": "code",
   "execution_count": 320,
   "metadata": {},
   "outputs": [
    {
     "name": "stdout",
     "output_type": "stream",
     "text": [
      "Confusion Matrix \n",
      "\n"
     ]
    },
    {
     "data": {
      "image/png": "[encoded data removed]",
      "text/plain": [
       "<Figure size 432x288 with 2 Axes>"
      ]
     },
     "metadata": {
      "needs_background": "light"
     },
     "output_type": "display_data"
    },
    {
     "name": "stdout",
     "output_type": "stream",
     "text": [
      "\n",
      "\n"
     ]
    }
   ],
   "source": [
    "print(\"Confusion Matrix\",\"\\n\")\n",
    "score = round(accuracy_score(y_test, y_pred),3) \n",
    "cm1 = cm(y_test, lgbm_tuned.predict(X_test))\n",
    "sns.heatmap(cm1, annot=True, fmt=\".1f\", linewidths=.3, \n",
    "        square = True, cmap = 'PuBu')\n",
    "plt.ylabel('Actual label')\n",
    "plt.xlabel('Predicted label')\n",
    "plt.title('Accuracy Score: {0}'.format(score), size = 12)\n",
    "plt.show()\n",
    "print(\"\\n\")"
   ]
  },
  {
   "cell_type": "markdown",
   "metadata": {},
   "source": [
    "## Hata"
   ]
  },
  {
   "cell_type": "code",
   "execution_count": 325,
   "metadata": {},
   "outputs": [
    {
     "name": "stdout",
     "output_type": "stream",
     "text": [
      "Mean Absolute Error (MAE): 0.07\n",
      "Mean Squared Error (MSE): 0.07\n",
      "Root Mean Squared Error (RMSE): 0.26\n"
     ]
    }
   ],
   "source": [
    "mae = mean_absolute_error(y_pred, y_test)\n",
    "mse = mean_squared_error(y_pred, y_test)\n",
    "rmse = np.sqrt(mse)\n",
    "print('Mean Absolute Error (MAE): %.2f' % mae)\n",
    "print('Mean Squared Error (MSE): %.2f' % mse)\n",
    "print('Root Mean Squared Error (RMSE): %.2f' % rmse)"
   ]
  },
  {
   "cell_type": "markdown",
   "metadata": {},
   "source": [
    "### Cohen-Matthew Score"
   ]
  },
  {
   "cell_type": "code",
   "execution_count": 326,
   "metadata": {},
   "outputs": [
    {
     "name": "stdout",
     "output_type": "stream",
     "text": [
      "Cohen Score 0.13876129797006964\n",
      "Matthew Score 0.21326335983116276\n"
     ]
    }
   ],
   "source": [
    "print(\"Cohen Score\",cohen_kappa_score(y_test, y_pred))\n",
    "print(\"Matthew Score\",matthews_corrcoef(y_test, y_pred))"
   ]
  },
  {
   "cell_type": "markdown",
   "metadata": {},
   "source": [
    "# CatBoost"
   ]
  },
  {
   "cell_type": "markdown",
   "metadata": {},
   "source": [
    "## Model & Tahmin"
   ]
  },
  {
   "cell_type": "code",
   "execution_count": 327,
   "metadata": {},
   "outputs": [],
   "source": [
    "df = data.copy()\n",
    "X_train, X_test, y_train, y_test = train_test_split(X, y, \n",
    "                                                    test_size=0.20, \n",
    "                                                    random_state=42)"
   ]
  },
  {
   "cell_type": "code",
   "execution_count": 328,
   "metadata": {},
   "outputs": [],
   "source": [
    "#!pip install catboost\n",
    "from catboost import CatBoostClassifier"
   ]
  },
  {
   "cell_type": "code",
   "execution_count": 329,
   "metadata": {},
   "outputs": [
    {
     "name": "stdout",
     "output_type": "stream",
     "text": [
      "Learning rate set to 0.045252\n",
      "0:\tlearn: 0.6426025\ttotal: 339ms\tremaining: 5m 39s\n",
      "1:\tlearn: 0.5985942\ttotal: 351ms\tremaining: 2m 55s\n",
      "2:\tlearn: 0.5607980\ttotal: 362ms\tremaining: 2m\n",
      "3:\tlearn: 0.5258709\ttotal: 372ms\tremaining: 1m 32s\n",
      "4:\tlearn: 0.4960425\ttotal: 385ms\tremaining: 1m 16s\n",
      "5:\tlearn: 0.4684919\ttotal: 399ms\tremaining: 1m 6s\n",
      "6:\tlearn: 0.4449386\ttotal: 410ms\tremaining: 58.1s\n",
      "7:\tlearn: 0.4234861\ttotal: 430ms\tremaining: 53.4s\n",
      "8:\tlearn: 0.4046867\ttotal: 445ms\tremaining: 49s\n",
      "9:\tlearn: 0.3876050\ttotal: 460ms\tremaining: 45.6s\n",
      "10:\tlearn: 0.3727446\ttotal: 477ms\tremaining: 42.9s\n",
      "11:\tlearn: 0.3590407\ttotal: 490ms\tremaining: 40.3s\n",
      "12:\tlearn: 0.3468085\ttotal: 502ms\tremaining: 38.1s\n",
      "13:\tlearn: 0.3358282\ttotal: 513ms\tremaining: 36.2s\n",
      "14:\tlearn: 0.3268928\ttotal: 523ms\tremaining: 34.4s\n",
      "15:\tlearn: 0.3188494\ttotal: 535ms\tremaining: 32.9s\n",
      "16:\tlearn: 0.3110529\ttotal: 549ms\tremaining: 31.7s\n",
      "17:\tlearn: 0.3037204\ttotal: 562ms\tremaining: 30.7s\n",
      "18:\tlearn: 0.2974261\ttotal: 574ms\tremaining: 29.7s\n",
      "19:\tlearn: 0.2917922\ttotal: 583ms\tremaining: 28.6s\n",
      "20:\tlearn: 0.2867380\ttotal: 610ms\tremaining: 28.4s\n",
      "21:\tlearn: 0.2824450\ttotal: 622ms\tremaining: 27.6s\n",
      "22:\tlearn: 0.2785599\ttotal: 633ms\tremaining: 26.9s\n",
      "23:\tlearn: 0.2751181\ttotal: 644ms\tremaining: 26.2s\n",
      "24:\tlearn: 0.2718587\ttotal: 672ms\tremaining: 26.2s\n",
      "25:\tlearn: 0.2690452\ttotal: 683ms\tremaining: 25.6s\n",
      "26:\tlearn: 0.2660351\ttotal: 694ms\tremaining: 25s\n",
      "27:\tlearn: 0.2639143\ttotal: 716ms\tremaining: 24.8s\n",
      "28:\tlearn: 0.2614943\ttotal: 727ms\tremaining: 24.3s\n",
      "29:\tlearn: 0.2594085\ttotal: 738ms\tremaining: 23.9s\n",
      "30:\tlearn: 0.2577268\ttotal: 751ms\tremaining: 23.5s\n",
      "31:\tlearn: 0.2558092\ttotal: 762ms\tremaining: 23s\n",
      "32:\tlearn: 0.2541254\ttotal: 775ms\tremaining: 22.7s\n",
      "33:\tlearn: 0.2528540\ttotal: 791ms\tremaining: 22.5s\n",
      "34:\tlearn: 0.2516078\ttotal: 804ms\tremaining: 22.2s\n",
      "35:\tlearn: 0.2502936\ttotal: 817ms\tremaining: 21.9s\n",
      "36:\tlearn: 0.2492372\ttotal: 829ms\tremaining: 21.6s\n",
      "37:\tlearn: 0.2480748\ttotal: 850ms\tremaining: 21.5s\n",
      "38:\tlearn: 0.2470110\ttotal: 865ms\tremaining: 21.3s\n",
      "39:\tlearn: 0.2460057\ttotal: 876ms\tremaining: 21s\n",
      "40:\tlearn: 0.2451725\ttotal: 895ms\tremaining: 20.9s\n",
      "41:\tlearn: 0.2442895\ttotal: 910ms\tremaining: 20.8s\n",
      "42:\tlearn: 0.2435400\ttotal: 927ms\tremaining: 20.6s\n",
      "43:\tlearn: 0.2429415\ttotal: 945ms\tremaining: 20.5s\n",
      "44:\tlearn: 0.2422450\ttotal: 960ms\tremaining: 20.4s\n",
      "45:\tlearn: 0.2415772\ttotal: 971ms\tremaining: 20.1s\n",
      "46:\tlearn: 0.2410306\ttotal: 981ms\tremaining: 19.9s\n",
      "47:\tlearn: 0.2403755\ttotal: 1s\tremaining: 19.8s\n",
      "48:\tlearn: 0.2397688\ttotal: 1.02s\tremaining: 19.7s\n",
      "49:\tlearn: 0.2392707\ttotal: 1.03s\tremaining: 19.5s\n",
      "50:\tlearn: 0.2388968\ttotal: 1.05s\tremaining: 19.5s\n",
      "51:\tlearn: 0.2384843\ttotal: 1.06s\tremaining: 19.4s\n",
      "52:\tlearn: 0.2380722\ttotal: 1.08s\tremaining: 19.3s\n",
      "53:\tlearn: 0.2376697\ttotal: 1.1s\tremaining: 19.3s\n",
      "54:\tlearn: 0.2372900\ttotal: 1.11s\tremaining: 19.1s\n",
      "55:\tlearn: 0.2370486\ttotal: 1.12s\tremaining: 19s\n",
      "56:\tlearn: 0.2367172\ttotal: 1.14s\tremaining: 18.8s\n",
      "57:\tlearn: 0.2364786\ttotal: 1.15s\tremaining: 18.7s\n",
      "58:\tlearn: 0.2361918\ttotal: 1.16s\tremaining: 18.6s\n",
      "59:\tlearn: 0.2358936\ttotal: 1.18s\tremaining: 18.4s\n",
      "60:\tlearn: 0.2356417\ttotal: 1.2s\tremaining: 18.4s\n",
      "61:\tlearn: 0.2353028\ttotal: 1.22s\tremaining: 18.4s\n",
      "62:\tlearn: 0.2350678\ttotal: 1.23s\tremaining: 18.3s\n",
      "63:\tlearn: 0.2346690\ttotal: 1.24s\tremaining: 18.2s\n",
      "64:\tlearn: 0.2344695\ttotal: 1.26s\tremaining: 18.2s\n",
      "65:\tlearn: 0.2342786\ttotal: 1.29s\tremaining: 18.2s\n",
      "66:\tlearn: 0.2340820\ttotal: 1.31s\tremaining: 18.2s\n",
      "67:\tlearn: 0.2338562\ttotal: 1.32s\tremaining: 18.2s\n",
      "68:\tlearn: 0.2336364\ttotal: 1.34s\tremaining: 18.1s\n",
      "69:\tlearn: 0.2334444\ttotal: 1.36s\tremaining: 18s\n",
      "70:\tlearn: 0.2332496\ttotal: 1.37s\tremaining: 17.9s\n",
      "71:\tlearn: 0.2330260\ttotal: 1.39s\tremaining: 17.9s\n",
      "72:\tlearn: 0.2328556\ttotal: 1.4s\tremaining: 17.8s\n",
      "73:\tlearn: 0.2326302\ttotal: 1.41s\tremaining: 17.6s\n",
      "74:\tlearn: 0.2323406\ttotal: 1.45s\tremaining: 17.8s\n",
      "75:\tlearn: 0.2322417\ttotal: 1.47s\tremaining: 17.8s\n",
      "76:\tlearn: 0.2320493\ttotal: 1.48s\tremaining: 17.8s\n",
      "77:\tlearn: 0.2318839\ttotal: 1.51s\tremaining: 17.9s\n",
      "78:\tlearn: 0.2317257\ttotal: 1.53s\tremaining: 17.8s\n",
      "79:\tlearn: 0.2316406\ttotal: 1.54s\tremaining: 17.7s\n",
      "80:\tlearn: 0.2315270\ttotal: 1.55s\tremaining: 17.7s\n",
      "81:\tlearn: 0.2313294\ttotal: 1.57s\tremaining: 17.6s\n",
      "82:\tlearn: 0.2310963\ttotal: 1.59s\tremaining: 17.5s\n",
      "83:\tlearn: 0.2309837\ttotal: 1.6s\tremaining: 17.5s\n",
      "84:\tlearn: 0.2308408\ttotal: 1.62s\tremaining: 17.4s\n",
      "85:\tlearn: 0.2307106\ttotal: 1.63s\tremaining: 17.3s\n",
      "86:\tlearn: 0.2305002\ttotal: 1.65s\tremaining: 17.3s\n",
      "87:\tlearn: 0.2303775\ttotal: 1.67s\tremaining: 17.3s\n",
      "88:\tlearn: 0.2302586\ttotal: 1.69s\tremaining: 17.3s\n",
      "89:\tlearn: 0.2301723\ttotal: 1.71s\tremaining: 17.3s\n",
      "90:\tlearn: 0.2300466\ttotal: 1.72s\tremaining: 17.2s\n",
      "91:\tlearn: 0.2299439\ttotal: 1.73s\tremaining: 17.1s\n",
      "92:\tlearn: 0.2297348\ttotal: 1.76s\tremaining: 17.1s\n",
      "93:\tlearn: 0.2295766\ttotal: 1.77s\tremaining: 17.1s\n",
      "94:\tlearn: 0.2294794\ttotal: 1.82s\tremaining: 17.3s\n",
      "95:\tlearn: 0.2293689\ttotal: 1.84s\tremaining: 17.3s\n",
      "96:\tlearn: 0.2292049\ttotal: 1.86s\tremaining: 17.3s\n",
      "97:\tlearn: 0.2290303\ttotal: 1.87s\tremaining: 17.2s\n",
      "98:\tlearn: 0.2288632\ttotal: 1.89s\tremaining: 17.2s\n",
      "99:\tlearn: 0.2287579\ttotal: 1.9s\tremaining: 17.1s\n",
      "100:\tlearn: 0.2286765\ttotal: 1.91s\tremaining: 17s\n",
      "101:\tlearn: 0.2285990\ttotal: 1.93s\tremaining: 17s\n",
      "102:\tlearn: 0.2284804\ttotal: 1.95s\tremaining: 17s\n",
      "103:\tlearn: 0.2283939\ttotal: 1.97s\tremaining: 17s\n",
      "104:\tlearn: 0.2283129\ttotal: 1.99s\tremaining: 16.9s\n",
      "105:\tlearn: 0.2282505\ttotal: 2s\tremaining: 16.8s\n",
      "106:\tlearn: 0.2281626\ttotal: 2.01s\tremaining: 16.8s\n",
      "107:\tlearn: 0.2280211\ttotal: 2.03s\tremaining: 16.8s\n",
      "108:\tlearn: 0.2279195\ttotal: 2.04s\tremaining: 16.7s\n",
      "109:\tlearn: 0.2277895\ttotal: 2.06s\tremaining: 16.7s\n",
      "110:\tlearn: 0.2276570\ttotal: 2.07s\tremaining: 16.6s\n",
      "111:\tlearn: 0.2275443\ttotal: 2.09s\tremaining: 16.5s\n",
      "112:\tlearn: 0.2274412\ttotal: 2.1s\tremaining: 16.5s\n",
      "113:\tlearn: 0.2272619\ttotal: 2.12s\tremaining: 16.5s\n",
      "114:\tlearn: 0.2271440\ttotal: 2.13s\tremaining: 16.4s\n",
      "115:\tlearn: 0.2270066\ttotal: 2.16s\tremaining: 16.5s\n",
      "116:\tlearn: 0.2269071\ttotal: 2.17s\tremaining: 16.4s\n",
      "117:\tlearn: 0.2267566\ttotal: 2.18s\tremaining: 16.3s\n",
      "118:\tlearn: 0.2266170\ttotal: 2.2s\tremaining: 16.3s\n",
      "119:\tlearn: 0.2265015\ttotal: 2.23s\tremaining: 16.4s\n",
      "120:\tlearn: 0.2264003\ttotal: 2.24s\tremaining: 16.3s\n",
      "121:\tlearn: 0.2262784\ttotal: 2.25s\tremaining: 16.2s\n",
      "122:\tlearn: 0.2262147\ttotal: 2.28s\tremaining: 16.3s\n",
      "123:\tlearn: 0.2261473\ttotal: 2.29s\tremaining: 16.2s\n",
      "124:\tlearn: 0.2260271\ttotal: 2.3s\tremaining: 16.1s\n",
      "125:\tlearn: 0.2259361\ttotal: 2.31s\tremaining: 16.1s\n",
      "126:\tlearn: 0.2258537\ttotal: 2.34s\tremaining: 16.1s\n",
      "127:\tlearn: 0.2258016\ttotal: 2.35s\tremaining: 16s\n",
      "128:\tlearn: 0.2257329\ttotal: 2.36s\tremaining: 16s\n",
      "129:\tlearn: 0.2256688\ttotal: 2.38s\tremaining: 15.9s\n",
      "130:\tlearn: 0.2256077\ttotal: 2.39s\tremaining: 15.8s\n",
      "131:\tlearn: 0.2255086\ttotal: 2.4s\tremaining: 15.8s\n",
      "132:\tlearn: 0.2254557\ttotal: 2.44s\tremaining: 15.9s\n",
      "133:\tlearn: 0.2253083\ttotal: 2.46s\tremaining: 15.9s\n",
      "134:\tlearn: 0.2252137\ttotal: 2.47s\tremaining: 15.9s\n",
      "135:\tlearn: 0.2251396\ttotal: 2.49s\tremaining: 15.8s\n",
      "136:\tlearn: 0.2250709\ttotal: 2.5s\tremaining: 15.8s\n",
      "137:\tlearn: 0.2249884\ttotal: 2.52s\tremaining: 15.7s\n",
      "138:\tlearn: 0.2249105\ttotal: 2.54s\tremaining: 15.7s\n",
      "139:\tlearn: 0.2248696\ttotal: 2.55s\tremaining: 15.7s\n",
      "140:\tlearn: 0.2247509\ttotal: 2.57s\tremaining: 15.6s\n",
      "141:\tlearn: 0.2246741\ttotal: 2.58s\tremaining: 15.6s\n",
      "142:\tlearn: 0.2245148\ttotal: 2.6s\tremaining: 15.6s\n",
      "143:\tlearn: 0.2244667\ttotal: 2.61s\tremaining: 15.5s\n",
      "144:\tlearn: 0.2243739\ttotal: 2.63s\tremaining: 15.5s\n",
      "145:\tlearn: 0.2243019\ttotal: 2.64s\tremaining: 15.5s\n",
      "146:\tlearn: 0.2242150\ttotal: 2.65s\tremaining: 15.4s\n",
      "147:\tlearn: 0.2241451\ttotal: 2.67s\tremaining: 15.4s\n",
      "148:\tlearn: 0.2240944\ttotal: 2.69s\tremaining: 15.4s\n",
      "149:\tlearn: 0.2240629\ttotal: 2.7s\tremaining: 15.3s\n",
      "150:\tlearn: 0.2239896\ttotal: 2.72s\tremaining: 15.3s\n",
      "151:\tlearn: 0.2239373\ttotal: 2.74s\tremaining: 15.3s\n",
      "152:\tlearn: 0.2238911\ttotal: 2.75s\tremaining: 15.2s\n",
      "153:\tlearn: 0.2238027\ttotal: 2.76s\tremaining: 15.2s\n",
      "154:\tlearn: 0.2237485\ttotal: 2.78s\tremaining: 15.2s\n",
      "155:\tlearn: 0.2236663\ttotal: 2.8s\tremaining: 15.1s\n",
      "156:\tlearn: 0.2235769\ttotal: 2.81s\tremaining: 15.1s\n",
      "157:\tlearn: 0.2234799\ttotal: 2.83s\tremaining: 15.1s\n",
      "158:\tlearn: 0.2233996\ttotal: 2.84s\tremaining: 15s\n",
      "159:\tlearn: 0.2233367\ttotal: 2.86s\tremaining: 15s\n",
      "160:\tlearn: 0.2232270\ttotal: 2.87s\tremaining: 15s\n",
      "161:\tlearn: 0.2231926\ttotal: 2.89s\tremaining: 14.9s\n",
      "162:\tlearn: 0.2230791\ttotal: 2.91s\tremaining: 14.9s\n"
     ]
    },
    {
     "name": "stdout",
     "output_type": "stream",
     "text": [
      "163:\tlearn: 0.2230097\ttotal: 2.92s\tremaining: 14.9s\n",
      "164:\tlearn: 0.2229091\ttotal: 2.95s\tremaining: 14.9s\n",
      "165:\tlearn: 0.2228315\ttotal: 2.96s\tremaining: 14.9s\n",
      "166:\tlearn: 0.2227879\ttotal: 2.98s\tremaining: 14.9s\n",
      "167:\tlearn: 0.2226946\ttotal: 3.01s\tremaining: 14.9s\n",
      "168:\tlearn: 0.2226536\ttotal: 3.03s\tremaining: 14.9s\n",
      "169:\tlearn: 0.2225680\ttotal: 3.04s\tremaining: 14.9s\n",
      "170:\tlearn: 0.2224613\ttotal: 3.06s\tremaining: 14.8s\n",
      "171:\tlearn: 0.2223744\ttotal: 3.07s\tremaining: 14.8s\n",
      "172:\tlearn: 0.2222830\ttotal: 3.09s\tremaining: 14.8s\n",
      "173:\tlearn: 0.2222357\ttotal: 3.1s\tremaining: 14.7s\n",
      "174:\tlearn: 0.2221523\ttotal: 3.11s\tremaining: 14.7s\n",
      "175:\tlearn: 0.2220788\ttotal: 3.13s\tremaining: 14.7s\n",
      "176:\tlearn: 0.2220129\ttotal: 3.15s\tremaining: 14.7s\n",
      "177:\tlearn: 0.2219839\ttotal: 3.17s\tremaining: 14.6s\n",
      "178:\tlearn: 0.2219170\ttotal: 3.18s\tremaining: 14.6s\n",
      "179:\tlearn: 0.2218554\ttotal: 3.19s\tremaining: 14.5s\n",
      "180:\tlearn: 0.2217909\ttotal: 3.21s\tremaining: 14.5s\n",
      "181:\tlearn: 0.2217468\ttotal: 3.24s\tremaining: 14.6s\n",
      "182:\tlearn: 0.2216803\ttotal: 3.26s\tremaining: 14.5s\n",
      "183:\tlearn: 0.2215952\ttotal: 3.27s\tremaining: 14.5s\n",
      "184:\tlearn: 0.2215642\ttotal: 3.29s\tremaining: 14.5s\n",
      "185:\tlearn: 0.2215068\ttotal: 3.3s\tremaining: 14.4s\n",
      "186:\tlearn: 0.2214803\ttotal: 3.32s\tremaining: 14.4s\n",
      "187:\tlearn: 0.2213871\ttotal: 3.33s\tremaining: 14.4s\n",
      "188:\tlearn: 0.2212880\ttotal: 3.35s\tremaining: 14.4s\n",
      "189:\tlearn: 0.2212479\ttotal: 3.37s\tremaining: 14.4s\n",
      "190:\tlearn: 0.2211474\ttotal: 3.38s\tremaining: 14.3s\n",
      "191:\tlearn: 0.2211081\ttotal: 3.4s\tremaining: 14.3s\n",
      "192:\tlearn: 0.2210399\ttotal: 3.41s\tremaining: 14.3s\n",
      "193:\tlearn: 0.2210020\ttotal: 3.43s\tremaining: 14.2s\n",
      "194:\tlearn: 0.2209120\ttotal: 3.45s\tremaining: 14.2s\n",
      "195:\tlearn: 0.2208235\ttotal: 3.46s\tremaining: 14.2s\n",
      "196:\tlearn: 0.2207550\ttotal: 3.47s\tremaining: 14.2s\n",
      "197:\tlearn: 0.2206961\ttotal: 3.48s\tremaining: 14.1s\n",
      "198:\tlearn: 0.2206191\ttotal: 3.5s\tremaining: 14.1s\n",
      "199:\tlearn: 0.2205941\ttotal: 3.51s\tremaining: 14s\n",
      "200:\tlearn: 0.2205547\ttotal: 3.52s\tremaining: 14s\n",
      "201:\tlearn: 0.2204793\ttotal: 3.54s\tremaining: 14s\n",
      "202:\tlearn: 0.2203941\ttotal: 3.55s\tremaining: 13.9s\n",
      "203:\tlearn: 0.2203468\ttotal: 3.57s\tremaining: 13.9s\n",
      "204:\tlearn: 0.2202543\ttotal: 3.58s\tremaining: 13.9s\n",
      "205:\tlearn: 0.2201887\ttotal: 3.59s\tremaining: 13.9s\n",
      "206:\tlearn: 0.2201433\ttotal: 3.61s\tremaining: 13.8s\n",
      "207:\tlearn: 0.2200934\ttotal: 3.62s\tremaining: 13.8s\n",
      "208:\tlearn: 0.2200084\ttotal: 3.64s\tremaining: 13.8s\n",
      "209:\tlearn: 0.2199550\ttotal: 3.66s\tremaining: 13.8s\n",
      "210:\tlearn: 0.2198595\ttotal: 3.68s\tremaining: 13.7s\n",
      "211:\tlearn: 0.2198141\ttotal: 3.69s\tremaining: 13.7s\n",
      "212:\tlearn: 0.2197402\ttotal: 3.71s\tremaining: 13.7s\n",
      "213:\tlearn: 0.2197210\ttotal: 3.72s\tremaining: 13.6s\n",
      "214:\tlearn: 0.2196650\ttotal: 3.74s\tremaining: 13.6s\n",
      "215:\tlearn: 0.2196014\ttotal: 3.75s\tremaining: 13.6s\n",
      "216:\tlearn: 0.2194638\ttotal: 3.76s\tremaining: 13.6s\n",
      "217:\tlearn: 0.2193896\ttotal: 3.78s\tremaining: 13.6s\n",
      "218:\tlearn: 0.2193157\ttotal: 3.8s\tremaining: 13.5s\n",
      "219:\tlearn: 0.2192538\ttotal: 3.81s\tremaining: 13.5s\n",
      "220:\tlearn: 0.2191991\ttotal: 3.83s\tremaining: 13.5s\n",
      "221:\tlearn: 0.2191447\ttotal: 3.84s\tremaining: 13.5s\n",
      "222:\tlearn: 0.2190645\ttotal: 3.86s\tremaining: 13.4s\n",
      "223:\tlearn: 0.2189903\ttotal: 3.87s\tremaining: 13.4s\n",
      "224:\tlearn: 0.2189095\ttotal: 3.88s\tremaining: 13.4s\n",
      "225:\tlearn: 0.2188077\ttotal: 3.9s\tremaining: 13.4s\n",
      "226:\tlearn: 0.2187758\ttotal: 3.92s\tremaining: 13.3s\n",
      "227:\tlearn: 0.2186856\ttotal: 3.94s\tremaining: 13.3s\n",
      "228:\tlearn: 0.2186347\ttotal: 3.94s\tremaining: 13.3s\n",
      "229:\tlearn: 0.2185744\ttotal: 3.96s\tremaining: 13.2s\n",
      "230:\tlearn: 0.2185332\ttotal: 3.98s\tremaining: 13.3s\n",
      "231:\tlearn: 0.2184769\ttotal: 4s\tremaining: 13.2s\n",
      "232:\tlearn: 0.2184361\ttotal: 4.01s\tremaining: 13.2s\n",
      "233:\tlearn: 0.2183676\ttotal: 4.03s\tremaining: 13.2s\n",
      "234:\tlearn: 0.2183474\ttotal: 4.04s\tremaining: 13.2s\n",
      "235:\tlearn: 0.2182671\ttotal: 4.07s\tremaining: 13.2s\n",
      "236:\tlearn: 0.2182149\ttotal: 4.09s\tremaining: 13.2s\n",
      "237:\tlearn: 0.2180846\ttotal: 4.11s\tremaining: 13.1s\n",
      "238:\tlearn: 0.2179346\ttotal: 4.12s\tremaining: 13.1s\n",
      "239:\tlearn: 0.2178948\ttotal: 4.14s\tremaining: 13.1s\n",
      "240:\tlearn: 0.2178678\ttotal: 4.15s\tremaining: 13.1s\n",
      "241:\tlearn: 0.2178172\ttotal: 4.17s\tremaining: 13.1s\n",
      "242:\tlearn: 0.2177742\ttotal: 4.18s\tremaining: 13s\n",
      "243:\tlearn: 0.2177175\ttotal: 4.2s\tremaining: 13s\n",
      "244:\tlearn: 0.2176699\ttotal: 4.21s\tremaining: 13s\n",
      "245:\tlearn: 0.2176661\ttotal: 4.23s\tremaining: 13s\n",
      "246:\tlearn: 0.2176342\ttotal: 4.24s\tremaining: 12.9s\n",
      "247:\tlearn: 0.2175804\ttotal: 4.26s\tremaining: 12.9s\n",
      "248:\tlearn: 0.2175326\ttotal: 4.28s\tremaining: 12.9s\n",
      "249:\tlearn: 0.2174569\ttotal: 4.32s\tremaining: 13s\n",
      "250:\tlearn: 0.2174280\ttotal: 4.35s\tremaining: 13s\n",
      "251:\tlearn: 0.2173712\ttotal: 4.37s\tremaining: 13s\n",
      "252:\tlearn: 0.2172583\ttotal: 4.38s\tremaining: 12.9s\n",
      "253:\tlearn: 0.2172109\ttotal: 4.39s\tremaining: 12.9s\n",
      "254:\tlearn: 0.2171785\ttotal: 4.42s\tremaining: 12.9s\n",
      "255:\tlearn: 0.2171395\ttotal: 4.43s\tremaining: 12.9s\n",
      "256:\tlearn: 0.2170989\ttotal: 4.44s\tremaining: 12.8s\n",
      "257:\tlearn: 0.2170641\ttotal: 4.46s\tremaining: 12.8s\n",
      "258:\tlearn: 0.2170193\ttotal: 4.48s\tremaining: 12.8s\n",
      "259:\tlearn: 0.2169357\ttotal: 4.49s\tremaining: 12.8s\n",
      "260:\tlearn: 0.2168563\ttotal: 4.51s\tremaining: 12.8s\n",
      "261:\tlearn: 0.2168457\ttotal: 4.52s\tremaining: 12.7s\n",
      "262:\tlearn: 0.2167670\ttotal: 4.53s\tremaining: 12.7s\n",
      "263:\tlearn: 0.2166701\ttotal: 4.54s\tremaining: 12.7s\n",
      "264:\tlearn: 0.2166425\ttotal: 4.55s\tremaining: 12.6s\n",
      "265:\tlearn: 0.2165817\ttotal: 4.58s\tremaining: 12.6s\n",
      "266:\tlearn: 0.2165737\ttotal: 4.58s\tremaining: 12.6s\n",
      "267:\tlearn: 0.2165464\ttotal: 4.61s\tremaining: 12.6s\n",
      "268:\tlearn: 0.2165391\ttotal: 4.62s\tremaining: 12.6s\n",
      "269:\tlearn: 0.2164675\ttotal: 4.64s\tremaining: 12.5s\n",
      "270:\tlearn: 0.2164352\ttotal: 4.65s\tremaining: 12.5s\n",
      "271:\tlearn: 0.2163805\ttotal: 4.67s\tremaining: 12.5s\n",
      "272:\tlearn: 0.2163259\ttotal: 4.68s\tremaining: 12.5s\n",
      "273:\tlearn: 0.2162672\ttotal: 4.7s\tremaining: 12.5s\n",
      "274:\tlearn: 0.2162355\ttotal: 4.71s\tremaining: 12.4s\n",
      "275:\tlearn: 0.2161920\ttotal: 4.73s\tremaining: 12.4s\n",
      "276:\tlearn: 0.2161854\ttotal: 4.74s\tremaining: 12.4s\n",
      "277:\tlearn: 0.2161439\ttotal: 4.79s\tremaining: 12.4s\n",
      "278:\tlearn: 0.2160493\ttotal: 4.82s\tremaining: 12.5s\n",
      "279:\tlearn: 0.2159827\ttotal: 4.83s\tremaining: 12.4s\n",
      "280:\tlearn: 0.2159075\ttotal: 4.84s\tremaining: 12.4s\n",
      "281:\tlearn: 0.2158671\ttotal: 4.86s\tremaining: 12.4s\n",
      "282:\tlearn: 0.2158249\ttotal: 4.87s\tremaining: 12.3s\n",
      "283:\tlearn: 0.2157683\ttotal: 4.88s\tremaining: 12.3s\n",
      "284:\tlearn: 0.2156868\ttotal: 4.89s\tremaining: 12.3s\n",
      "285:\tlearn: 0.2156444\ttotal: 4.91s\tremaining: 12.3s\n",
      "286:\tlearn: 0.2155640\ttotal: 4.93s\tremaining: 12.2s\n",
      "287:\tlearn: 0.2155353\ttotal: 4.94s\tremaining: 12.2s\n",
      "288:\tlearn: 0.2154700\ttotal: 4.96s\tremaining: 12.2s\n",
      "289:\tlearn: 0.2154386\ttotal: 4.99s\tremaining: 12.2s\n",
      "290:\tlearn: 0.2153538\ttotal: 5s\tremaining: 12.2s\n",
      "291:\tlearn: 0.2152669\ttotal: 5.02s\tremaining: 12.2s\n",
      "292:\tlearn: 0.2152124\ttotal: 5.03s\tremaining: 12.1s\n",
      "293:\tlearn: 0.2151491\ttotal: 5.05s\tremaining: 12.1s\n",
      "294:\tlearn: 0.2150683\ttotal: 5.06s\tremaining: 12.1s\n",
      "295:\tlearn: 0.2150125\ttotal: 5.08s\tremaining: 12.1s\n",
      "296:\tlearn: 0.2149093\ttotal: 5.09s\tremaining: 12.1s\n",
      "297:\tlearn: 0.2148482\ttotal: 5.1s\tremaining: 12s\n",
      "298:\tlearn: 0.2147856\ttotal: 5.13s\tremaining: 12s\n",
      "299:\tlearn: 0.2147691\ttotal: 5.15s\tremaining: 12s\n",
      "300:\tlearn: 0.2146650\ttotal: 5.17s\tremaining: 12s\n",
      "301:\tlearn: 0.2145768\ttotal: 5.18s\tremaining: 12s\n",
      "302:\tlearn: 0.2144957\ttotal: 5.2s\tremaining: 12s\n",
      "303:\tlearn: 0.2144540\ttotal: 5.21s\tremaining: 11.9s\n",
      "304:\tlearn: 0.2143969\ttotal: 5.22s\tremaining: 11.9s\n",
      "305:\tlearn: 0.2143231\ttotal: 5.23s\tremaining: 11.9s\n",
      "306:\tlearn: 0.2142490\ttotal: 5.25s\tremaining: 11.8s\n",
      "307:\tlearn: 0.2141905\ttotal: 5.26s\tremaining: 11.8s\n",
      "308:\tlearn: 0.2141005\ttotal: 5.28s\tremaining: 11.8s\n",
      "309:\tlearn: 0.2140359\ttotal: 5.29s\tremaining: 11.8s\n",
      "310:\tlearn: 0.2140038\ttotal: 5.31s\tremaining: 11.8s\n",
      "311:\tlearn: 0.2139502\ttotal: 5.32s\tremaining: 11.7s\n",
      "312:\tlearn: 0.2139193\ttotal: 5.34s\tremaining: 11.7s\n",
      "313:\tlearn: 0.2138416\ttotal: 5.35s\tremaining: 11.7s\n",
      "314:\tlearn: 0.2137845\ttotal: 5.37s\tremaining: 11.7s\n",
      "315:\tlearn: 0.2137104\ttotal: 5.38s\tremaining: 11.6s\n",
      "316:\tlearn: 0.2136200\ttotal: 5.39s\tremaining: 11.6s\n",
      "317:\tlearn: 0.2135415\ttotal: 5.4s\tremaining: 11.6s\n",
      "318:\tlearn: 0.2134677\ttotal: 5.41s\tremaining: 11.6s\n",
      "319:\tlearn: 0.2134329\ttotal: 5.44s\tremaining: 11.6s\n",
      "320:\tlearn: 0.2133530\ttotal: 5.46s\tremaining: 11.6s\n",
      "321:\tlearn: 0.2133085\ttotal: 5.47s\tremaining: 11.5s\n",
      "322:\tlearn: 0.2132396\ttotal: 5.49s\tremaining: 11.5s\n",
      "323:\tlearn: 0.2131742\ttotal: 5.51s\tremaining: 11.5s\n"
     ]
    },
    {
     "name": "stdout",
     "output_type": "stream",
     "text": [
      "324:\tlearn: 0.2130855\ttotal: 5.52s\tremaining: 11.5s\n",
      "325:\tlearn: 0.2130283\ttotal: 5.54s\tremaining: 11.4s\n",
      "326:\tlearn: 0.2129632\ttotal: 5.55s\tremaining: 11.4s\n",
      "327:\tlearn: 0.2128903\ttotal: 5.58s\tremaining: 11.4s\n",
      "328:\tlearn: 0.2128503\ttotal: 5.6s\tremaining: 11.4s\n",
      "329:\tlearn: 0.2128113\ttotal: 5.61s\tremaining: 11.4s\n",
      "330:\tlearn: 0.2127227\ttotal: 5.63s\tremaining: 11.4s\n",
      "331:\tlearn: 0.2126520\ttotal: 5.64s\tremaining: 11.3s\n",
      "332:\tlearn: 0.2125785\ttotal: 5.66s\tremaining: 11.3s\n",
      "333:\tlearn: 0.2125142\ttotal: 5.67s\tremaining: 11.3s\n",
      "334:\tlearn: 0.2124741\ttotal: 5.69s\tremaining: 11.3s\n",
      "335:\tlearn: 0.2124357\ttotal: 5.7s\tremaining: 11.3s\n",
      "336:\tlearn: 0.2123608\ttotal: 5.72s\tremaining: 11.3s\n",
      "337:\tlearn: 0.2123081\ttotal: 5.73s\tremaining: 11.2s\n",
      "338:\tlearn: 0.2122789\ttotal: 5.74s\tremaining: 11.2s\n",
      "339:\tlearn: 0.2122510\ttotal: 5.76s\tremaining: 11.2s\n",
      "340:\tlearn: 0.2122037\ttotal: 5.78s\tremaining: 11.2s\n",
      "341:\tlearn: 0.2121505\ttotal: 5.79s\tremaining: 11.1s\n",
      "342:\tlearn: 0.2120923\ttotal: 5.81s\tremaining: 11.1s\n",
      "343:\tlearn: 0.2120435\ttotal: 5.83s\tremaining: 11.1s\n",
      "344:\tlearn: 0.2120031\ttotal: 5.84s\tremaining: 11.1s\n",
      "345:\tlearn: 0.2119523\ttotal: 5.86s\tremaining: 11.1s\n",
      "346:\tlearn: 0.2119287\ttotal: 5.87s\tremaining: 11s\n",
      "347:\tlearn: 0.2118501\ttotal: 5.88s\tremaining: 11s\n",
      "348:\tlearn: 0.2118126\ttotal: 5.89s\tremaining: 11s\n",
      "349:\tlearn: 0.2118074\ttotal: 5.92s\tremaining: 11s\n",
      "350:\tlearn: 0.2117595\ttotal: 5.94s\tremaining: 11s\n",
      "351:\tlearn: 0.2117054\ttotal: 5.96s\tremaining: 11s\n",
      "352:\tlearn: 0.2116538\ttotal: 5.98s\tremaining: 11s\n",
      "353:\tlearn: 0.2115968\ttotal: 5.99s\tremaining: 10.9s\n",
      "354:\tlearn: 0.2115688\ttotal: 6.01s\tremaining: 10.9s\n",
      "355:\tlearn: 0.2114629\ttotal: 6.02s\tremaining: 10.9s\n",
      "356:\tlearn: 0.2114582\ttotal: 6.04s\tremaining: 10.9s\n",
      "357:\tlearn: 0.2114393\ttotal: 6.05s\tremaining: 10.9s\n",
      "358:\tlearn: 0.2113815\ttotal: 6.07s\tremaining: 10.8s\n",
      "359:\tlearn: 0.2113009\ttotal: 6.09s\tremaining: 10.8s\n",
      "360:\tlearn: 0.2112673\ttotal: 6.1s\tremaining: 10.8s\n",
      "361:\tlearn: 0.2112030\ttotal: 6.11s\tremaining: 10.8s\n",
      "362:\tlearn: 0.2111067\ttotal: 6.13s\tremaining: 10.8s\n",
      "363:\tlearn: 0.2110481\ttotal: 6.15s\tremaining: 10.7s\n",
      "364:\tlearn: 0.2109888\ttotal: 6.16s\tremaining: 10.7s\n",
      "365:\tlearn: 0.2109811\ttotal: 6.17s\tremaining: 10.7s\n",
      "366:\tlearn: 0.2109210\ttotal: 6.19s\tremaining: 10.7s\n",
      "367:\tlearn: 0.2108350\ttotal: 6.21s\tremaining: 10.7s\n",
      "368:\tlearn: 0.2107888\ttotal: 6.21s\tremaining: 10.6s\n",
      "369:\tlearn: 0.2107088\ttotal: 6.23s\tremaining: 10.6s\n",
      "370:\tlearn: 0.2106460\ttotal: 6.24s\tremaining: 10.6s\n",
      "371:\tlearn: 0.2105947\ttotal: 6.26s\tremaining: 10.6s\n",
      "372:\tlearn: 0.2105427\ttotal: 6.27s\tremaining: 10.5s\n",
      "373:\tlearn: 0.2104926\ttotal: 6.28s\tremaining: 10.5s\n",
      "374:\tlearn: 0.2104597\ttotal: 6.3s\tremaining: 10.5s\n",
      "375:\tlearn: 0.2103820\ttotal: 6.32s\tremaining: 10.5s\n",
      "376:\tlearn: 0.2103289\ttotal: 6.34s\tremaining: 10.5s\n",
      "377:\tlearn: 0.2102581\ttotal: 6.35s\tremaining: 10.4s\n",
      "378:\tlearn: 0.2102027\ttotal: 6.36s\tremaining: 10.4s\n",
      "379:\tlearn: 0.2101663\ttotal: 6.38s\tremaining: 10.4s\n",
      "380:\tlearn: 0.2101038\ttotal: 6.4s\tremaining: 10.4s\n",
      "381:\tlearn: 0.2100768\ttotal: 6.41s\tremaining: 10.4s\n",
      "382:\tlearn: 0.2100244\ttotal: 6.43s\tremaining: 10.4s\n",
      "383:\tlearn: 0.2100133\ttotal: 6.44s\tremaining: 10.3s\n",
      "384:\tlearn: 0.2099769\ttotal: 6.45s\tremaining: 10.3s\n",
      "385:\tlearn: 0.2099667\ttotal: 6.46s\tremaining: 10.3s\n",
      "386:\tlearn: 0.2099590\ttotal: 6.47s\tremaining: 10.3s\n",
      "387:\tlearn: 0.2098890\ttotal: 6.49s\tremaining: 10.2s\n",
      "388:\tlearn: 0.2098339\ttotal: 6.5s\tremaining: 10.2s\n",
      "389:\tlearn: 0.2097830\ttotal: 6.52s\tremaining: 10.2s\n",
      "390:\tlearn: 0.2097017\ttotal: 6.53s\tremaining: 10.2s\n",
      "391:\tlearn: 0.2096371\ttotal: 6.54s\tremaining: 10.1s\n",
      "392:\tlearn: 0.2095945\ttotal: 6.55s\tremaining: 10.1s\n",
      "393:\tlearn: 0.2095245\ttotal: 6.57s\tremaining: 10.1s\n",
      "394:\tlearn: 0.2094531\ttotal: 6.58s\tremaining: 10.1s\n",
      "395:\tlearn: 0.2093804\ttotal: 6.59s\tremaining: 10.1s\n",
      "396:\tlearn: 0.2093053\ttotal: 6.61s\tremaining: 10s\n",
      "397:\tlearn: 0.2092998\ttotal: 6.62s\tremaining: 10s\n",
      "398:\tlearn: 0.2092383\ttotal: 6.63s\tremaining: 9.99s\n",
      "399:\tlearn: 0.2091897\ttotal: 6.64s\tremaining: 9.97s\n",
      "400:\tlearn: 0.2091459\ttotal: 6.67s\tremaining: 9.97s\n",
      "401:\tlearn: 0.2090422\ttotal: 6.69s\tremaining: 9.95s\n",
      "402:\tlearn: 0.2089900\ttotal: 6.71s\tremaining: 9.93s\n",
      "403:\tlearn: 0.2089437\ttotal: 6.72s\tremaining: 9.91s\n",
      "404:\tlearn: 0.2089052\ttotal: 6.73s\tremaining: 9.88s\n",
      "405:\tlearn: 0.2088356\ttotal: 6.78s\tremaining: 9.92s\n",
      "406:\tlearn: 0.2088217\ttotal: 6.79s\tremaining: 9.89s\n",
      "407:\tlearn: 0.2087427\ttotal: 6.81s\tremaining: 9.88s\n",
      "408:\tlearn: 0.2086993\ttotal: 6.83s\tremaining: 9.87s\n",
      "409:\tlearn: 0.2086867\ttotal: 6.84s\tremaining: 9.84s\n",
      "410:\tlearn: 0.2086350\ttotal: 6.85s\tremaining: 9.82s\n",
      "411:\tlearn: 0.2085738\ttotal: 6.86s\tremaining: 9.79s\n",
      "412:\tlearn: 0.2085257\ttotal: 6.88s\tremaining: 9.77s\n",
      "413:\tlearn: 0.2085046\ttotal: 6.88s\tremaining: 9.75s\n",
      "414:\tlearn: 0.2084338\ttotal: 6.91s\tremaining: 9.73s\n",
      "415:\tlearn: 0.2083850\ttotal: 6.92s\tremaining: 9.71s\n",
      "416:\tlearn: 0.2083189\ttotal: 6.93s\tremaining: 9.7s\n",
      "417:\tlearn: 0.2082593\ttotal: 6.95s\tremaining: 9.68s\n",
      "418:\tlearn: 0.2082414\ttotal: 6.97s\tremaining: 9.66s\n",
      "419:\tlearn: 0.2081917\ttotal: 6.98s\tremaining: 9.64s\n",
      "420:\tlearn: 0.2081323\ttotal: 7s\tremaining: 9.62s\n",
      "421:\tlearn: 0.2080786\ttotal: 7.01s\tremaining: 9.61s\n",
      "422:\tlearn: 0.2080190\ttotal: 7.03s\tremaining: 9.58s\n",
      "423:\tlearn: 0.2080114\ttotal: 7.04s\tremaining: 9.56s\n",
      "424:\tlearn: 0.2079717\ttotal: 7.05s\tremaining: 9.54s\n",
      "425:\tlearn: 0.2079272\ttotal: 7.07s\tremaining: 9.53s\n",
      "426:\tlearn: 0.2079111\ttotal: 7.09s\tremaining: 9.51s\n",
      "427:\tlearn: 0.2078745\ttotal: 7.11s\tremaining: 9.5s\n",
      "428:\tlearn: 0.2078425\ttotal: 7.12s\tremaining: 9.47s\n",
      "429:\tlearn: 0.2078117\ttotal: 7.14s\tremaining: 9.46s\n",
      "430:\tlearn: 0.2077893\ttotal: 7.15s\tremaining: 9.44s\n",
      "431:\tlearn: 0.2077254\ttotal: 7.17s\tremaining: 9.42s\n",
      "432:\tlearn: 0.2076324\ttotal: 7.18s\tremaining: 9.4s\n",
      "433:\tlearn: 0.2075925\ttotal: 7.2s\tremaining: 9.39s\n",
      "434:\tlearn: 0.2075361\ttotal: 7.21s\tremaining: 9.36s\n",
      "435:\tlearn: 0.2074832\ttotal: 7.23s\tremaining: 9.35s\n",
      "436:\tlearn: 0.2073974\ttotal: 7.24s\tremaining: 9.33s\n",
      "437:\tlearn: 0.2073413\ttotal: 7.26s\tremaining: 9.32s\n",
      "438:\tlearn: 0.2072834\ttotal: 7.27s\tremaining: 9.29s\n",
      "439:\tlearn: 0.2072204\ttotal: 7.29s\tremaining: 9.28s\n",
      "440:\tlearn: 0.2071513\ttotal: 7.3s\tremaining: 9.26s\n",
      "441:\tlearn: 0.2071033\ttotal: 7.32s\tremaining: 9.24s\n",
      "442:\tlearn: 0.2070406\ttotal: 7.33s\tremaining: 9.22s\n",
      "443:\tlearn: 0.2070001\ttotal: 7.35s\tremaining: 9.2s\n",
      "444:\tlearn: 0.2069778\ttotal: 7.36s\tremaining: 9.19s\n",
      "445:\tlearn: 0.2068980\ttotal: 7.38s\tremaining: 9.16s\n",
      "446:\tlearn: 0.2068359\ttotal: 7.39s\tremaining: 9.14s\n",
      "447:\tlearn: 0.2067880\ttotal: 7.4s\tremaining: 9.12s\n",
      "448:\tlearn: 0.2067395\ttotal: 7.41s\tremaining: 9.1s\n",
      "449:\tlearn: 0.2067055\ttotal: 7.45s\tremaining: 9.1s\n",
      "450:\tlearn: 0.2066970\ttotal: 7.47s\tremaining: 9.1s\n",
      "451:\tlearn: 0.2066578\ttotal: 7.49s\tremaining: 9.08s\n",
      "452:\tlearn: 0.2066069\ttotal: 7.5s\tremaining: 9.06s\n",
      "453:\tlearn: 0.2065556\ttotal: 7.52s\tremaining: 9.04s\n",
      "454:\tlearn: 0.2065195\ttotal: 7.53s\tremaining: 9.02s\n",
      "455:\tlearn: 0.2064901\ttotal: 7.55s\tremaining: 9.01s\n",
      "456:\tlearn: 0.2064261\ttotal: 7.56s\tremaining: 8.99s\n",
      "457:\tlearn: 0.2063761\ttotal: 7.59s\tremaining: 8.98s\n",
      "458:\tlearn: 0.2063272\ttotal: 7.61s\tremaining: 8.97s\n",
      "459:\tlearn: 0.2062561\ttotal: 7.63s\tremaining: 8.96s\n",
      "460:\tlearn: 0.2062118\ttotal: 7.64s\tremaining: 8.94s\n",
      "461:\tlearn: 0.2061476\ttotal: 7.66s\tremaining: 8.92s\n",
      "462:\tlearn: 0.2060631\ttotal: 7.67s\tremaining: 8.9s\n",
      "463:\tlearn: 0.2060063\ttotal: 7.69s\tremaining: 8.88s\n",
      "464:\tlearn: 0.2059623\ttotal: 7.71s\tremaining: 8.87s\n",
      "465:\tlearn: 0.2058842\ttotal: 7.72s\tremaining: 8.85s\n",
      "466:\tlearn: 0.2058273\ttotal: 7.74s\tremaining: 8.83s\n",
      "467:\tlearn: 0.2057718\ttotal: 7.75s\tremaining: 8.81s\n",
      "468:\tlearn: 0.2057260\ttotal: 7.76s\tremaining: 8.79s\n",
      "469:\tlearn: 0.2056496\ttotal: 7.78s\tremaining: 8.77s\n",
      "470:\tlearn: 0.2056053\ttotal: 7.8s\tremaining: 8.76s\n",
      "471:\tlearn: 0.2055497\ttotal: 7.81s\tremaining: 8.73s\n",
      "472:\tlearn: 0.2055113\ttotal: 7.82s\tremaining: 8.71s\n",
      "473:\tlearn: 0.2054546\ttotal: 7.85s\tremaining: 8.71s\n",
      "474:\tlearn: 0.2054169\ttotal: 7.87s\tremaining: 8.69s\n",
      "475:\tlearn: 0.2053713\ttotal: 7.88s\tremaining: 8.67s\n",
      "476:\tlearn: 0.2053413\ttotal: 7.89s\tremaining: 8.65s\n",
      "477:\tlearn: 0.2052784\ttotal: 7.91s\tremaining: 8.64s\n",
      "478:\tlearn: 0.2052352\ttotal: 7.92s\tremaining: 8.62s\n",
      "479:\tlearn: 0.2051961\ttotal: 7.93s\tremaining: 8.6s\n",
      "480:\tlearn: 0.2051350\ttotal: 7.95s\tremaining: 8.57s\n",
      "481:\tlearn: 0.2050492\ttotal: 7.96s\tremaining: 8.56s\n",
      "482:\tlearn: 0.2050277\ttotal: 7.97s\tremaining: 8.54s\n",
      "483:\tlearn: 0.2049486\ttotal: 7.99s\tremaining: 8.52s\n",
      "484:\tlearn: 0.2049077\ttotal: 8.01s\tremaining: 8.5s\n",
      "485:\tlearn: 0.2048454\ttotal: 8.03s\tremaining: 8.49s\n",
      "486:\tlearn: 0.2048102\ttotal: 8.04s\tremaining: 8.47s\n",
      "487:\tlearn: 0.2047346\ttotal: 8.06s\tremaining: 8.46s\n",
      "488:\tlearn: 0.2046928\ttotal: 8.08s\tremaining: 8.44s\n",
      "489:\tlearn: 0.2046156\ttotal: 8.09s\tremaining: 8.42s\n",
      "490:\tlearn: 0.2045722\ttotal: 8.1s\tremaining: 8.4s\n",
      "491:\tlearn: 0.2045658\ttotal: 8.12s\tremaining: 8.38s\n",
      "492:\tlearn: 0.2045332\ttotal: 8.14s\tremaining: 8.37s\n",
      "493:\tlearn: 0.2044962\ttotal: 8.15s\tremaining: 8.35s\n"
     ]
    },
    {
     "name": "stdout",
     "output_type": "stream",
     "text": [
      "494:\tlearn: 0.2044766\ttotal: 8.17s\tremaining: 8.33s\n",
      "495:\tlearn: 0.2044242\ttotal: 8.18s\tremaining: 8.31s\n",
      "496:\tlearn: 0.2044169\ttotal: 8.2s\tremaining: 8.29s\n",
      "497:\tlearn: 0.2043762\ttotal: 8.21s\tremaining: 8.27s\n",
      "498:\tlearn: 0.2043139\ttotal: 8.23s\tremaining: 8.26s\n",
      "499:\tlearn: 0.2042379\ttotal: 8.24s\tremaining: 8.24s\n",
      "500:\tlearn: 0.2041906\ttotal: 8.26s\tremaining: 8.22s\n",
      "501:\tlearn: 0.2041399\ttotal: 8.27s\tremaining: 8.21s\n",
      "502:\tlearn: 0.2040967\ttotal: 8.29s\tremaining: 8.19s\n",
      "503:\tlearn: 0.2040796\ttotal: 8.3s\tremaining: 8.16s\n",
      "504:\tlearn: 0.2040620\ttotal: 8.32s\tremaining: 8.15s\n",
      "505:\tlearn: 0.2040339\ttotal: 8.33s\tremaining: 8.13s\n",
      "506:\tlearn: 0.2039637\ttotal: 8.34s\tremaining: 8.11s\n",
      "507:\tlearn: 0.2039006\ttotal: 8.37s\tremaining: 8.1s\n",
      "508:\tlearn: 0.2038709\ttotal: 8.38s\tremaining: 8.08s\n",
      "509:\tlearn: 0.2038066\ttotal: 8.39s\tremaining: 8.06s\n",
      "510:\tlearn: 0.2037575\ttotal: 8.41s\tremaining: 8.05s\n",
      "511:\tlearn: 0.2037224\ttotal: 8.42s\tremaining: 8.02s\n",
      "512:\tlearn: 0.2036814\ttotal: 8.44s\tremaining: 8.01s\n",
      "513:\tlearn: 0.2036614\ttotal: 8.45s\tremaining: 7.99s\n",
      "514:\tlearn: 0.2036321\ttotal: 8.47s\tremaining: 7.98s\n",
      "515:\tlearn: 0.2035774\ttotal: 8.48s\tremaining: 7.96s\n",
      "516:\tlearn: 0.2035117\ttotal: 8.5s\tremaining: 7.94s\n",
      "517:\tlearn: 0.2035028\ttotal: 8.51s\tremaining: 7.92s\n",
      "518:\tlearn: 0.2034962\ttotal: 8.53s\tremaining: 7.91s\n",
      "519:\tlearn: 0.2034406\ttotal: 8.55s\tremaining: 7.89s\n",
      "520:\tlearn: 0.2033953\ttotal: 8.56s\tremaining: 7.87s\n",
      "521:\tlearn: 0.2033439\ttotal: 8.58s\tremaining: 7.85s\n",
      "522:\tlearn: 0.2032875\ttotal: 8.59s\tremaining: 7.84s\n",
      "523:\tlearn: 0.2032372\ttotal: 8.61s\tremaining: 7.82s\n",
      "524:\tlearn: 0.2031897\ttotal: 8.62s\tremaining: 7.8s\n",
      "525:\tlearn: 0.2031412\ttotal: 8.64s\tremaining: 7.78s\n",
      "526:\tlearn: 0.2031106\ttotal: 8.65s\tremaining: 7.77s\n",
      "527:\tlearn: 0.2030610\ttotal: 8.67s\tremaining: 7.75s\n",
      "528:\tlearn: 0.2030027\ttotal: 8.68s\tremaining: 7.73s\n",
      "529:\tlearn: 0.2029865\ttotal: 8.7s\tremaining: 7.71s\n",
      "530:\tlearn: 0.2029356\ttotal: 8.72s\tremaining: 7.7s\n",
      "531:\tlearn: 0.2028924\ttotal: 8.73s\tremaining: 7.68s\n",
      "532:\tlearn: 0.2028531\ttotal: 8.74s\tremaining: 7.66s\n",
      "533:\tlearn: 0.2027831\ttotal: 8.76s\tremaining: 7.64s\n",
      "534:\tlearn: 0.2027326\ttotal: 8.78s\tremaining: 7.63s\n",
      "535:\tlearn: 0.2026782\ttotal: 8.81s\tremaining: 7.63s\n",
      "536:\tlearn: 0.2026160\ttotal: 8.84s\tremaining: 7.62s\n",
      "537:\tlearn: 0.2025666\ttotal: 8.85s\tremaining: 7.6s\n",
      "538:\tlearn: 0.2025334\ttotal: 8.87s\tremaining: 7.59s\n",
      "539:\tlearn: 0.2024633\ttotal: 8.88s\tremaining: 7.57s\n",
      "540:\tlearn: 0.2024087\ttotal: 8.9s\tremaining: 7.55s\n",
      "541:\tlearn: 0.2023459\ttotal: 8.91s\tremaining: 7.53s\n",
      "542:\tlearn: 0.2022889\ttotal: 8.93s\tremaining: 7.52s\n",
      "543:\tlearn: 0.2022565\ttotal: 8.95s\tremaining: 7.5s\n",
      "544:\tlearn: 0.2021834\ttotal: 8.96s\tremaining: 7.48s\n",
      "545:\tlearn: 0.2021503\ttotal: 8.98s\tremaining: 7.46s\n",
      "546:\tlearn: 0.2020966\ttotal: 8.99s\tremaining: 7.45s\n",
      "547:\tlearn: 0.2020558\ttotal: 9.01s\tremaining: 7.43s\n",
      "548:\tlearn: 0.2019969\ttotal: 9.03s\tremaining: 7.41s\n",
      "549:\tlearn: 0.2019442\ttotal: 9.04s\tremaining: 7.4s\n",
      "550:\tlearn: 0.2018748\ttotal: 9.06s\tremaining: 7.38s\n",
      "551:\tlearn: 0.2018267\ttotal: 9.07s\tremaining: 7.36s\n",
      "552:\tlearn: 0.2017957\ttotal: 9.09s\tremaining: 7.34s\n",
      "553:\tlearn: 0.2017422\ttotal: 9.1s\tremaining: 7.33s\n",
      "554:\tlearn: 0.2016809\ttotal: 9.12s\tremaining: 7.31s\n",
      "555:\tlearn: 0.2016307\ttotal: 9.13s\tremaining: 7.29s\n",
      "556:\tlearn: 0.2016008\ttotal: 9.15s\tremaining: 7.28s\n",
      "557:\tlearn: 0.2015099\ttotal: 9.17s\tremaining: 7.26s\n",
      "558:\tlearn: 0.2014639\ttotal: 9.18s\tremaining: 7.24s\n",
      "559:\tlearn: 0.2014192\ttotal: 9.2s\tremaining: 7.23s\n",
      "560:\tlearn: 0.2013779\ttotal: 9.23s\tremaining: 7.22s\n",
      "561:\tlearn: 0.2013559\ttotal: 9.24s\tremaining: 7.2s\n",
      "562:\tlearn: 0.2012974\ttotal: 9.25s\tremaining: 7.18s\n",
      "563:\tlearn: 0.2012121\ttotal: 9.26s\tremaining: 7.16s\n",
      "564:\tlearn: 0.2011906\ttotal: 9.29s\tremaining: 7.15s\n",
      "565:\tlearn: 0.2011530\ttotal: 9.31s\tremaining: 7.14s\n",
      "566:\tlearn: 0.2010918\ttotal: 9.34s\tremaining: 7.13s\n",
      "567:\tlearn: 0.2010432\ttotal: 9.35s\tremaining: 7.11s\n",
      "568:\tlearn: 0.2010015\ttotal: 9.37s\tremaining: 7.09s\n",
      "569:\tlearn: 0.2009472\ttotal: 9.38s\tremaining: 7.07s\n",
      "570:\tlearn: 0.2009236\ttotal: 9.4s\tremaining: 7.06s\n",
      "571:\tlearn: 0.2008925\ttotal: 9.41s\tremaining: 7.04s\n",
      "572:\tlearn: 0.2008581\ttotal: 9.42s\tremaining: 7.02s\n",
      "573:\tlearn: 0.2008072\ttotal: 9.44s\tremaining: 7s\n",
      "574:\tlearn: 0.2007775\ttotal: 9.46s\tremaining: 6.99s\n",
      "575:\tlearn: 0.2007485\ttotal: 9.47s\tremaining: 6.97s\n",
      "576:\tlearn: 0.2006915\ttotal: 9.51s\tremaining: 6.97s\n",
      "577:\tlearn: 0.2006306\ttotal: 9.52s\tremaining: 6.95s\n",
      "578:\tlearn: 0.2005857\ttotal: 9.54s\tremaining: 6.93s\n",
      "579:\tlearn: 0.2005482\ttotal: 9.55s\tremaining: 6.92s\n",
      "580:\tlearn: 0.2005208\ttotal: 9.59s\tremaining: 6.91s\n",
      "581:\tlearn: 0.2004847\ttotal: 9.6s\tremaining: 6.89s\n",
      "582:\tlearn: 0.2004403\ttotal: 9.61s\tremaining: 6.87s\n",
      "583:\tlearn: 0.2003993\ttotal: 9.62s\tremaining: 6.86s\n",
      "584:\tlearn: 0.2003778\ttotal: 9.65s\tremaining: 6.84s\n",
      "585:\tlearn: 0.2003251\ttotal: 9.66s\tremaining: 6.82s\n",
      "586:\tlearn: 0.2002724\ttotal: 9.67s\tremaining: 6.8s\n",
      "587:\tlearn: 0.2002069\ttotal: 9.69s\tremaining: 6.79s\n",
      "588:\tlearn: 0.2001542\ttotal: 9.7s\tremaining: 6.77s\n",
      "589:\tlearn: 0.2001004\ttotal: 9.72s\tremaining: 6.76s\n",
      "590:\tlearn: 0.2000629\ttotal: 9.74s\tremaining: 6.74s\n",
      "591:\tlearn: 0.2000289\ttotal: 9.75s\tremaining: 6.72s\n",
      "592:\tlearn: 0.1999850\ttotal: 9.77s\tremaining: 6.7s\n",
      "593:\tlearn: 0.1999422\ttotal: 9.78s\tremaining: 6.69s\n",
      "594:\tlearn: 0.1999098\ttotal: 9.8s\tremaining: 6.67s\n",
      "595:\tlearn: 0.1998293\ttotal: 9.81s\tremaining: 6.65s\n",
      "596:\tlearn: 0.1997575\ttotal: 9.83s\tremaining: 6.64s\n",
      "597:\tlearn: 0.1997198\ttotal: 9.84s\tremaining: 6.62s\n",
      "598:\tlearn: 0.1996820\ttotal: 9.86s\tremaining: 6.6s\n",
      "599:\tlearn: 0.1996205\ttotal: 9.88s\tremaining: 6.58s\n",
      "600:\tlearn: 0.1995869\ttotal: 9.89s\tremaining: 6.57s\n",
      "601:\tlearn: 0.1995163\ttotal: 9.91s\tremaining: 6.55s\n",
      "602:\tlearn: 0.1994468\ttotal: 9.93s\tremaining: 6.53s\n",
      "603:\tlearn: 0.1994330\ttotal: 9.96s\tremaining: 6.53s\n",
      "604:\tlearn: 0.1994053\ttotal: 9.97s\tremaining: 6.51s\n",
      "605:\tlearn: 0.1993525\ttotal: 9.99s\tremaining: 6.49s\n",
      "606:\tlearn: 0.1993368\ttotal: 10s\tremaining: 6.47s\n",
      "607:\tlearn: 0.1992900\ttotal: 10s\tremaining: 6.46s\n",
      "608:\tlearn: 0.1992335\ttotal: 10s\tremaining: 6.44s\n",
      "609:\tlearn: 0.1991620\ttotal: 10s\tremaining: 6.42s\n",
      "610:\tlearn: 0.1991297\ttotal: 10.1s\tremaining: 6.4s\n",
      "611:\tlearn: 0.1991061\ttotal: 10.1s\tremaining: 6.39s\n",
      "612:\tlearn: 0.1990514\ttotal: 10.1s\tremaining: 6.37s\n",
      "613:\tlearn: 0.1990211\ttotal: 10.1s\tremaining: 6.36s\n",
      "614:\tlearn: 0.1989713\ttotal: 10.1s\tremaining: 6.34s\n",
      "615:\tlearn: 0.1988972\ttotal: 10.1s\tremaining: 6.32s\n",
      "616:\tlearn: 0.1988616\ttotal: 10.1s\tremaining: 6.3s\n",
      "617:\tlearn: 0.1987893\ttotal: 10.2s\tremaining: 6.28s\n",
      "618:\tlearn: 0.1987786\ttotal: 10.2s\tremaining: 6.26s\n",
      "619:\tlearn: 0.1987727\ttotal: 10.2s\tremaining: 6.24s\n",
      "620:\tlearn: 0.1987470\ttotal: 10.2s\tremaining: 6.23s\n",
      "621:\tlearn: 0.1986684\ttotal: 10.2s\tremaining: 6.21s\n",
      "622:\tlearn: 0.1986391\ttotal: 10.2s\tremaining: 6.2s\n",
      "623:\tlearn: 0.1985743\ttotal: 10.3s\tremaining: 6.18s\n",
      "624:\tlearn: 0.1985252\ttotal: 10.3s\tremaining: 6.17s\n",
      "625:\tlearn: 0.1984870\ttotal: 10.3s\tremaining: 6.15s\n",
      "626:\tlearn: 0.1984511\ttotal: 10.3s\tremaining: 6.14s\n",
      "627:\tlearn: 0.1984414\ttotal: 10.3s\tremaining: 6.12s\n",
      "628:\tlearn: 0.1983877\ttotal: 10.4s\tremaining: 6.11s\n",
      "629:\tlearn: 0.1983464\ttotal: 10.4s\tremaining: 6.09s\n",
      "630:\tlearn: 0.1982929\ttotal: 10.4s\tremaining: 6.07s\n",
      "631:\tlearn: 0.1982622\ttotal: 10.4s\tremaining: 6.06s\n",
      "632:\tlearn: 0.1982131\ttotal: 10.4s\tremaining: 6.05s\n",
      "633:\tlearn: 0.1981347\ttotal: 10.5s\tremaining: 6.04s\n",
      "634:\tlearn: 0.1980962\ttotal: 10.5s\tremaining: 6.01s\n",
      "635:\tlearn: 0.1980516\ttotal: 10.5s\tremaining: 6s\n",
      "636:\tlearn: 0.1980206\ttotal: 10.5s\tremaining: 5.98s\n",
      "637:\tlearn: 0.1979647\ttotal: 10.5s\tremaining: 5.96s\n",
      "638:\tlearn: 0.1979471\ttotal: 10.5s\tremaining: 5.95s\n",
      "639:\tlearn: 0.1979174\ttotal: 10.5s\tremaining: 5.93s\n",
      "640:\tlearn: 0.1978597\ttotal: 10.6s\tremaining: 5.91s\n",
      "641:\tlearn: 0.1978108\ttotal: 10.6s\tremaining: 5.89s\n",
      "642:\tlearn: 0.1977506\ttotal: 10.6s\tremaining: 5.88s\n",
      "643:\tlearn: 0.1976903\ttotal: 10.6s\tremaining: 5.87s\n",
      "644:\tlearn: 0.1976757\ttotal: 10.6s\tremaining: 5.85s\n",
      "645:\tlearn: 0.1976103\ttotal: 10.6s\tremaining: 5.83s\n",
      "646:\tlearn: 0.1975607\ttotal: 10.7s\tremaining: 5.81s\n",
      "647:\tlearn: 0.1975316\ttotal: 10.7s\tremaining: 5.8s\n",
      "648:\tlearn: 0.1974901\ttotal: 10.7s\tremaining: 5.78s\n",
      "649:\tlearn: 0.1974499\ttotal: 10.7s\tremaining: 5.76s\n",
      "650:\tlearn: 0.1973921\ttotal: 10.7s\tremaining: 5.74s\n",
      "651:\tlearn: 0.1973303\ttotal: 10.7s\tremaining: 5.73s\n",
      "652:\tlearn: 0.1972859\ttotal: 10.7s\tremaining: 5.71s\n",
      "653:\tlearn: 0.1972267\ttotal: 10.8s\tremaining: 5.7s\n",
      "654:\tlearn: 0.1971662\ttotal: 10.8s\tremaining: 5.68s\n",
      "655:\tlearn: 0.1971293\ttotal: 10.8s\tremaining: 5.66s\n",
      "656:\tlearn: 0.1970603\ttotal: 10.8s\tremaining: 5.65s\n",
      "657:\tlearn: 0.1970222\ttotal: 10.8s\tremaining: 5.64s\n",
      "658:\tlearn: 0.1969794\ttotal: 10.9s\tremaining: 5.62s\n"
     ]
    },
    {
     "name": "stdout",
     "output_type": "stream",
     "text": [
      "659:\tlearn: 0.1969386\ttotal: 10.9s\tremaining: 5.6s\n",
      "660:\tlearn: 0.1968769\ttotal: 10.9s\tremaining: 5.59s\n",
      "661:\tlearn: 0.1968348\ttotal: 10.9s\tremaining: 5.57s\n",
      "662:\tlearn: 0.1967829\ttotal: 10.9s\tremaining: 5.56s\n",
      "663:\tlearn: 0.1967564\ttotal: 10.9s\tremaining: 5.54s\n",
      "664:\tlearn: 0.1966877\ttotal: 11s\tremaining: 5.52s\n",
      "665:\tlearn: 0.1966369\ttotal: 11s\tremaining: 5.51s\n",
      "666:\tlearn: 0.1965988\ttotal: 11s\tremaining: 5.49s\n",
      "667:\tlearn: 0.1965738\ttotal: 11s\tremaining: 5.47s\n",
      "668:\tlearn: 0.1965195\ttotal: 11s\tremaining: 5.46s\n",
      "669:\tlearn: 0.1964929\ttotal: 11s\tremaining: 5.44s\n",
      "670:\tlearn: 0.1964710\ttotal: 11.1s\tremaining: 5.42s\n",
      "671:\tlearn: 0.1964318\ttotal: 11.1s\tremaining: 5.41s\n",
      "672:\tlearn: 0.1963695\ttotal: 11.1s\tremaining: 5.4s\n",
      "673:\tlearn: 0.1963395\ttotal: 11.1s\tremaining: 5.38s\n",
      "674:\tlearn: 0.1963058\ttotal: 11.1s\tremaining: 5.36s\n",
      "675:\tlearn: 0.1962708\ttotal: 11.2s\tremaining: 5.35s\n",
      "676:\tlearn: 0.1962365\ttotal: 11.2s\tremaining: 5.33s\n",
      "677:\tlearn: 0.1962242\ttotal: 11.2s\tremaining: 5.31s\n",
      "678:\tlearn: 0.1961978\ttotal: 11.2s\tremaining: 5.29s\n",
      "679:\tlearn: 0.1961572\ttotal: 11.2s\tremaining: 5.28s\n",
      "680:\tlearn: 0.1961422\ttotal: 11.2s\tremaining: 5.26s\n",
      "681:\tlearn: 0.1961317\ttotal: 11.2s\tremaining: 5.24s\n",
      "682:\tlearn: 0.1960845\ttotal: 11.3s\tremaining: 5.23s\n",
      "683:\tlearn: 0.1960380\ttotal: 11.3s\tremaining: 5.22s\n",
      "684:\tlearn: 0.1960040\ttotal: 11.3s\tremaining: 5.2s\n",
      "685:\tlearn: 0.1959791\ttotal: 11.3s\tremaining: 5.18s\n",
      "686:\tlearn: 0.1959511\ttotal: 11.3s\tremaining: 5.17s\n",
      "687:\tlearn: 0.1959140\ttotal: 11.4s\tremaining: 5.15s\n",
      "688:\tlearn: 0.1958666\ttotal: 11.4s\tremaining: 5.13s\n",
      "689:\tlearn: 0.1958405\ttotal: 11.4s\tremaining: 5.12s\n",
      "690:\tlearn: 0.1958096\ttotal: 11.4s\tremaining: 5.1s\n",
      "691:\tlearn: 0.1957699\ttotal: 11.4s\tremaining: 5.08s\n",
      "692:\tlearn: 0.1957256\ttotal: 11.4s\tremaining: 5.06s\n",
      "693:\tlearn: 0.1957228\ttotal: 11.4s\tremaining: 5.04s\n",
      "694:\tlearn: 0.1956897\ttotal: 11.4s\tremaining: 5.02s\n",
      "695:\tlearn: 0.1956527\ttotal: 11.5s\tremaining: 5.01s\n",
      "696:\tlearn: 0.1955953\ttotal: 11.5s\tremaining: 4.99s\n",
      "697:\tlearn: 0.1955607\ttotal: 11.5s\tremaining: 4.97s\n",
      "698:\tlearn: 0.1954711\ttotal: 11.5s\tremaining: 4.95s\n",
      "699:\tlearn: 0.1954464\ttotal: 11.5s\tremaining: 4.94s\n",
      "700:\tlearn: 0.1954199\ttotal: 11.5s\tremaining: 4.92s\n",
      "701:\tlearn: 0.1953667\ttotal: 11.5s\tremaining: 4.9s\n",
      "702:\tlearn: 0.1953369\ttotal: 11.6s\tremaining: 4.89s\n",
      "703:\tlearn: 0.1952738\ttotal: 11.6s\tremaining: 4.87s\n",
      "704:\tlearn: 0.1952442\ttotal: 11.6s\tremaining: 4.85s\n",
      "705:\tlearn: 0.1951814\ttotal: 11.6s\tremaining: 4.83s\n",
      "706:\tlearn: 0.1951375\ttotal: 11.6s\tremaining: 4.82s\n",
      "707:\tlearn: 0.1951078\ttotal: 11.6s\tremaining: 4.8s\n",
      "708:\tlearn: 0.1950684\ttotal: 11.7s\tremaining: 4.78s\n",
      "709:\tlearn: 0.1950097\ttotal: 11.7s\tremaining: 4.77s\n",
      "710:\tlearn: 0.1949819\ttotal: 11.7s\tremaining: 4.75s\n",
      "711:\tlearn: 0.1949633\ttotal: 11.7s\tremaining: 4.74s\n",
      "712:\tlearn: 0.1948969\ttotal: 11.7s\tremaining: 4.72s\n",
      "713:\tlearn: 0.1948303\ttotal: 11.7s\tremaining: 4.7s\n",
      "714:\tlearn: 0.1947739\ttotal: 11.8s\tremaining: 4.68s\n",
      "715:\tlearn: 0.1947184\ttotal: 11.8s\tremaining: 4.67s\n",
      "716:\tlearn: 0.1946728\ttotal: 11.8s\tremaining: 4.65s\n",
      "717:\tlearn: 0.1946255\ttotal: 11.8s\tremaining: 4.63s\n",
      "718:\tlearn: 0.1945760\ttotal: 11.8s\tremaining: 4.62s\n",
      "719:\tlearn: 0.1945630\ttotal: 11.8s\tremaining: 4.6s\n",
      "720:\tlearn: 0.1945369\ttotal: 11.8s\tremaining: 4.58s\n",
      "721:\tlearn: 0.1944722\ttotal: 11.9s\tremaining: 4.57s\n",
      "722:\tlearn: 0.1944052\ttotal: 11.9s\tremaining: 4.55s\n",
      "723:\tlearn: 0.1943820\ttotal: 11.9s\tremaining: 4.53s\n",
      "724:\tlearn: 0.1943418\ttotal: 11.9s\tremaining: 4.52s\n",
      "725:\tlearn: 0.1942938\ttotal: 11.9s\tremaining: 4.5s\n",
      "726:\tlearn: 0.1942648\ttotal: 11.9s\tremaining: 4.49s\n",
      "727:\tlearn: 0.1942090\ttotal: 12s\tremaining: 4.47s\n",
      "728:\tlearn: 0.1941400\ttotal: 12s\tremaining: 4.46s\n",
      "729:\tlearn: 0.1940993\ttotal: 12s\tremaining: 4.44s\n",
      "730:\tlearn: 0.1940626\ttotal: 12s\tremaining: 4.42s\n",
      "731:\tlearn: 0.1940132\ttotal: 12s\tremaining: 4.41s\n",
      "732:\tlearn: 0.1939946\ttotal: 12.1s\tremaining: 4.39s\n",
      "733:\tlearn: 0.1939362\ttotal: 12.1s\tremaining: 4.38s\n",
      "734:\tlearn: 0.1938244\ttotal: 12.1s\tremaining: 4.36s\n",
      "735:\tlearn: 0.1937972\ttotal: 12.1s\tremaining: 4.35s\n",
      "736:\tlearn: 0.1937324\ttotal: 12.1s\tremaining: 4.33s\n",
      "737:\tlearn: 0.1936848\ttotal: 12.2s\tremaining: 4.32s\n",
      "738:\tlearn: 0.1936281\ttotal: 12.2s\tremaining: 4.3s\n",
      "739:\tlearn: 0.1935854\ttotal: 12.2s\tremaining: 4.28s\n",
      "740:\tlearn: 0.1935655\ttotal: 12.2s\tremaining: 4.27s\n",
      "741:\tlearn: 0.1935193\ttotal: 12.2s\tremaining: 4.25s\n",
      "742:\tlearn: 0.1934698\ttotal: 12.3s\tremaining: 4.24s\n",
      "743:\tlearn: 0.1934234\ttotal: 12.3s\tremaining: 4.22s\n",
      "744:\tlearn: 0.1934089\ttotal: 12.3s\tremaining: 4.2s\n",
      "745:\tlearn: 0.1934039\ttotal: 12.3s\tremaining: 4.19s\n",
      "746:\tlearn: 0.1933760\ttotal: 12.3s\tremaining: 4.17s\n",
      "747:\tlearn: 0.1933309\ttotal: 12.3s\tremaining: 4.16s\n",
      "748:\tlearn: 0.1932636\ttotal: 12.4s\tremaining: 4.14s\n",
      "749:\tlearn: 0.1932126\ttotal: 12.4s\tremaining: 4.12s\n",
      "750:\tlearn: 0.1931645\ttotal: 12.4s\tremaining: 4.11s\n",
      "751:\tlearn: 0.1931259\ttotal: 12.4s\tremaining: 4.09s\n",
      "752:\tlearn: 0.1930784\ttotal: 12.4s\tremaining: 4.07s\n",
      "753:\tlearn: 0.1930565\ttotal: 12.4s\tremaining: 4.05s\n",
      "754:\tlearn: 0.1930117\ttotal: 12.4s\tremaining: 4.04s\n",
      "755:\tlearn: 0.1929725\ttotal: 12.5s\tremaining: 4.02s\n",
      "756:\tlearn: 0.1929421\ttotal: 12.5s\tremaining: 4s\n",
      "757:\tlearn: 0.1929140\ttotal: 12.5s\tremaining: 3.99s\n",
      "758:\tlearn: 0.1928374\ttotal: 12.5s\tremaining: 3.98s\n",
      "759:\tlearn: 0.1928328\ttotal: 12.5s\tremaining: 3.96s\n",
      "760:\tlearn: 0.1927801\ttotal: 12.5s\tremaining: 3.94s\n",
      "761:\tlearn: 0.1927444\ttotal: 12.6s\tremaining: 3.92s\n",
      "762:\tlearn: 0.1927093\ttotal: 12.6s\tremaining: 3.91s\n",
      "763:\tlearn: 0.1926547\ttotal: 12.6s\tremaining: 3.89s\n",
      "764:\tlearn: 0.1926215\ttotal: 12.6s\tremaining: 3.87s\n",
      "765:\tlearn: 0.1925666\ttotal: 12.6s\tremaining: 3.86s\n",
      "766:\tlearn: 0.1925131\ttotal: 12.6s\tremaining: 3.84s\n",
      "767:\tlearn: 0.1924573\ttotal: 12.7s\tremaining: 3.82s\n",
      "768:\tlearn: 0.1924103\ttotal: 12.7s\tremaining: 3.8s\n",
      "769:\tlearn: 0.1923845\ttotal: 12.7s\tremaining: 3.79s\n",
      "770:\tlearn: 0.1923437\ttotal: 12.7s\tremaining: 3.77s\n",
      "771:\tlearn: 0.1923177\ttotal: 12.7s\tremaining: 3.75s\n",
      "772:\tlearn: 0.1922914\ttotal: 12.7s\tremaining: 3.73s\n",
      "773:\tlearn: 0.1922518\ttotal: 12.7s\tremaining: 3.72s\n",
      "774:\tlearn: 0.1922016\ttotal: 12.7s\tremaining: 3.7s\n",
      "775:\tlearn: 0.1921668\ttotal: 12.8s\tremaining: 3.68s\n",
      "776:\tlearn: 0.1921162\ttotal: 12.8s\tremaining: 3.67s\n",
      "777:\tlearn: 0.1921120\ttotal: 12.8s\tremaining: 3.65s\n",
      "778:\tlearn: 0.1920642\ttotal: 12.8s\tremaining: 3.63s\n",
      "779:\tlearn: 0.1920241\ttotal: 12.8s\tremaining: 3.61s\n",
      "780:\tlearn: 0.1919640\ttotal: 12.8s\tremaining: 3.6s\n",
      "781:\tlearn: 0.1919404\ttotal: 12.8s\tremaining: 3.58s\n",
      "782:\tlearn: 0.1919385\ttotal: 12.9s\tremaining: 3.56s\n",
      "783:\tlearn: 0.1918921\ttotal: 12.9s\tremaining: 3.55s\n",
      "784:\tlearn: 0.1918528\ttotal: 12.9s\tremaining: 3.54s\n",
      "785:\tlearn: 0.1918134\ttotal: 12.9s\tremaining: 3.52s\n",
      "786:\tlearn: 0.1917771\ttotal: 12.9s\tremaining: 3.5s\n",
      "787:\tlearn: 0.1917639\ttotal: 13s\tremaining: 3.48s\n",
      "788:\tlearn: 0.1917324\ttotal: 13s\tremaining: 3.47s\n",
      "789:\tlearn: 0.1916866\ttotal: 13s\tremaining: 3.45s\n",
      "790:\tlearn: 0.1916794\ttotal: 13s\tremaining: 3.44s\n",
      "791:\tlearn: 0.1916397\ttotal: 13s\tremaining: 3.42s\n",
      "792:\tlearn: 0.1915983\ttotal: 13s\tremaining: 3.4s\n",
      "793:\tlearn: 0.1915637\ttotal: 13.1s\tremaining: 3.39s\n",
      "794:\tlearn: 0.1915259\ttotal: 13.1s\tremaining: 3.37s\n",
      "795:\tlearn: 0.1914938\ttotal: 13.1s\tremaining: 3.35s\n",
      "796:\tlearn: 0.1914463\ttotal: 13.1s\tremaining: 3.33s\n",
      "797:\tlearn: 0.1914193\ttotal: 13.1s\tremaining: 3.32s\n",
      "798:\tlearn: 0.1913925\ttotal: 13.1s\tremaining: 3.3s\n",
      "799:\tlearn: 0.1913558\ttotal: 13.2s\tremaining: 3.29s\n",
      "800:\tlearn: 0.1913212\ttotal: 13.2s\tremaining: 3.27s\n",
      "801:\tlearn: 0.1912495\ttotal: 13.2s\tremaining: 3.25s\n",
      "802:\tlearn: 0.1911902\ttotal: 13.2s\tremaining: 3.24s\n",
      "803:\tlearn: 0.1911433\ttotal: 13.2s\tremaining: 3.22s\n",
      "804:\tlearn: 0.1911310\ttotal: 13.2s\tremaining: 3.2s\n",
      "805:\tlearn: 0.1910833\ttotal: 13.2s\tremaining: 3.18s\n",
      "806:\tlearn: 0.1910450\ttotal: 13.2s\tremaining: 3.17s\n",
      "807:\tlearn: 0.1909988\ttotal: 13.3s\tremaining: 3.15s\n",
      "808:\tlearn: 0.1909611\ttotal: 13.3s\tremaining: 3.13s\n",
      "809:\tlearn: 0.1909570\ttotal: 13.3s\tremaining: 3.12s\n",
      "810:\tlearn: 0.1908953\ttotal: 13.3s\tremaining: 3.1s\n",
      "811:\tlearn: 0.1908734\ttotal: 13.3s\tremaining: 3.08s\n",
      "812:\tlearn: 0.1908339\ttotal: 13.3s\tremaining: 3.07s\n",
      "813:\tlearn: 0.1908252\ttotal: 13.4s\tremaining: 3.05s\n",
      "814:\tlearn: 0.1907925\ttotal: 13.4s\tremaining: 3.03s\n",
      "815:\tlearn: 0.1907689\ttotal: 13.4s\tremaining: 3.02s\n",
      "816:\tlearn: 0.1907476\ttotal: 13.4s\tremaining: 3s\n",
      "817:\tlearn: 0.1907050\ttotal: 13.4s\tremaining: 2.98s\n",
      "818:\tlearn: 0.1906638\ttotal: 13.4s\tremaining: 2.97s\n"
     ]
    },
    {
     "name": "stdout",
     "output_type": "stream",
     "text": [
      "819:\tlearn: 0.1906382\ttotal: 13.5s\tremaining: 2.95s\n",
      "820:\tlearn: 0.1906165\ttotal: 13.5s\tremaining: 2.94s\n",
      "821:\tlearn: 0.1905731\ttotal: 13.5s\tremaining: 2.92s\n",
      "822:\tlearn: 0.1905412\ttotal: 13.5s\tremaining: 2.9s\n",
      "823:\tlearn: 0.1905069\ttotal: 13.5s\tremaining: 2.89s\n",
      "824:\tlearn: 0.1904742\ttotal: 13.5s\tremaining: 2.87s\n",
      "825:\tlearn: 0.1904414\ttotal: 13.6s\tremaining: 2.85s\n",
      "826:\tlearn: 0.1903985\ttotal: 13.6s\tremaining: 2.84s\n",
      "827:\tlearn: 0.1903947\ttotal: 13.6s\tremaining: 2.82s\n",
      "828:\tlearn: 0.1903155\ttotal: 13.6s\tremaining: 2.8s\n",
      "829:\tlearn: 0.1902443\ttotal: 13.6s\tremaining: 2.79s\n",
      "830:\tlearn: 0.1902024\ttotal: 13.6s\tremaining: 2.77s\n",
      "831:\tlearn: 0.1901395\ttotal: 13.6s\tremaining: 2.75s\n",
      "832:\tlearn: 0.1900678\ttotal: 13.7s\tremaining: 2.74s\n",
      "833:\tlearn: 0.1900243\ttotal: 13.7s\tremaining: 2.73s\n",
      "834:\tlearn: 0.1899730\ttotal: 13.7s\tremaining: 2.71s\n",
      "835:\tlearn: 0.1899287\ttotal: 13.7s\tremaining: 2.69s\n",
      "836:\tlearn: 0.1898984\ttotal: 13.7s\tremaining: 2.68s\n",
      "837:\tlearn: 0.1898746\ttotal: 13.8s\tremaining: 2.66s\n",
      "838:\tlearn: 0.1898443\ttotal: 13.8s\tremaining: 2.65s\n",
      "839:\tlearn: 0.1898025\ttotal: 13.8s\tremaining: 2.63s\n",
      "840:\tlearn: 0.1897777\ttotal: 13.8s\tremaining: 2.61s\n",
      "841:\tlearn: 0.1897720\ttotal: 13.8s\tremaining: 2.6s\n",
      "842:\tlearn: 0.1897099\ttotal: 13.8s\tremaining: 2.58s\n",
      "843:\tlearn: 0.1896731\ttotal: 13.9s\tremaining: 2.56s\n",
      "844:\tlearn: 0.1896356\ttotal: 13.9s\tremaining: 2.55s\n",
      "845:\tlearn: 0.1896244\ttotal: 13.9s\tremaining: 2.53s\n",
      "846:\tlearn: 0.1895810\ttotal: 13.9s\tremaining: 2.51s\n",
      "847:\tlearn: 0.1895227\ttotal: 13.9s\tremaining: 2.5s\n",
      "848:\tlearn: 0.1894913\ttotal: 13.9s\tremaining: 2.48s\n",
      "849:\tlearn: 0.1894558\ttotal: 14s\tremaining: 2.46s\n",
      "850:\tlearn: 0.1894153\ttotal: 14s\tremaining: 2.45s\n",
      "851:\tlearn: 0.1893529\ttotal: 14s\tremaining: 2.43s\n",
      "852:\tlearn: 0.1893145\ttotal: 14s\tremaining: 2.41s\n",
      "853:\tlearn: 0.1892712\ttotal: 14s\tremaining: 2.4s\n",
      "854:\tlearn: 0.1892537\ttotal: 14s\tremaining: 2.38s\n",
      "855:\tlearn: 0.1892267\ttotal: 14s\tremaining: 2.36s\n",
      "856:\tlearn: 0.1892056\ttotal: 14.1s\tremaining: 2.35s\n",
      "857:\tlearn: 0.1891631\ttotal: 14.1s\tremaining: 2.33s\n",
      "858:\tlearn: 0.1891325\ttotal: 14.1s\tremaining: 2.31s\n",
      "859:\tlearn: 0.1891088\ttotal: 14.1s\tremaining: 2.3s\n",
      "860:\tlearn: 0.1890543\ttotal: 14.1s\tremaining: 2.28s\n",
      "861:\tlearn: 0.1890217\ttotal: 14.1s\tremaining: 2.26s\n",
      "862:\tlearn: 0.1889906\ttotal: 14.2s\tremaining: 2.25s\n",
      "863:\tlearn: 0.1889713\ttotal: 14.2s\tremaining: 2.23s\n",
      "864:\tlearn: 0.1889135\ttotal: 14.2s\tremaining: 2.21s\n",
      "865:\tlearn: 0.1888848\ttotal: 14.2s\tremaining: 2.2s\n",
      "866:\tlearn: 0.1888259\ttotal: 14.2s\tremaining: 2.18s\n",
      "867:\tlearn: 0.1888225\ttotal: 14.2s\tremaining: 2.17s\n",
      "868:\tlearn: 0.1887788\ttotal: 14.2s\tremaining: 2.15s\n",
      "869:\tlearn: 0.1887112\ttotal: 14.3s\tremaining: 2.13s\n",
      "870:\tlearn: 0.1886627\ttotal: 14.3s\tremaining: 2.12s\n",
      "871:\tlearn: 0.1886018\ttotal: 14.3s\tremaining: 2.1s\n",
      "872:\tlearn: 0.1885636\ttotal: 14.3s\tremaining: 2.08s\n",
      "873:\tlearn: 0.1884977\ttotal: 14.3s\tremaining: 2.06s\n",
      "874:\tlearn: 0.1884961\ttotal: 14.3s\tremaining: 2.05s\n",
      "875:\tlearn: 0.1884614\ttotal: 14.3s\tremaining: 2.03s\n",
      "876:\tlearn: 0.1884304\ttotal: 14.4s\tremaining: 2.01s\n",
      "877:\tlearn: 0.1884054\ttotal: 14.4s\tremaining: 2s\n",
      "878:\tlearn: 0.1883656\ttotal: 14.4s\tremaining: 1.98s\n",
      "879:\tlearn: 0.1883094\ttotal: 14.4s\tremaining: 1.97s\n",
      "880:\tlearn: 0.1882671\ttotal: 14.4s\tremaining: 1.95s\n",
      "881:\tlearn: 0.1882296\ttotal: 14.4s\tremaining: 1.93s\n",
      "882:\tlearn: 0.1881784\ttotal: 14.4s\tremaining: 1.91s\n",
      "883:\tlearn: 0.1881400\ttotal: 14.5s\tremaining: 1.9s\n",
      "884:\tlearn: 0.1880668\ttotal: 14.5s\tremaining: 1.88s\n",
      "885:\tlearn: 0.1880311\ttotal: 14.5s\tremaining: 1.86s\n",
      "886:\tlearn: 0.1879723\ttotal: 14.5s\tremaining: 1.85s\n",
      "887:\tlearn: 0.1879297\ttotal: 14.5s\tremaining: 1.83s\n",
      "888:\tlearn: 0.1878729\ttotal: 14.5s\tremaining: 1.81s\n",
      "889:\tlearn: 0.1878395\ttotal: 14.5s\tremaining: 1.8s\n",
      "890:\tlearn: 0.1877855\ttotal: 14.6s\tremaining: 1.78s\n",
      "891:\tlearn: 0.1877405\ttotal: 14.6s\tremaining: 1.76s\n",
      "892:\tlearn: 0.1877050\ttotal: 14.6s\tremaining: 1.75s\n",
      "893:\tlearn: 0.1876661\ttotal: 14.6s\tremaining: 1.73s\n",
      "894:\tlearn: 0.1876368\ttotal: 14.6s\tremaining: 1.72s\n",
      "895:\tlearn: 0.1876008\ttotal: 14.6s\tremaining: 1.7s\n",
      "896:\tlearn: 0.1875684\ttotal: 14.7s\tremaining: 1.68s\n",
      "897:\tlearn: 0.1875209\ttotal: 14.7s\tremaining: 1.67s\n",
      "898:\tlearn: 0.1874615\ttotal: 14.7s\tremaining: 1.65s\n",
      "899:\tlearn: 0.1873796\ttotal: 14.7s\tremaining: 1.63s\n",
      "900:\tlearn: 0.1873328\ttotal: 14.7s\tremaining: 1.62s\n",
      "901:\tlearn: 0.1872981\ttotal: 14.7s\tremaining: 1.6s\n",
      "902:\tlearn: 0.1872776\ttotal: 14.7s\tremaining: 1.58s\n",
      "903:\tlearn: 0.1872360\ttotal: 14.8s\tremaining: 1.57s\n",
      "904:\tlearn: 0.1871867\ttotal: 14.8s\tremaining: 1.55s\n",
      "905:\tlearn: 0.1871243\ttotal: 14.8s\tremaining: 1.53s\n",
      "906:\tlearn: 0.1870673\ttotal: 14.8s\tremaining: 1.52s\n",
      "907:\tlearn: 0.1870229\ttotal: 14.8s\tremaining: 1.5s\n",
      "908:\tlearn: 0.1869687\ttotal: 14.8s\tremaining: 1.49s\n",
      "909:\tlearn: 0.1869418\ttotal: 14.9s\tremaining: 1.47s\n",
      "910:\tlearn: 0.1868976\ttotal: 14.9s\tremaining: 1.45s\n",
      "911:\tlearn: 0.1868730\ttotal: 14.9s\tremaining: 1.44s\n",
      "912:\tlearn: 0.1868550\ttotal: 14.9s\tremaining: 1.42s\n",
      "913:\tlearn: 0.1868290\ttotal: 14.9s\tremaining: 1.4s\n",
      "914:\tlearn: 0.1868036\ttotal: 14.9s\tremaining: 1.39s\n",
      "915:\tlearn: 0.1867563\ttotal: 14.9s\tremaining: 1.37s\n",
      "916:\tlearn: 0.1867358\ttotal: 15s\tremaining: 1.35s\n",
      "917:\tlearn: 0.1866623\ttotal: 15s\tremaining: 1.34s\n",
      "918:\tlearn: 0.1866357\ttotal: 15s\tremaining: 1.32s\n",
      "919:\tlearn: 0.1866071\ttotal: 15s\tremaining: 1.3s\n",
      "920:\tlearn: 0.1866057\ttotal: 15s\tremaining: 1.29s\n",
      "921:\tlearn: 0.1865777\ttotal: 15s\tremaining: 1.27s\n",
      "922:\tlearn: 0.1865747\ttotal: 15s\tremaining: 1.25s\n",
      "923:\tlearn: 0.1865307\ttotal: 15.1s\tremaining: 1.24s\n",
      "924:\tlearn: 0.1864908\ttotal: 15.1s\tremaining: 1.22s\n",
      "925:\tlearn: 0.1864168\ttotal: 15.1s\tremaining: 1.21s\n",
      "926:\tlearn: 0.1863643\ttotal: 15.1s\tremaining: 1.19s\n",
      "927:\tlearn: 0.1863225\ttotal: 15.1s\tremaining: 1.17s\n",
      "928:\tlearn: 0.1863177\ttotal: 15.1s\tremaining: 1.16s\n",
      "929:\tlearn: 0.1863046\ttotal: 15.1s\tremaining: 1.14s\n",
      "930:\tlearn: 0.1862505\ttotal: 15.2s\tremaining: 1.12s\n",
      "931:\tlearn: 0.1861939\ttotal: 15.2s\tremaining: 1.11s\n",
      "932:\tlearn: 0.1861911\ttotal: 15.2s\tremaining: 1.09s\n",
      "933:\tlearn: 0.1861295\ttotal: 15.2s\tremaining: 1.07s\n",
      "934:\tlearn: 0.1860720\ttotal: 15.2s\tremaining: 1.06s\n",
      "935:\tlearn: 0.1860328\ttotal: 15.2s\tremaining: 1.04s\n",
      "936:\tlearn: 0.1859932\ttotal: 15.3s\tremaining: 1.02s\n",
      "937:\tlearn: 0.1859484\ttotal: 15.3s\tremaining: 1.01s\n",
      "938:\tlearn: 0.1858975\ttotal: 15.3s\tremaining: 993ms\n",
      "939:\tlearn: 0.1858581\ttotal: 15.3s\tremaining: 976ms\n",
      "940:\tlearn: 0.1858013\ttotal: 15.3s\tremaining: 960ms\n",
      "941:\tlearn: 0.1857673\ttotal: 15.3s\tremaining: 944ms\n",
      "942:\tlearn: 0.1857468\ttotal: 15.3s\tremaining: 928ms\n",
      "943:\tlearn: 0.1857350\ttotal: 15.4s\tremaining: 911ms\n",
      "944:\tlearn: 0.1857007\ttotal: 15.4s\tremaining: 895ms\n",
      "945:\tlearn: 0.1856674\ttotal: 15.4s\tremaining: 879ms\n",
      "946:\tlearn: 0.1856305\ttotal: 15.4s\tremaining: 863ms\n",
      "947:\tlearn: 0.1855863\ttotal: 15.4s\tremaining: 846ms\n",
      "948:\tlearn: 0.1855453\ttotal: 15.5s\tremaining: 831ms\n",
      "949:\tlearn: 0.1854975\ttotal: 15.5s\tremaining: 814ms\n",
      "950:\tlearn: 0.1854594\ttotal: 15.5s\tremaining: 798ms\n",
      "951:\tlearn: 0.1854109\ttotal: 15.5s\tremaining: 782ms\n",
      "952:\tlearn: 0.1853720\ttotal: 15.5s\tremaining: 765ms\n",
      "953:\tlearn: 0.1853433\ttotal: 15.5s\tremaining: 749ms\n",
      "954:\tlearn: 0.1853143\ttotal: 15.5s\tremaining: 733ms\n",
      "955:\tlearn: 0.1852913\ttotal: 15.6s\tremaining: 716ms\n",
      "956:\tlearn: 0.1852635\ttotal: 15.6s\tremaining: 700ms\n",
      "957:\tlearn: 0.1852230\ttotal: 15.6s\tremaining: 683ms\n",
      "958:\tlearn: 0.1852005\ttotal: 15.6s\tremaining: 667ms\n",
      "959:\tlearn: 0.1851683\ttotal: 15.6s\tremaining: 651ms\n",
      "960:\tlearn: 0.1851667\ttotal: 15.6s\tremaining: 635ms\n",
      "961:\tlearn: 0.1851258\ttotal: 15.6s\tremaining: 618ms\n",
      "962:\tlearn: 0.1850629\ttotal: 15.7s\tremaining: 602ms\n",
      "963:\tlearn: 0.1850183\ttotal: 15.7s\tremaining: 586ms\n",
      "964:\tlearn: 0.1849949\ttotal: 15.7s\tremaining: 569ms\n",
      "965:\tlearn: 0.1849574\ttotal: 15.7s\tremaining: 553ms\n",
      "966:\tlearn: 0.1849370\ttotal: 15.7s\tremaining: 537ms\n",
      "967:\tlearn: 0.1848961\ttotal: 15.7s\tremaining: 521ms\n",
      "968:\tlearn: 0.1848793\ttotal: 15.8s\tremaining: 504ms\n",
      "969:\tlearn: 0.1848416\ttotal: 15.8s\tremaining: 488ms\n",
      "970:\tlearn: 0.1847808\ttotal: 15.8s\tremaining: 472ms\n",
      "971:\tlearn: 0.1847406\ttotal: 15.8s\tremaining: 455ms\n",
      "972:\tlearn: 0.1846947\ttotal: 15.8s\tremaining: 439ms\n",
      "973:\tlearn: 0.1846268\ttotal: 15.8s\tremaining: 423ms\n",
      "974:\tlearn: 0.1845825\ttotal: 15.9s\tremaining: 407ms\n",
      "975:\tlearn: 0.1845601\ttotal: 15.9s\tremaining: 390ms\n",
      "976:\tlearn: 0.1845544\ttotal: 15.9s\tremaining: 374ms\n",
      "977:\tlearn: 0.1845001\ttotal: 15.9s\tremaining: 358ms\n",
      "978:\tlearn: 0.1844645\ttotal: 15.9s\tremaining: 342ms\n",
      "979:\tlearn: 0.1844274\ttotal: 15.9s\tremaining: 325ms\n",
      "980:\tlearn: 0.1843932\ttotal: 16s\tremaining: 309ms\n",
      "981:\tlearn: 0.1843657\ttotal: 16s\tremaining: 293ms\n"
     ]
    },
    {
     "name": "stdout",
     "output_type": "stream",
     "text": [
      "982:\tlearn: 0.1843243\ttotal: 16s\tremaining: 277ms\n",
      "983:\tlearn: 0.1842807\ttotal: 16s\tremaining: 260ms\n",
      "984:\tlearn: 0.1842714\ttotal: 16s\tremaining: 244ms\n",
      "985:\tlearn: 0.1842647\ttotal: 16s\tremaining: 228ms\n",
      "986:\tlearn: 0.1842153\ttotal: 16.1s\tremaining: 211ms\n",
      "987:\tlearn: 0.1841803\ttotal: 16.1s\tremaining: 195ms\n",
      "988:\tlearn: 0.1841339\ttotal: 16.1s\tremaining: 179ms\n",
      "989:\tlearn: 0.1841114\ttotal: 16.1s\tremaining: 163ms\n",
      "990:\tlearn: 0.1840744\ttotal: 16.1s\tremaining: 146ms\n",
      "991:\tlearn: 0.1840268\ttotal: 16.1s\tremaining: 130ms\n",
      "992:\tlearn: 0.1840040\ttotal: 16.1s\tremaining: 114ms\n",
      "993:\tlearn: 0.1839602\ttotal: 16.2s\tremaining: 97.5ms\n",
      "994:\tlearn: 0.1839113\ttotal: 16.2s\tremaining: 81.3ms\n",
      "995:\tlearn: 0.1838818\ttotal: 16.2s\tremaining: 65ms\n",
      "996:\tlearn: 0.1838270\ttotal: 16.2s\tremaining: 48.8ms\n",
      "997:\tlearn: 0.1837922\ttotal: 16.2s\tremaining: 32.5ms\n",
      "998:\tlearn: 0.1837493\ttotal: 16.2s\tremaining: 16.3ms\n",
      "999:\tlearn: 0.1836972\ttotal: 16.3s\tremaining: 0us\n"
     ]
    }
   ],
   "source": [
    "cat_model = CatBoostClassifier().fit(X_train, y_train)"
   ]
  },
  {
   "cell_type": "code",
   "execution_count": 330,
   "metadata": {},
   "outputs": [
    {
     "data": {
      "text/plain": [
       "0.9295"
      ]
     },
     "execution_count": 330,
     "metadata": {},
     "output_type": "execute_result"
    }
   ],
   "source": [
    "y_pred = cat_model.predict(X_test)\n",
    "accuracy_score(y_test, y_pred)"
   ]
  },
  {
   "cell_type": "markdown",
   "metadata": {},
   "source": [
    "## Model Tuning"
   ]
  },
  {
   "cell_type": "code",
   "execution_count": 331,
   "metadata": {},
   "outputs": [],
   "source": [
    "catb_params = {\n",
    "    'iterations': [200,500],\n",
    "    'learning_rate': [0.01,0.05, 0.1],\n",
    "    'depth': [3,5,8] }"
   ]
  },
  {
   "cell_type": "code",
   "execution_count": 332,
   "metadata": {},
   "outputs": [
    {
     "name": "stdout",
     "output_type": "stream",
     "text": [
      "Fitting 5 folds for each of 18 candidates, totalling 90 fits\n"
     ]
    },
    {
     "name": "stderr",
     "output_type": "stream",
     "text": [
      "[Parallel(n_jobs=-1)]: Using backend LokyBackend with 8 concurrent workers.\n",
      "[Parallel(n_jobs=-1)]: Done  25 tasks      | elapsed:  1.8min\n",
      "[Parallel(n_jobs=-1)]: Done  90 out of  90 | elapsed:  6.9min finished\n"
     ]
    },
    {
     "name": "stdout",
     "output_type": "stream",
     "text": [
      "0:\tlearn: 0.5889295\ttotal: 8.37ms\tremaining: 1.67s\n",
      "1:\tlearn: 0.5116667\ttotal: 17.1ms\tremaining: 1.69s\n",
      "2:\tlearn: 0.4510519\ttotal: 26.5ms\tremaining: 1.74s\n",
      "3:\tlearn: 0.4053522\ttotal: 35.2ms\tremaining: 1.72s\n",
      "4:\tlearn: 0.3717749\ttotal: 42.9ms\tremaining: 1.67s\n",
      "5:\tlearn: 0.3449388\ttotal: 50.9ms\tremaining: 1.65s\n",
      "6:\tlearn: 0.3244451\ttotal: 59.5ms\tremaining: 1.64s\n",
      "7:\tlearn: 0.3088035\ttotal: 68.7ms\tremaining: 1.65s\n",
      "8:\tlearn: 0.2964963\ttotal: 78.5ms\tremaining: 1.67s\n",
      "9:\tlearn: 0.2859247\ttotal: 87.8ms\tremaining: 1.67s\n",
      "10:\tlearn: 0.2773822\ttotal: 98.4ms\tremaining: 1.69s\n",
      "11:\tlearn: 0.2710340\ttotal: 106ms\tremaining: 1.66s\n",
      "12:\tlearn: 0.2656610\ttotal: 116ms\tremaining: 1.66s\n",
      "13:\tlearn: 0.2613282\ttotal: 124ms\tremaining: 1.65s\n",
      "14:\tlearn: 0.2583190\ttotal: 133ms\tremaining: 1.64s\n",
      "15:\tlearn: 0.2558214\ttotal: 141ms\tremaining: 1.62s\n",
      "16:\tlearn: 0.2531618\ttotal: 148ms\tremaining: 1.59s\n",
      "17:\tlearn: 0.2510982\ttotal: 154ms\tremaining: 1.56s\n",
      "18:\tlearn: 0.2494149\ttotal: 162ms\tremaining: 1.54s\n",
      "19:\tlearn: 0.2481515\ttotal: 169ms\tremaining: 1.52s\n",
      "20:\tlearn: 0.2467912\ttotal: 178ms\tremaining: 1.51s\n",
      "21:\tlearn: 0.2457006\ttotal: 185ms\tremaining: 1.5s\n",
      "22:\tlearn: 0.2446275\ttotal: 193ms\tremaining: 1.49s\n",
      "23:\tlearn: 0.2438725\ttotal: 201ms\tremaining: 1.47s\n",
      "24:\tlearn: 0.2432808\ttotal: 208ms\tremaining: 1.45s\n",
      "25:\tlearn: 0.2427686\ttotal: 216ms\tremaining: 1.45s\n",
      "26:\tlearn: 0.2424039\ttotal: 224ms\tremaining: 1.44s\n",
      "27:\tlearn: 0.2418177\ttotal: 232ms\tremaining: 1.42s\n",
      "28:\tlearn: 0.2412776\ttotal: 238ms\tremaining: 1.41s\n",
      "29:\tlearn: 0.2409736\ttotal: 247ms\tremaining: 1.4s\n",
      "30:\tlearn: 0.2403967\ttotal: 255ms\tremaining: 1.39s\n",
      "31:\tlearn: 0.2401327\ttotal: 263ms\tremaining: 1.38s\n",
      "32:\tlearn: 0.2398798\ttotal: 271ms\tremaining: 1.37s\n",
      "33:\tlearn: 0.2396742\ttotal: 279ms\tremaining: 1.36s\n",
      "34:\tlearn: 0.2391784\ttotal: 285ms\tremaining: 1.34s\n",
      "35:\tlearn: 0.2388484\ttotal: 293ms\tremaining: 1.33s\n",
      "36:\tlearn: 0.2386263\ttotal: 299ms\tremaining: 1.32s\n",
      "37:\tlearn: 0.2384666\ttotal: 307ms\tremaining: 1.31s\n",
      "38:\tlearn: 0.2381254\ttotal: 314ms\tremaining: 1.3s\n",
      "39:\tlearn: 0.2377053\ttotal: 321ms\tremaining: 1.28s\n",
      "40:\tlearn: 0.2373854\ttotal: 329ms\tremaining: 1.28s\n",
      "41:\tlearn: 0.2372056\ttotal: 336ms\tremaining: 1.26s\n",
      "42:\tlearn: 0.2370089\ttotal: 344ms\tremaining: 1.26s\n",
      "43:\tlearn: 0.2368689\ttotal: 352ms\tremaining: 1.25s\n",
      "44:\tlearn: 0.2367567\ttotal: 360ms\tremaining: 1.24s\n",
      "45:\tlearn: 0.2365207\ttotal: 367ms\tremaining: 1.23s\n",
      "46:\tlearn: 0.2363644\ttotal: 376ms\tremaining: 1.22s\n",
      "47:\tlearn: 0.2362062\ttotal: 383ms\tremaining: 1.21s\n",
      "48:\tlearn: 0.2359534\ttotal: 391ms\tremaining: 1.21s\n",
      "49:\tlearn: 0.2357255\ttotal: 399ms\tremaining: 1.2s\n",
      "50:\tlearn: 0.2355820\ttotal: 409ms\tremaining: 1.19s\n",
      "51:\tlearn: 0.2354681\ttotal: 416ms\tremaining: 1.18s\n",
      "52:\tlearn: 0.2350834\ttotal: 424ms\tremaining: 1.18s\n",
      "53:\tlearn: 0.2349151\ttotal: 434ms\tremaining: 1.17s\n",
      "54:\tlearn: 0.2348102\ttotal: 443ms\tremaining: 1.17s\n",
      "55:\tlearn: 0.2347215\ttotal: 451ms\tremaining: 1.16s\n",
      "56:\tlearn: 0.2345715\ttotal: 459ms\tremaining: 1.15s\n",
      "57:\tlearn: 0.2344928\ttotal: 468ms\tremaining: 1.15s\n",
      "58:\tlearn: 0.2343939\ttotal: 475ms\tremaining: 1.14s\n",
      "59:\tlearn: 0.2342767\ttotal: 485ms\tremaining: 1.13s\n",
      "60:\tlearn: 0.2341567\ttotal: 493ms\tremaining: 1.12s\n",
      "61:\tlearn: 0.2340701\ttotal: 501ms\tremaining: 1.11s\n",
      "62:\tlearn: 0.2340120\ttotal: 510ms\tremaining: 1.11s\n",
      "63:\tlearn: 0.2337455\ttotal: 518ms\tremaining: 1.1s\n",
      "64:\tlearn: 0.2335821\ttotal: 525ms\tremaining: 1.09s\n",
      "65:\tlearn: 0.2335032\ttotal: 533ms\tremaining: 1.08s\n",
      "66:\tlearn: 0.2334104\ttotal: 543ms\tremaining: 1.08s\n",
      "67:\tlearn: 0.2333597\ttotal: 552ms\tremaining: 1.07s\n",
      "68:\tlearn: 0.2332132\ttotal: 562ms\tremaining: 1.07s\n",
      "69:\tlearn: 0.2331052\ttotal: 571ms\tremaining: 1.06s\n",
      "70:\tlearn: 0.2330128\ttotal: 580ms\tremaining: 1.05s\n",
      "71:\tlearn: 0.2329750\ttotal: 589ms\tremaining: 1.05s\n",
      "72:\tlearn: 0.2328862\ttotal: 598ms\tremaining: 1.04s\n",
      "73:\tlearn: 0.2328171\ttotal: 607ms\tremaining: 1.03s\n",
      "74:\tlearn: 0.2327449\ttotal: 616ms\tremaining: 1.03s\n",
      "75:\tlearn: 0.2326876\ttotal: 625ms\tremaining: 1.02s\n",
      "76:\tlearn: 0.2326222\ttotal: 634ms\tremaining: 1.01s\n",
      "77:\tlearn: 0.2325801\ttotal: 643ms\tremaining: 1s\n",
      "78:\tlearn: 0.2325177\ttotal: 651ms\tremaining: 997ms\n",
      "79:\tlearn: 0.2324186\ttotal: 658ms\tremaining: 987ms\n",
      "80:\tlearn: 0.2323367\ttotal: 667ms\tremaining: 981ms\n",
      "81:\tlearn: 0.2322468\ttotal: 676ms\tremaining: 973ms\n",
      "82:\tlearn: 0.2321946\ttotal: 683ms\tremaining: 963ms\n",
      "83:\tlearn: 0.2318230\ttotal: 692ms\tremaining: 955ms\n",
      "84:\tlearn: 0.2317810\ttotal: 700ms\tremaining: 948ms\n",
      "85:\tlearn: 0.2317138\ttotal: 709ms\tremaining: 940ms\n",
      "86:\tlearn: 0.2316693\ttotal: 717ms\tremaining: 932ms\n",
      "87:\tlearn: 0.2316317\ttotal: 724ms\tremaining: 922ms\n",
      "88:\tlearn: 0.2315844\ttotal: 733ms\tremaining: 915ms\n",
      "89:\tlearn: 0.2312739\ttotal: 741ms\tremaining: 906ms\n",
      "90:\tlearn: 0.2312064\ttotal: 748ms\tremaining: 896ms\n",
      "91:\tlearn: 0.2309826\ttotal: 755ms\tremaining: 887ms\n",
      "92:\tlearn: 0.2309134\ttotal: 765ms\tremaining: 880ms\n",
      "93:\tlearn: 0.2307301\ttotal: 773ms\tremaining: 871ms\n",
      "94:\tlearn: 0.2306592\ttotal: 782ms\tremaining: 864ms\n",
      "95:\tlearn: 0.2306203\ttotal: 790ms\tremaining: 856ms\n",
      "96:\tlearn: 0.2305238\ttotal: 797ms\tremaining: 847ms\n",
      "97:\tlearn: 0.2304561\ttotal: 807ms\tremaining: 839ms\n",
      "98:\tlearn: 0.2303459\ttotal: 814ms\tremaining: 830ms\n",
      "99:\tlearn: 0.2303335\ttotal: 823ms\tremaining: 823ms\n",
      "100:\tlearn: 0.2302765\ttotal: 832ms\tremaining: 816ms\n",
      "101:\tlearn: 0.2302224\ttotal: 842ms\tremaining: 809ms\n",
      "102:\tlearn: 0.2301760\ttotal: 851ms\tremaining: 801ms\n",
      "103:\tlearn: 0.2300216\ttotal: 858ms\tremaining: 792ms\n",
      "104:\tlearn: 0.2299492\ttotal: 866ms\tremaining: 783ms\n",
      "105:\tlearn: 0.2298680\ttotal: 874ms\tremaining: 775ms\n",
      "106:\tlearn: 0.2297802\ttotal: 881ms\tremaining: 766ms\n",
      "107:\tlearn: 0.2297172\ttotal: 889ms\tremaining: 757ms\n",
      "108:\tlearn: 0.2296822\ttotal: 898ms\tremaining: 749ms\n",
      "109:\tlearn: 0.2296639\ttotal: 906ms\tremaining: 742ms\n",
      "110:\tlearn: 0.2296506\ttotal: 916ms\tremaining: 735ms\n",
      "111:\tlearn: 0.2295717\ttotal: 924ms\tremaining: 726ms\n",
      "112:\tlearn: 0.2294282\ttotal: 931ms\tremaining: 717ms\n",
      "113:\tlearn: 0.2294208\ttotal: 939ms\tremaining: 709ms\n",
      "114:\tlearn: 0.2294005\ttotal: 947ms\tremaining: 700ms\n",
      "115:\tlearn: 0.2293315\ttotal: 954ms\tremaining: 691ms\n",
      "116:\tlearn: 0.2291342\ttotal: 961ms\tremaining: 682ms\n",
      "117:\tlearn: 0.2291033\ttotal: 971ms\tremaining: 675ms\n",
      "118:\tlearn: 0.2290330\ttotal: 980ms\tremaining: 667ms\n",
      "119:\tlearn: 0.2290176\ttotal: 989ms\tremaining: 659ms\n",
      "120:\tlearn: 0.2290062\ttotal: 997ms\tremaining: 651ms\n",
      "121:\tlearn: 0.2289259\ttotal: 1s\tremaining: 642ms\n",
      "122:\tlearn: 0.2288537\ttotal: 1.01s\tremaining: 634ms\n",
      "123:\tlearn: 0.2287687\ttotal: 1.02s\tremaining: 626ms\n",
      "124:\tlearn: 0.2287305\ttotal: 1.03s\tremaining: 618ms\n",
      "125:\tlearn: 0.2286833\ttotal: 1.04s\tremaining: 609ms\n",
      "126:\tlearn: 0.2284794\ttotal: 1.04s\tremaining: 601ms\n",
      "127:\tlearn: 0.2284697\ttotal: 1.05s\tremaining: 594ms\n",
      "128:\tlearn: 0.2284616\ttotal: 1.06s\tremaining: 585ms\n",
      "129:\tlearn: 0.2283844\ttotal: 1.07s\tremaining: 576ms\n",
      "130:\tlearn: 0.2283217\ttotal: 1.08s\tremaining: 571ms\n",
      "131:\tlearn: 0.2282638\ttotal: 1.09s\tremaining: 563ms\n",
      "132:\tlearn: 0.2282198\ttotal: 1.1s\tremaining: 554ms\n",
      "133:\tlearn: 0.2281998\ttotal: 1.11s\tremaining: 547ms\n",
      "134:\tlearn: 0.2281650\ttotal: 1.12s\tremaining: 539ms\n",
      "135:\tlearn: 0.2281134\ttotal: 1.13s\tremaining: 531ms\n",
      "136:\tlearn: 0.2280532\ttotal: 1.14s\tremaining: 524ms\n",
      "137:\tlearn: 0.2280138\ttotal: 1.15s\tremaining: 516ms\n",
      "138:\tlearn: 0.2278523\ttotal: 1.16s\tremaining: 507ms\n",
      "139:\tlearn: 0.2278174\ttotal: 1.17s\tremaining: 500ms\n",
      "140:\tlearn: 0.2277754\ttotal: 1.17s\tremaining: 492ms\n",
      "141:\tlearn: 0.2277044\ttotal: 1.18s\tremaining: 483ms\n",
      "142:\tlearn: 0.2275608\ttotal: 1.19s\tremaining: 475ms\n",
      "143:\tlearn: 0.2275538\ttotal: 1.2s\tremaining: 467ms\n",
      "144:\tlearn: 0.2274597\ttotal: 1.21s\tremaining: 458ms\n",
      "145:\tlearn: 0.2273261\ttotal: 1.22s\tremaining: 450ms\n",
      "146:\tlearn: 0.2272952\ttotal: 1.22s\tremaining: 442ms\n",
      "147:\tlearn: 0.2271807\ttotal: 1.23s\tremaining: 433ms\n",
      "148:\tlearn: 0.2271080\ttotal: 1.24s\tremaining: 424ms\n",
      "149:\tlearn: 0.2270679\ttotal: 1.25s\tremaining: 416ms\n",
      "150:\tlearn: 0.2270082\ttotal: 1.26s\tremaining: 408ms\n",
      "151:\tlearn: 0.2269821\ttotal: 1.26s\tremaining: 400ms\n",
      "152:\tlearn: 0.2269298\ttotal: 1.27s\tremaining: 391ms\n",
      "153:\tlearn: 0.2268916\ttotal: 1.28s\tremaining: 383ms\n",
      "154:\tlearn: 0.2268384\ttotal: 1.29s\tremaining: 375ms\n",
      "155:\tlearn: 0.2268067\ttotal: 1.3s\tremaining: 367ms\n",
      "156:\tlearn: 0.2267698\ttotal: 1.31s\tremaining: 358ms\n",
      "157:\tlearn: 0.2266633\ttotal: 1.32s\tremaining: 350ms\n",
      "158:\tlearn: 0.2266135\ttotal: 1.32s\tremaining: 341ms\n",
      "159:\tlearn: 0.2265531\ttotal: 1.33s\tremaining: 333ms\n",
      "160:\tlearn: 0.2265470\ttotal: 1.34s\tremaining: 324ms\n",
      "161:\tlearn: 0.2265197\ttotal: 1.35s\tremaining: 316ms\n",
      "162:\tlearn: 0.2264949\ttotal: 1.35s\tremaining: 307ms\n",
      "163:\tlearn: 0.2264377\ttotal: 1.36s\tremaining: 299ms\n",
      "164:\tlearn: 0.2264125\ttotal: 1.37s\tremaining: 291ms\n",
      "165:\tlearn: 0.2263760\ttotal: 1.38s\tremaining: 283ms\n",
      "166:\tlearn: 0.2263270\ttotal: 1.39s\tremaining: 274ms\n",
      "167:\tlearn: 0.2263218\ttotal: 1.4s\tremaining: 266ms\n",
      "168:\tlearn: 0.2262818\ttotal: 1.4s\tremaining: 258ms\n",
      "169:\tlearn: 0.2262696\ttotal: 1.41s\tremaining: 249ms\n",
      "170:\tlearn: 0.2262368\ttotal: 1.42s\tremaining: 241ms\n",
      "171:\tlearn: 0.2261886\ttotal: 1.43s\tremaining: 232ms\n",
      "172:\tlearn: 0.2261483\ttotal: 1.44s\tremaining: 224ms\n",
      "173:\tlearn: 0.2261097\ttotal: 1.44s\tremaining: 216ms\n",
      "174:\tlearn: 0.2260513\ttotal: 1.45s\tremaining: 207ms\n"
     ]
    },
    {
     "name": "stdout",
     "output_type": "stream",
     "text": [
      "175:\tlearn: 0.2259973\ttotal: 1.46s\tremaining: 199ms\n",
      "176:\tlearn: 0.2259932\ttotal: 1.47s\tremaining: 191ms\n",
      "177:\tlearn: 0.2259589\ttotal: 1.48s\tremaining: 183ms\n",
      "178:\tlearn: 0.2259549\ttotal: 1.49s\tremaining: 174ms\n",
      "179:\tlearn: 0.2259191\ttotal: 1.49s\tremaining: 166ms\n",
      "180:\tlearn: 0.2258715\ttotal: 1.5s\tremaining: 158ms\n",
      "181:\tlearn: 0.2258083\ttotal: 1.51s\tremaining: 149ms\n",
      "182:\tlearn: 0.2257986\ttotal: 1.52s\tremaining: 141ms\n",
      "183:\tlearn: 0.2257595\ttotal: 1.52s\tremaining: 133ms\n",
      "184:\tlearn: 0.2256278\ttotal: 1.53s\tremaining: 124ms\n",
      "185:\tlearn: 0.2255252\ttotal: 1.54s\tremaining: 116ms\n",
      "186:\tlearn: 0.2254781\ttotal: 1.55s\tremaining: 108ms\n",
      "187:\tlearn: 0.2254411\ttotal: 1.56s\tremaining: 99.6ms\n",
      "188:\tlearn: 0.2253924\ttotal: 1.57s\tremaining: 91.2ms\n",
      "189:\tlearn: 0.2253465\ttotal: 1.57s\tremaining: 82.9ms\n",
      "190:\tlearn: 0.2253008\ttotal: 1.58s\tremaining: 74.6ms\n",
      "191:\tlearn: 0.2252192\ttotal: 1.59s\tremaining: 66.3ms\n",
      "192:\tlearn: 0.2251823\ttotal: 1.6s\tremaining: 58ms\n",
      "193:\tlearn: 0.2251481\ttotal: 1.61s\tremaining: 49.7ms\n",
      "194:\tlearn: 0.2251000\ttotal: 1.62s\tremaining: 41.5ms\n",
      "195:\tlearn: 0.2250583\ttotal: 1.63s\tremaining: 33.2ms\n",
      "196:\tlearn: 0.2250384\ttotal: 1.64s\tremaining: 24.9ms\n",
      "197:\tlearn: 0.2250005\ttotal: 1.65s\tremaining: 16.6ms\n",
      "198:\tlearn: 0.2249624\ttotal: 1.65s\tremaining: 8.3ms\n",
      "199:\tlearn: 0.2248898\ttotal: 1.66s\tremaining: 0us\n"
     ]
    },
    {
     "data": {
      "text/plain": [
       "{'depth': 3, 'iterations': 200, 'learning_rate': 0.1}"
      ]
     },
     "execution_count": 332,
     "metadata": {},
     "output_type": "execute_result"
    }
   ],
   "source": [
    "catb = CatBoostClassifier()\n",
    "catb_cv_model = GridSearchCV(catb, catb_params, cv=5, n_jobs = -1, verbose = 2)\n",
    "catb_cv_model.fit(X_train, y_train)\n",
    "catb_cv_model.best_params_"
   ]
  },
  {
   "cell_type": "code",
   "execution_count": 333,
   "metadata": {},
   "outputs": [
    {
     "data": {
      "text/plain": [
       "{'depth': 3, 'iterations': 200, 'learning_rate': 0.1}"
      ]
     },
     "execution_count": 333,
     "metadata": {},
     "output_type": "execute_result"
    }
   ],
   "source": [
    "catb_cv_model.best_params_"
   ]
  },
  {
   "cell_type": "code",
   "execution_count": 334,
   "metadata": {},
   "outputs": [
    {
     "name": "stdout",
     "output_type": "stream",
     "text": [
      "0:\tlearn: 0.5889295\ttotal: 9.03ms\tremaining: 1.8s\n",
      "1:\tlearn: 0.5116667\ttotal: 17.6ms\tremaining: 1.74s\n",
      "2:\tlearn: 0.4510519\ttotal: 25.6ms\tremaining: 1.68s\n",
      "3:\tlearn: 0.4053522\ttotal: 33.2ms\tremaining: 1.63s\n",
      "4:\tlearn: 0.3717749\ttotal: 40.1ms\tremaining: 1.56s\n",
      "5:\tlearn: 0.3449388\ttotal: 47ms\tremaining: 1.52s\n",
      "6:\tlearn: 0.3244451\ttotal: 53.7ms\tremaining: 1.48s\n",
      "7:\tlearn: 0.3088035\ttotal: 61.9ms\tremaining: 1.49s\n",
      "8:\tlearn: 0.2964963\ttotal: 70.2ms\tremaining: 1.49s\n",
      "9:\tlearn: 0.2859247\ttotal: 78.1ms\tremaining: 1.48s\n",
      "10:\tlearn: 0.2773822\ttotal: 85.2ms\tremaining: 1.46s\n",
      "11:\tlearn: 0.2710340\ttotal: 91.7ms\tremaining: 1.44s\n",
      "12:\tlearn: 0.2656610\ttotal: 100ms\tremaining: 1.44s\n",
      "13:\tlearn: 0.2613282\ttotal: 108ms\tremaining: 1.43s\n",
      "14:\tlearn: 0.2583190\ttotal: 115ms\tremaining: 1.42s\n",
      "15:\tlearn: 0.2558214\ttotal: 123ms\tremaining: 1.41s\n",
      "16:\tlearn: 0.2531618\ttotal: 129ms\tremaining: 1.39s\n",
      "17:\tlearn: 0.2510982\ttotal: 136ms\tremaining: 1.37s\n",
      "18:\tlearn: 0.2494149\ttotal: 142ms\tremaining: 1.35s\n",
      "19:\tlearn: 0.2481515\ttotal: 149ms\tremaining: 1.34s\n",
      "20:\tlearn: 0.2467912\ttotal: 157ms\tremaining: 1.34s\n",
      "21:\tlearn: 0.2457006\ttotal: 164ms\tremaining: 1.33s\n",
      "22:\tlearn: 0.2446275\ttotal: 171ms\tremaining: 1.31s\n",
      "23:\tlearn: 0.2438725\ttotal: 179ms\tremaining: 1.31s\n",
      "24:\tlearn: 0.2432808\ttotal: 185ms\tremaining: 1.29s\n",
      "25:\tlearn: 0.2427686\ttotal: 193ms\tremaining: 1.29s\n",
      "26:\tlearn: 0.2424039\ttotal: 202ms\tremaining: 1.29s\n",
      "27:\tlearn: 0.2418177\ttotal: 210ms\tremaining: 1.29s\n",
      "28:\tlearn: 0.2412776\ttotal: 218ms\tremaining: 1.28s\n",
      "29:\tlearn: 0.2409736\ttotal: 227ms\tremaining: 1.28s\n",
      "30:\tlearn: 0.2403967\ttotal: 234ms\tremaining: 1.27s\n",
      "31:\tlearn: 0.2401327\ttotal: 241ms\tremaining: 1.26s\n",
      "32:\tlearn: 0.2398798\ttotal: 248ms\tremaining: 1.25s\n",
      "33:\tlearn: 0.2396742\ttotal: 256ms\tremaining: 1.25s\n",
      "34:\tlearn: 0.2391784\ttotal: 263ms\tremaining: 1.24s\n",
      "35:\tlearn: 0.2388484\ttotal: 270ms\tremaining: 1.23s\n",
      "36:\tlearn: 0.2386263\ttotal: 277ms\tremaining: 1.22s\n",
      "37:\tlearn: 0.2384666\ttotal: 285ms\tremaining: 1.22s\n",
      "38:\tlearn: 0.2381254\ttotal: 292ms\tremaining: 1.21s\n",
      "39:\tlearn: 0.2377053\ttotal: 299ms\tremaining: 1.2s\n",
      "40:\tlearn: 0.2373854\ttotal: 309ms\tremaining: 1.2s\n",
      "41:\tlearn: 0.2372056\ttotal: 317ms\tremaining: 1.19s\n",
      "42:\tlearn: 0.2370089\ttotal: 325ms\tremaining: 1.19s\n",
      "43:\tlearn: 0.2368689\ttotal: 333ms\tremaining: 1.18s\n",
      "44:\tlearn: 0.2367567\ttotal: 340ms\tremaining: 1.17s\n",
      "45:\tlearn: 0.2365207\ttotal: 347ms\tremaining: 1.16s\n",
      "46:\tlearn: 0.2363644\ttotal: 354ms\tremaining: 1.15s\n",
      "47:\tlearn: 0.2362062\ttotal: 360ms\tremaining: 1.14s\n",
      "48:\tlearn: 0.2359534\ttotal: 367ms\tremaining: 1.13s\n",
      "49:\tlearn: 0.2357255\ttotal: 376ms\tremaining: 1.13s\n",
      "50:\tlearn: 0.2355820\ttotal: 385ms\tremaining: 1.12s\n",
      "51:\tlearn: 0.2354681\ttotal: 393ms\tremaining: 1.12s\n",
      "52:\tlearn: 0.2350834\ttotal: 401ms\tremaining: 1.11s\n",
      "53:\tlearn: 0.2349151\ttotal: 410ms\tremaining: 1.11s\n",
      "54:\tlearn: 0.2348102\ttotal: 419ms\tremaining: 1.1s\n",
      "55:\tlearn: 0.2347215\ttotal: 427ms\tremaining: 1.1s\n",
      "56:\tlearn: 0.2345715\ttotal: 434ms\tremaining: 1.09s\n",
      "57:\tlearn: 0.2344928\ttotal: 444ms\tremaining: 1.08s\n",
      "58:\tlearn: 0.2343939\ttotal: 450ms\tremaining: 1.08s\n",
      "59:\tlearn: 0.2342767\ttotal: 459ms\tremaining: 1.07s\n",
      "60:\tlearn: 0.2341567\ttotal: 466ms\tremaining: 1.06s\n",
      "61:\tlearn: 0.2340701\ttotal: 474ms\tremaining: 1.05s\n",
      "62:\tlearn: 0.2340120\ttotal: 482ms\tremaining: 1.05s\n",
      "63:\tlearn: 0.2337455\ttotal: 489ms\tremaining: 1.04s\n",
      "64:\tlearn: 0.2335821\ttotal: 495ms\tremaining: 1.03s\n",
      "65:\tlearn: 0.2335032\ttotal: 503ms\tremaining: 1.02s\n",
      "66:\tlearn: 0.2334104\ttotal: 511ms\tremaining: 1.01s\n",
      "67:\tlearn: 0.2333597\ttotal: 518ms\tremaining: 1.01s\n",
      "68:\tlearn: 0.2332132\ttotal: 527ms\tremaining: 1000ms\n",
      "69:\tlearn: 0.2331052\ttotal: 535ms\tremaining: 993ms\n",
      "70:\tlearn: 0.2330128\ttotal: 542ms\tremaining: 984ms\n",
      "71:\tlearn: 0.2329750\ttotal: 550ms\tremaining: 978ms\n",
      "72:\tlearn: 0.2328862\ttotal: 559ms\tremaining: 972ms\n",
      "73:\tlearn: 0.2328171\ttotal: 567ms\tremaining: 965ms\n",
      "74:\tlearn: 0.2327449\ttotal: 576ms\tremaining: 960ms\n",
      "75:\tlearn: 0.2326876\ttotal: 585ms\tremaining: 955ms\n",
      "76:\tlearn: 0.2326222\ttotal: 594ms\tremaining: 949ms\n",
      "77:\tlearn: 0.2325801\ttotal: 602ms\tremaining: 942ms\n",
      "78:\tlearn: 0.2325177\ttotal: 610ms\tremaining: 934ms\n",
      "79:\tlearn: 0.2324186\ttotal: 616ms\tremaining: 924ms\n",
      "80:\tlearn: 0.2323367\ttotal: 628ms\tremaining: 923ms\n",
      "81:\tlearn: 0.2322468\ttotal: 637ms\tremaining: 917ms\n",
      "82:\tlearn: 0.2321946\ttotal: 644ms\tremaining: 908ms\n",
      "83:\tlearn: 0.2318230\ttotal: 652ms\tremaining: 900ms\n",
      "84:\tlearn: 0.2317810\ttotal: 660ms\tremaining: 893ms\n",
      "85:\tlearn: 0.2317138\ttotal: 668ms\tremaining: 885ms\n",
      "86:\tlearn: 0.2316693\ttotal: 676ms\tremaining: 877ms\n",
      "87:\tlearn: 0.2316317\ttotal: 682ms\tremaining: 868ms\n",
      "88:\tlearn: 0.2315844\ttotal: 690ms\tremaining: 860ms\n",
      "89:\tlearn: 0.2312739\ttotal: 697ms\tremaining: 851ms\n",
      "90:\tlearn: 0.2312064\ttotal: 702ms\tremaining: 841ms\n",
      "91:\tlearn: 0.2309826\ttotal: 708ms\tremaining: 832ms\n",
      "92:\tlearn: 0.2309134\ttotal: 716ms\tremaining: 824ms\n",
      "93:\tlearn: 0.2307301\ttotal: 723ms\tremaining: 815ms\n",
      "94:\tlearn: 0.2306592\ttotal: 731ms\tremaining: 808ms\n",
      "95:\tlearn: 0.2306203\ttotal: 740ms\tremaining: 801ms\n",
      "96:\tlearn: 0.2305238\ttotal: 748ms\tremaining: 794ms\n",
      "97:\tlearn: 0.2304561\ttotal: 758ms\tremaining: 789ms\n",
      "98:\tlearn: 0.2303459\ttotal: 766ms\tremaining: 782ms\n",
      "99:\tlearn: 0.2303335\ttotal: 774ms\tremaining: 774ms\n",
      "100:\tlearn: 0.2302765\ttotal: 783ms\tremaining: 767ms\n",
      "101:\tlearn: 0.2302224\ttotal: 791ms\tremaining: 760ms\n",
      "102:\tlearn: 0.2301760\ttotal: 800ms\tremaining: 754ms\n",
      "103:\tlearn: 0.2300216\ttotal: 807ms\tremaining: 745ms\n",
      "104:\tlearn: 0.2299492\ttotal: 814ms\tremaining: 737ms\n",
      "105:\tlearn: 0.2298680\ttotal: 822ms\tremaining: 729ms\n",
      "106:\tlearn: 0.2297802\ttotal: 829ms\tremaining: 720ms\n",
      "107:\tlearn: 0.2297172\ttotal: 836ms\tremaining: 713ms\n",
      "108:\tlearn: 0.2296822\ttotal: 844ms\tremaining: 705ms\n",
      "109:\tlearn: 0.2296639\ttotal: 852ms\tremaining: 697ms\n",
      "110:\tlearn: 0.2296506\ttotal: 859ms\tremaining: 689ms\n",
      "111:\tlearn: 0.2295717\ttotal: 866ms\tremaining: 680ms\n",
      "112:\tlearn: 0.2294282\ttotal: 873ms\tremaining: 672ms\n",
      "113:\tlearn: 0.2294208\ttotal: 883ms\tremaining: 666ms\n",
      "114:\tlearn: 0.2294005\ttotal: 893ms\tremaining: 660ms\n",
      "115:\tlearn: 0.2293315\ttotal: 899ms\tremaining: 651ms\n",
      "116:\tlearn: 0.2291342\ttotal: 906ms\tremaining: 643ms\n",
      "117:\tlearn: 0.2291033\ttotal: 914ms\tremaining: 635ms\n",
      "118:\tlearn: 0.2290330\ttotal: 923ms\tremaining: 628ms\n",
      "119:\tlearn: 0.2290176\ttotal: 932ms\tremaining: 621ms\n",
      "120:\tlearn: 0.2290062\ttotal: 940ms\tremaining: 614ms\n",
      "121:\tlearn: 0.2289259\ttotal: 948ms\tremaining: 606ms\n",
      "122:\tlearn: 0.2288537\ttotal: 954ms\tremaining: 597ms\n",
      "123:\tlearn: 0.2287687\ttotal: 963ms\tremaining: 590ms\n",
      "124:\tlearn: 0.2287305\ttotal: 971ms\tremaining: 582ms\n",
      "125:\tlearn: 0.2286833\ttotal: 978ms\tremaining: 574ms\n",
      "126:\tlearn: 0.2284794\ttotal: 985ms\tremaining: 566ms\n",
      "127:\tlearn: 0.2284697\ttotal: 993ms\tremaining: 559ms\n",
      "128:\tlearn: 0.2284616\ttotal: 1s\tremaining: 551ms\n",
      "129:\tlearn: 0.2283844\ttotal: 1.01s\tremaining: 542ms\n",
      "130:\tlearn: 0.2283217\ttotal: 1.01s\tremaining: 535ms\n",
      "131:\tlearn: 0.2282638\ttotal: 1.02s\tremaining: 527ms\n",
      "132:\tlearn: 0.2282198\ttotal: 1.03s\tremaining: 519ms\n",
      "133:\tlearn: 0.2281998\ttotal: 1.04s\tremaining: 511ms\n",
      "134:\tlearn: 0.2281650\ttotal: 1.05s\tremaining: 504ms\n",
      "135:\tlearn: 0.2281134\ttotal: 1.05s\tremaining: 497ms\n",
      "136:\tlearn: 0.2280532\ttotal: 1.06s\tremaining: 489ms\n",
      "137:\tlearn: 0.2280138\ttotal: 1.07s\tremaining: 482ms\n",
      "138:\tlearn: 0.2278523\ttotal: 1.08s\tremaining: 474ms\n",
      "139:\tlearn: 0.2278174\ttotal: 1.09s\tremaining: 467ms\n",
      "140:\tlearn: 0.2277754\ttotal: 1.1s\tremaining: 460ms\n",
      "141:\tlearn: 0.2277044\ttotal: 1.11s\tremaining: 453ms\n",
      "142:\tlearn: 0.2275608\ttotal: 1.12s\tremaining: 445ms\n",
      "143:\tlearn: 0.2275538\ttotal: 1.13s\tremaining: 438ms\n",
      "144:\tlearn: 0.2274597\ttotal: 1.13s\tremaining: 430ms\n",
      "145:\tlearn: 0.2273261\ttotal: 1.14s\tremaining: 422ms\n",
      "146:\tlearn: 0.2272952\ttotal: 1.15s\tremaining: 414ms\n",
      "147:\tlearn: 0.2271807\ttotal: 1.16s\tremaining: 406ms\n",
      "148:\tlearn: 0.2271080\ttotal: 1.16s\tremaining: 398ms\n",
      "149:\tlearn: 0.2270679\ttotal: 1.17s\tremaining: 390ms\n",
      "150:\tlearn: 0.2270082\ttotal: 1.18s\tremaining: 382ms\n",
      "151:\tlearn: 0.2269821\ttotal: 1.19s\tremaining: 374ms\n",
      "152:\tlearn: 0.2269298\ttotal: 1.19s\tremaining: 367ms\n",
      "153:\tlearn: 0.2268916\ttotal: 1.2s\tremaining: 359ms\n",
      "154:\tlearn: 0.2268384\ttotal: 1.21s\tremaining: 351ms\n",
      "155:\tlearn: 0.2268067\ttotal: 1.22s\tremaining: 343ms\n",
      "156:\tlearn: 0.2267698\ttotal: 1.22s\tremaining: 335ms\n",
      "157:\tlearn: 0.2266633\ttotal: 1.23s\tremaining: 327ms\n",
      "158:\tlearn: 0.2266135\ttotal: 1.24s\tremaining: 319ms\n",
      "159:\tlearn: 0.2265531\ttotal: 1.24s\tremaining: 311ms\n",
      "160:\tlearn: 0.2265470\ttotal: 1.25s\tremaining: 303ms\n",
      "161:\tlearn: 0.2265197\ttotal: 1.26s\tremaining: 296ms\n"
     ]
    },
    {
     "name": "stdout",
     "output_type": "stream",
     "text": [
      "162:\tlearn: 0.2264949\ttotal: 1.27s\tremaining: 288ms\n",
      "163:\tlearn: 0.2264377\ttotal: 1.28s\tremaining: 281ms\n",
      "164:\tlearn: 0.2264125\ttotal: 1.29s\tremaining: 273ms\n",
      "165:\tlearn: 0.2263760\ttotal: 1.3s\tremaining: 266ms\n",
      "166:\tlearn: 0.2263270\ttotal: 1.3s\tremaining: 257ms\n",
      "167:\tlearn: 0.2263218\ttotal: 1.31s\tremaining: 250ms\n",
      "168:\tlearn: 0.2262818\ttotal: 1.32s\tremaining: 242ms\n",
      "169:\tlearn: 0.2262696\ttotal: 1.33s\tremaining: 234ms\n",
      "170:\tlearn: 0.2262368\ttotal: 1.33s\tremaining: 226ms\n",
      "171:\tlearn: 0.2261886\ttotal: 1.34s\tremaining: 218ms\n",
      "172:\tlearn: 0.2261483\ttotal: 1.35s\tremaining: 210ms\n",
      "173:\tlearn: 0.2261097\ttotal: 1.35s\tremaining: 202ms\n",
      "174:\tlearn: 0.2260513\ttotal: 1.36s\tremaining: 195ms\n",
      "175:\tlearn: 0.2259973\ttotal: 1.37s\tremaining: 187ms\n",
      "176:\tlearn: 0.2259932\ttotal: 1.38s\tremaining: 179ms\n",
      "177:\tlearn: 0.2259589\ttotal: 1.39s\tremaining: 171ms\n",
      "178:\tlearn: 0.2259549\ttotal: 1.39s\tremaining: 164ms\n",
      "179:\tlearn: 0.2259191\ttotal: 1.4s\tremaining: 156ms\n",
      "180:\tlearn: 0.2258715\ttotal: 1.41s\tremaining: 148ms\n",
      "181:\tlearn: 0.2258083\ttotal: 1.41s\tremaining: 140ms\n",
      "182:\tlearn: 0.2257986\ttotal: 1.42s\tremaining: 132ms\n",
      "183:\tlearn: 0.2257595\ttotal: 1.43s\tremaining: 124ms\n",
      "184:\tlearn: 0.2256278\ttotal: 1.44s\tremaining: 116ms\n",
      "185:\tlearn: 0.2255252\ttotal: 1.45s\tremaining: 109ms\n",
      "186:\tlearn: 0.2254781\ttotal: 1.46s\tremaining: 101ms\n",
      "187:\tlearn: 0.2254411\ttotal: 1.46s\tremaining: 93.4ms\n",
      "188:\tlearn: 0.2253924\ttotal: 1.47s\tremaining: 85.6ms\n",
      "189:\tlearn: 0.2253465\ttotal: 1.48s\tremaining: 77.9ms\n",
      "190:\tlearn: 0.2253008\ttotal: 1.49s\tremaining: 70.1ms\n",
      "191:\tlearn: 0.2252192\ttotal: 1.49s\tremaining: 62.3ms\n",
      "192:\tlearn: 0.2251823\ttotal: 1.5s\tremaining: 54.5ms\n",
      "193:\tlearn: 0.2251481\ttotal: 1.51s\tremaining: 46.7ms\n",
      "194:\tlearn: 0.2251000\ttotal: 1.52s\tremaining: 38.9ms\n",
      "195:\tlearn: 0.2250583\ttotal: 1.52s\tremaining: 31.1ms\n",
      "196:\tlearn: 0.2250384\ttotal: 1.53s\tremaining: 23.3ms\n",
      "197:\tlearn: 0.2250005\ttotal: 1.54s\tremaining: 15.6ms\n",
      "198:\tlearn: 0.2249624\ttotal: 1.55s\tremaining: 7.77ms\n",
      "199:\tlearn: 0.2248898\ttotal: 1.55s\tremaining: 0us\n"
     ]
    }
   ],
   "source": [
    "catb = CatBoostClassifier(iterations = 200, \n",
    "                          learning_rate = 0.1, \n",
    "                          depth = 3)\n",
    "\n",
    "catb_tuned = catb.fit(X_train, y_train)\n",
    "y_pred = catb_tuned.predict(X_test)"
   ]
  },
  {
   "cell_type": "code",
   "execution_count": 335,
   "metadata": {},
   "outputs": [
    {
     "data": {
      "text/plain": [
       "0.92825"
      ]
     },
     "execution_count": 335,
     "metadata": {},
     "output_type": "execute_result"
    }
   ],
   "source": [
    "y_pred = catb_tuned.predict(X_test)\n",
    "accuracy_score(y_test, y_pred)"
   ]
  },
  {
   "cell_type": "code",
   "execution_count": 336,
   "metadata": {},
   "outputs": [
    {
     "name": "stdout",
     "output_type": "stream",
     "text": [
      "Confusion Matrix \n",
      "\n"
     ]
    },
    {
     "data": {
      "image/png": "[encoded data removed]",
      "text/plain": [
       "<Figure size 432x288 with 2 Axes>"
      ]
     },
     "metadata": {
      "needs_background": "light"
     },
     "output_type": "display_data"
    },
    {
     "name": "stdout",
     "output_type": "stream",
     "text": [
      "\n",
      "\n"
     ]
    }
   ],
   "source": [
    "print(\"Confusion Matrix\",\"\\n\")\n",
    "score = round(accuracy_score(y_test, y_pred),3) \n",
    "cm1 = cm(y_test, catb_tuned.predict(X_test))\n",
    "sns.heatmap(cm1, annot=True, fmt=\".1f\", linewidths=.3, \n",
    "        square = True, cmap = 'PuBu')\n",
    "plt.ylabel('Actual label')\n",
    "plt.xlabel('Predicted label')\n",
    "plt.title('Accuracy Score: {0}'.format(score), size = 12)\n",
    "plt.show()\n",
    "print(\"\\n\")"
   ]
  },
  {
   "cell_type": "markdown",
   "metadata": {},
   "source": [
    "### Hata"
   ]
  },
  {
   "cell_type": "code",
   "execution_count": 341,
   "metadata": {},
   "outputs": [
    {
     "name": "stdout",
     "output_type": "stream",
     "text": [
      "Mean Absolute Error (MAE): 0.07\n",
      "Mean Squared Error (MSE): 0.07\n",
      "Root Mean Squared Error (RMSE): 0.27\n"
     ]
    }
   ],
   "source": [
    "mae = mean_absolute_error(y_pred, y_test)\n",
    "mse = mean_squared_error(y_pred, y_test)\n",
    "rmse = np.sqrt(mse)\n",
    "print('Mean Absolute Error (MAE): %.2f' % mae)\n",
    "print('Mean Squared Error (MSE): %.2f' % mse)\n",
    "print('Root Mean Squared Error (RMSE): %.2f' % rmse)"
   ]
  },
  {
   "cell_type": "markdown",
   "metadata": {},
   "source": [
    "### Cohen-Matthew Score"
   ]
  },
  {
   "cell_type": "code",
   "execution_count": 342,
   "metadata": {},
   "outputs": [
    {
     "name": "stdout",
     "output_type": "stream",
     "text": [
      "Cohen Score 0.09737073845766775\n",
      "Matthew Score 0.16075892819487733\n"
     ]
    }
   ],
   "source": [
    "print(\"Cohen Score\",cohen_kappa_score(y_test, y_pred))\n",
    "print(\"Matthew Score\",matthews_corrcoef(y_test, y_pred))"
   ]
  },
  {
   "cell_type": "markdown",
   "metadata": {},
   "source": [
    "# Tüm Modellerin Karşılaştırılması"
   ]
  },
  {
   "cell_type": "code",
   "execution_count": 366,
   "metadata": {},
   "outputs": [
    {
     "name": "stdout",
     "output_type": "stream",
     "text": [
      "----------------------------\n",
      "KNeighborsClassifier:\n",
      "Accuracy: 70.7250%\n",
      "----------------------------\n",
      "LogisticRegression:\n",
      "Accuracy: 66.8500%\n",
      "----------------------------\n",
      "SVC:\n",
      "Accuracy: 72.2875%\n",
      "----------------------------\n",
      "GaussianNB:\n",
      "Accuracy: 22.1875%\n",
      "----------------------------\n",
      "MLPClassifier:\n",
      "Accuracy: 92.7500%\n",
      "----------------------------\n",
      "DecisionTreeClassifier:\n",
      "Accuracy: 61.3250%\n",
      "----------------------------\n",
      "RandomForestClassifier:\n",
      "Accuracy: 77.3000%\n",
      "----------------------------\n",
      "GradientBoostingClassifier:\n",
      "Accuracy: 92.2250%\n",
      "----------------------------\n",
      "CatBoostClassifier:\n",
      "Accuracy: 92.8250%\n",
      "----------------------------\n",
      "LGBMClassifier:\n",
      "Accuracy: 93.0250%\n",
      "----------------------------\n",
      "XGBClassifier:\n",
      "Accuracy: 90.8000%\n"
     ]
    }
   ],
   "source": [
    "modeller = [\n",
    "    knn_tuned,\n",
    "    loj_model,\n",
    "    svc_tuned,\n",
    "    nb_model,\n",
    "    mlpc_tuned,\n",
    "    cart_tuned,\n",
    "    rf_tuned,\n",
    "    gbm_tuned,\n",
    "    catb_tuned,\n",
    "    lgbm_tuned,\n",
    "    xgb_tuned\n",
    "    \n",
    "]\n",
    "\n",
    "\n",
    "for model in modeller:\n",
    "    isimler = model.__class__.__name__\n",
    "    y_pred = model.predict(X_test)\n",
    "    dogruluk = accuracy_score(y_test, y_pred)\n",
    "    print(\"-\"*28)\n",
    "    print(isimler + \":\" )\n",
    "    print(\"Accuracy: {:.4%}\".format(dogruluk))"
   ]
  },
  {
   "cell_type": "code",
   "execution_count": 367,
   "metadata": {},
   "outputs": [
    {
     "data": {
      "image/png": "[encoded data removed]",
      "text/plain": [
       "<Figure size 432x288 with 1 Axes>"
      ]
     },
     "metadata": {
      "needs_background": "light"
     },
     "output_type": "display_data"
    }
   ],
   "source": [
    "sonuc = []\n",
    "\n",
    "sonuclar = pd.DataFrame(columns= [\"Modeller\",\"Accuracy\"])\n",
    "\n",
    "for model in modeller:\n",
    "    isimler = model.__class__.__name__\n",
    "    y_pred = model.predict(X_test)\n",
    "    dogruluk = accuracy_score(y_test, y_pred)    \n",
    "    sonuc = pd.DataFrame([[isimler, dogruluk*100]], columns= [\"Modeller\",\"Accuracy\"])\n",
    "    sonuclar = sonuclar.append(sonuc)\n",
    "    \n",
    "    \n",
    "sns.barplot(x= 'Accuracy', y = 'Modeller', data=sonuclar, color=\"r\")\n",
    "plt.xlabel('Accuracy %')\n",
    "plt.title('Modellerin Doğruluk Oranları');    "
   ]
  },
  {
   "cell_type": "code",
   "execution_count": 368,
   "metadata": {},
   "outputs": [
    {
     "name": "stdout",
     "output_type": "stream",
     "text": [
      "----------------------------\n",
      "KNeighborsClassifier:\n",
      "Mean Absolute Error (MAE): 0.29\n",
      "----------------------------\n",
      "LogisticRegression:\n",
      "Mean Absolute Error (MAE): 0.33\n",
      "----------------------------\n",
      "SVC:\n",
      "Mean Absolute Error (MAE): 0.28\n",
      "----------------------------\n",
      "GaussianNB:\n",
      "Mean Absolute Error (MAE): 0.78\n",
      "----------------------------\n",
      "MLPClassifier:\n",
      "Mean Absolute Error (MAE): 0.07\n",
      "----------------------------\n",
      "DecisionTreeClassifier:\n",
      "Mean Absolute Error (MAE): 0.39\n",
      "----------------------------\n",
      "RandomForestClassifier:\n",
      "Mean Absolute Error (MAE): 0.23\n",
      "----------------------------\n",
      "GradientBoostingClassifier:\n",
      "Mean Absolute Error (MAE): 0.08\n",
      "----------------------------\n",
      "CatBoostClassifier:\n",
      "Mean Absolute Error (MAE): 0.07\n",
      "----------------------------\n",
      "LGBMClassifier:\n",
      "Mean Absolute Error (MAE): 0.07\n",
      "----------------------------\n",
      "XGBClassifier:\n",
      "Mean Absolute Error (MAE): 0.09\n"
     ]
    }
   ],
   "source": [
    "modeller = [\n",
    "    knn_tuned,\n",
    "    loj_model,\n",
    "    svc_tuned,\n",
    "    nb_model,\n",
    "    mlpc_tuned,\n",
    "    cart_tuned,\n",
    "    rf_tuned,\n",
    "    gbm_tuned,\n",
    "    catb_tuned,\n",
    "    lgbm_tuned,\n",
    "    xgb_tuned\n",
    "    \n",
    "]\n",
    "\n",
    "\n",
    "for model in modeller:\n",
    "    isimler = model.__class__.__name__\n",
    "    y_pred = model.predict(X_test)\n",
    "    dogruluk = accuracy_score(y_test, y_pred)\n",
    "    print(\"-\"*28)\n",
    "    print(isimler + \":\" )\n",
    "    mae = mean_absolute_error(y_pred, y_test)\n",
    "    print('Mean Absolute Error (MAE): %.2f' % mae)"
   ]
  },
  {
   "cell_type": "code",
   "execution_count": 372,
   "metadata": {},
   "outputs": [
    {
     "data": {
      "image/png": "[encoded data removed]",
      "text/plain": [
       "<Figure size 432x288 with 1 Axes>"
      ]
     },
     "metadata": {
      "needs_background": "light"
     },
     "output_type": "display_data"
    }
   ],
   "source": [
    "sonuc = []\n",
    "\n",
    "sonuclar = pd.DataFrame(columns= [\"Modeller\",\"MAE\"])\n",
    "\n",
    "for model in modeller:\n",
    "    isimler = model.__class__.__name__\n",
    "    y_pred = model.predict(X_test)\n",
    "    dogruluk = accuracy_score(y_test, y_pred)  \n",
    "    mae = mean_absolute_error(y_pred, y_test)\n",
    "    sonuc = pd.DataFrame([[isimler, mae]], columns= [\"Modeller\",\"MAE\"])\n",
    "    sonuclar = sonuclar.append(sonuc)\n",
    "    \n",
    "    \n",
    "sns.barplot(x= 'MAE', y = 'Modeller', data=sonuclar, color=\"b\")\n",
    "plt.xlabel('MAE')\n",
    "plt.title('Modellerin MAE Hata Oranları');  "
   ]
  },
  {
   "cell_type": "code",
   "execution_count": 369,
   "metadata": {},
   "outputs": [
    {
     "name": "stdout",
     "output_type": "stream",
     "text": [
      "----------------------------\n",
      "KNeighborsClassifier:\n",
      "Mean Squared Error (MSE): 0.29\n",
      "----------------------------\n",
      "LogisticRegression:\n",
      "Mean Squared Error (MSE): 0.33\n",
      "----------------------------\n",
      "SVC:\n",
      "Mean Squared Error (MSE): 0.28\n",
      "----------------------------\n",
      "GaussianNB:\n",
      "Mean Squared Error (MSE): 0.78\n",
      "----------------------------\n",
      "MLPClassifier:\n",
      "Mean Squared Error (MSE): 0.07\n",
      "----------------------------\n",
      "DecisionTreeClassifier:\n",
      "Mean Squared Error (MSE): 0.39\n",
      "----------------------------\n",
      "RandomForestClassifier:\n",
      "Mean Squared Error (MSE): 0.23\n",
      "----------------------------\n",
      "GradientBoostingClassifier:\n",
      "Mean Squared Error (MSE): 0.08\n",
      "----------------------------\n",
      "CatBoostClassifier:\n",
      "Mean Squared Error (MSE): 0.07\n",
      "----------------------------\n",
      "LGBMClassifier:\n",
      "Mean Squared Error (MSE): 0.07\n",
      "----------------------------\n",
      "XGBClassifier:\n",
      "Mean Squared Error (MSE): 0.09\n"
     ]
    }
   ],
   "source": [
    "modeller = [\n",
    "    knn_tuned,\n",
    "    loj_model,\n",
    "    svc_tuned,\n",
    "    nb_model,\n",
    "    mlpc_tuned,\n",
    "    cart_tuned,\n",
    "    rf_tuned,\n",
    "    gbm_tuned,\n",
    "    catb_tuned,\n",
    "    lgbm_tuned,\n",
    "    xgb_tuned\n",
    "    \n",
    "]\n",
    "\n",
    "\n",
    "for model in modeller:\n",
    "    isimler = model.__class__.__name__\n",
    "    y_pred = model.predict(X_test)\n",
    "    dogruluk = accuracy_score(y_test, y_pred)\n",
    "    print(\"-\"*28)\n",
    "    print(isimler + \":\" )\n",
    "    mse = mean_squared_error(y_pred, y_test)\n",
    "    print('Mean Squared Error (MSE): %.2f' % mse)"
   ]
  },
  {
   "cell_type": "code",
   "execution_count": 374,
   "metadata": {},
   "outputs": [
    {
     "data": {
      "image/png": "[encoded data removed]",
      "text/plain": [
       "<Figure size 432x288 with 1 Axes>"
      ]
     },
     "metadata": {
      "needs_background": "light"
     },
     "output_type": "display_data"
    }
   ],
   "source": [
    "sonuc = []\n",
    "\n",
    "sonuclar = pd.DataFrame(columns= [\"Modeller\",\"MSE\"])\n",
    "\n",
    "for model in modeller:\n",
    "    isimler = model.__class__.__name__\n",
    "    y_pred = model.predict(X_test)\n",
    "    dogruluk = accuracy_score(y_test, y_pred)  \n",
    "    mse = mean_squared_error(y_pred, y_test)\n",
    "    sonuc = pd.DataFrame([[isimler, mse]], columns= [\"Modeller\",\"MSE\"])\n",
    "    sonuclar = sonuclar.append(sonuc)\n",
    "    \n",
    "    \n",
    "sns.barplot(x= 'MSE', y = 'Modeller', data=sonuclar, color=\"b\")\n",
    "plt.xlabel('MSE')\n",
    "plt.title('Modellerin MSE Hata Oranları');  "
   ]
  },
  {
   "cell_type": "code",
   "execution_count": 375,
   "metadata": {},
   "outputs": [
    {
     "name": "stdout",
     "output_type": "stream",
     "text": [
      "----------------------------\n",
      "KNeighborsClassifier:\n",
      "Root Mean Squared Error (RMSE): 0.54\n",
      "----------------------------\n",
      "LogisticRegression:\n",
      "Root Mean Squared Error (RMSE): 0.58\n",
      "----------------------------\n",
      "SVC:\n",
      "Root Mean Squared Error (RMSE): 0.53\n",
      "----------------------------\n",
      "GaussianNB:\n",
      "Root Mean Squared Error (RMSE): 0.88\n",
      "----------------------------\n",
      "MLPClassifier:\n",
      "Root Mean Squared Error (RMSE): 0.27\n",
      "----------------------------\n",
      "DecisionTreeClassifier:\n",
      "Root Mean Squared Error (RMSE): 0.62\n",
      "----------------------------\n",
      "RandomForestClassifier:\n",
      "Root Mean Squared Error (RMSE): 0.48\n",
      "----------------------------\n",
      "GradientBoostingClassifier:\n",
      "Root Mean Squared Error (RMSE): 0.28\n",
      "----------------------------\n",
      "CatBoostClassifier:\n",
      "Root Mean Squared Error (RMSE): 0.27\n",
      "----------------------------\n",
      "LGBMClassifier:\n",
      "Root Mean Squared Error (RMSE): 0.26\n",
      "----------------------------\n",
      "XGBClassifier:\n",
      "Root Mean Squared Error (RMSE): 0.30\n"
     ]
    }
   ],
   "source": [
    "modeller = [\n",
    "    knn_tuned,\n",
    "    loj_model,\n",
    "    svc_tuned,\n",
    "    nb_model,\n",
    "    mlpc_tuned,\n",
    "    cart_tuned,\n",
    "    rf_tuned,\n",
    "    gbm_tuned,\n",
    "    catb_tuned,\n",
    "    lgbm_tuned,\n",
    "    xgb_tuned\n",
    "    \n",
    "]\n",
    "\n",
    "\n",
    "for model in modeller:\n",
    "    isimler = model.__class__.__name__\n",
    "    y_pred = model.predict(X_test)\n",
    "    dogruluk = accuracy_score(y_test, y_pred)\n",
    "    print(\"-\"*28)\n",
    "    print(isimler + \":\" )\n",
    "    mse = mean_squared_error(y_pred, y_test)\n",
    "    rmse=np.sqrt(mse)\n",
    "    print('Root Mean Squared Error (RMSE): %.2f' % rmse)"
   ]
  },
  {
   "cell_type": "code",
   "execution_count": 376,
   "metadata": {},
   "outputs": [
    {
     "data": {
      "image/png": "[encoded data removed]",
      "text/plain": [
       "<Figure size 432x288 with 1 Axes>"
      ]
     },
     "metadata": {
      "needs_background": "light"
     },
     "output_type": "display_data"
    }
   ],
   "source": [
    "sonuc = []\n",
    "\n",
    "sonuclar = pd.DataFrame(columns= [\"Modeller\",\"RMSE\"])\n",
    "\n",
    "for model in modeller:\n",
    "    isimler = model.__class__.__name__\n",
    "    y_pred = model.predict(X_test)\n",
    "    dogruluk = accuracy_score(y_test, y_pred)  \n",
    "    mse = mean_squared_error(y_pred, y_test)\n",
    "    rmse=np.sqrt(mse)\n",
    "    sonuc = pd.DataFrame([[isimler, rmse]], columns= [\"Modeller\",\"RMSE\"])\n",
    "    sonuclar = sonuclar.append(sonuc)\n",
    "    \n",
    "    \n",
    "sns.barplot(x= 'RMSE', y = 'Modeller', data=sonuclar, color=\"b\")\n",
    "plt.xlabel('RMSE')\n",
    "plt.title('Modellerin RMSE Hata Oranları');  "
   ]
  },
  {
   "cell_type": "code",
   "execution_count": 378,
   "metadata": {},
   "outputs": [
    {
     "data": {
      "image/png": "[encoded data removed]",
      "text/plain": [
       "<Figure size 432x288 with 1 Axes>"
      ]
     },
     "metadata": {
      "needs_background": "light"
     },
     "output_type": "display_data"
    }
   ],
   "source": [
    "sonuc = []\n",
    "\n",
    "sonuclar = pd.DataFrame(columns= [\"Modeller\",\"Cohen Score\"])\n",
    "\n",
    "for model in modeller:\n",
    "    isimler = model.__class__.__name__\n",
    "    y_pred = model.predict(X_test)\n",
    "    dogruluk = accuracy_score(y_test, y_pred)  \n",
    "    cohen=cohen_kappa_score(y_test, y_pred)\n",
    "    sonuc = pd.DataFrame([[isimler, cohen]], columns= [\"Modeller\",\"Cohen Score\"])\n",
    "    sonuclar = sonuclar.append(sonuc)\n",
    "    \n",
    "    \n",
    "sns.barplot(x= 'Cohen Score', y = 'Modeller', data=sonuclar, color=\"g\")\n",
    "plt.xlabel('Cohen Score')\n",
    "plt.title('Modellerin Cohen Score Oranları');  "
   ]
  },
  {
   "cell_type": "code",
   "execution_count": 381,
   "metadata": {},
   "outputs": [
    {
     "data": {
      "image/png": "[encoded data removed]",
      "text/plain": [
       "<Figure size 432x288 with 1 Axes>"
      ]
     },
     "metadata": {
      "needs_background": "light"
     },
     "output_type": "display_data"
    }
   ],
   "source": [
    "sonuc = []\n",
    "\n",
    "sonuclar = pd.DataFrame(columns= [\"Modeller\",\"Matthew Score\"])\n",
    "\n",
    "for model in modeller:\n",
    "    isimler = model.__class__.__name__\n",
    "    y_pred = model.predict(X_test)\n",
    "    dogruluk = accuracy_score(y_test, y_pred)  \n",
    "    matthews=matthews_corrcoef(y_test, y_pred)\n",
    "    sonuc = pd.DataFrame([[isimler, matthews]], columns= [\"Modeller\",\"Matthew Score\"])\n",
    "    sonuclar = sonuclar.append(sonuc)\n",
    "    \n",
    "    \n",
    "sns.barplot(x= 'Matthew Score', y = 'Modeller', data=sonuclar, color=\"y\")\n",
    "plt.xlabel('Matthew Score')\n",
    "plt.title('Modellerin Matthew Score Oranları'); "
   ]
  },
  {
   "cell_type": "markdown",
   "metadata": {},
   "source": [
    "## Sonuç"
   ]
  },
  {
   "cell_type": "markdown",
   "metadata": {},
   "source": [
    "Bu çalışmada, bir müşterinin vadeli hesap yatırım ürünü kullanma kararı üzerinde etkili olan faktörlerin sınıflandırılması, sınıflandırma modellerinin performans ölçümleri sonucunda en iyi modelin seçilmesi amaçlanmıştır.\n",
    "Veri seti 40.000 kayıt içermektedir.Eksik veri tespit edilmemiştir.Değişkenler arasındaki ilişkiler incelenmiştir ve campaign bağımlı değişkeni için en önemli değişken duration olarak tespit edilmiştir.Kampanyaya olumlu geri dönüş yapma olasılığı, son iletişim süresi arttıkça artmaktadır. Ayrıca yıllık gelir değişkeniyle yaş değişkeni arasında pozitif korelasyon tespit edilmiştir.Veri ön işleme işlemleri yapıldıktan sonra veriye tüm sınıflandırma modelleri uygulanmıştır ve modeller için en uygun parametreler seçildikten sonra modellerin doğruluk oranları tespit edilmiştir.Daha sonra MSE,MAE ve RMSE hata oranları bulunup Cohen ve Matthew Score'ları da bulunduktan sonra en uygun modelin LightGBM olduğuna karar verilmiştir.Model %93.025 oranında doğru sonuç vermektedir."
   ]
  },
  {
   "cell_type": "code",
   "execution_count": null,
   "metadata": {},
   "outputs": [],
   "source": []
  }
 ],
 "metadata": {
  "kernelspec": {
   "display_name": "Python 3",
   "language": "python",
   "name": "python3"
  },
  "language_info": {
   "codemirror_mode": {
    "name": "ipython",
    "version": 3
   },
   "file_extension": ".py",
   "mimetype": "text/x-python",
   "name": "python",
   "nbconvert_exporter": "python",
   "pygments_lexer": "ipython3",
   "version": "3.8.5"
  }
 },
 "nbformat": 4,
 "nbformat_minor": 2
}
